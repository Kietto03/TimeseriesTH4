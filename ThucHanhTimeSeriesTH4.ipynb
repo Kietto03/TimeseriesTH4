{
 "cells": [
  {
   "cell_type": "code",
   "execution_count": 152,
   "id": "f3f7caf5-2536-4c4c-a75c-61314cc2291a",
   "metadata": {},
   "outputs": [],
   "source": [
    "import numpy as np\n",
    "import pandas as pd\n",
    "import seaborn as sns\n",
    "import matplotlib.pyplot as plt\n",
    "from sklearn.gaussian_process import GaussianProcessRegressor\n",
    "from sklearn.gaussian_process.kernels import RBF, ConstantKernel as C\n",
    "from sklearn.model_selection import train_test_split\n",
    "from sklearn.metrics import mean_squared_error, r2_score\n",
    "import numpy as np\n",
    "import pandas as pd\n",
    "from sklearn.preprocessing import StandardScaler\n",
    "from sklearn.mixture import BayesianGaussianMixture\n",
    "import matplotlib.pyplot as plt\n",
    "import seaborn as sns"
   ]
  },
  {
   "cell_type": "code",
   "execution_count": 153,
   "id": "d88fddec-a089-4aa8-9eb9-b8b2d577ba3d",
   "metadata": {},
   "outputs": [
    {
     "data": {
      "text/plain": [
       "4"
      ]
     },
     "execution_count": 153,
     "metadata": {},
     "output_type": "execute_result"
    }
   ],
   "source": [
    "2151261235 % 16 + 1"
   ]
  },
  {
   "cell_type": "code",
   "execution_count": 192,
   "id": "b68a2b42-46df-49a5-a3a8-54beedaa6d60",
   "metadata": {},
   "outputs": [
    {
     "data": {
      "text/html": [
       "<div>\n",
       "<style scoped>\n",
       "    .dataframe tbody tr th:only-of-type {\n",
       "        vertical-align: middle;\n",
       "    }\n",
       "\n",
       "    .dataframe tbody tr th {\n",
       "        vertical-align: top;\n",
       "    }\n",
       "\n",
       "    .dataframe thead th {\n",
       "        text-align: right;\n",
       "    }\n",
       "</style>\n",
       "<table border=\"1\" class=\"dataframe\">\n",
       "  <thead>\n",
       "    <tr style=\"text-align: right;\">\n",
       "      <th></th>\n",
       "      <th>Ngày</th>\n",
       "      <th>1</th>\n",
       "      <th>2</th>\n",
       "      <th>3</th>\n",
       "      <th>4</th>\n",
       "      <th>5</th>\n",
       "      <th>6</th>\n",
       "      <th>7</th>\n",
       "      <th>8</th>\n",
       "      <th>9</th>\n",
       "      <th>...</th>\n",
       "      <th>39</th>\n",
       "      <th>40</th>\n",
       "      <th>41</th>\n",
       "      <th>42</th>\n",
       "      <th>43</th>\n",
       "      <th>44</th>\n",
       "      <th>45</th>\n",
       "      <th>46</th>\n",
       "      <th>47</th>\n",
       "      <th>48</th>\n",
       "    </tr>\n",
       "  </thead>\n",
       "  <tbody>\n",
       "    <tr>\n",
       "      <th>0</th>\n",
       "      <td>1/1/2021</td>\n",
       "      <td>964.4</td>\n",
       "      <td>964.4</td>\n",
       "      <td>964.4</td>\n",
       "      <td>964.4</td>\n",
       "      <td>964.4</td>\n",
       "      <td>964.4</td>\n",
       "      <td>964.4</td>\n",
       "      <td>964.4</td>\n",
       "      <td>964.4</td>\n",
       "      <td>...</td>\n",
       "      <td>964.4</td>\n",
       "      <td>964.4</td>\n",
       "      <td>964.4</td>\n",
       "      <td>964.4</td>\n",
       "      <td>964.4</td>\n",
       "      <td>964.4</td>\n",
       "      <td>964.4</td>\n",
       "      <td>964.4</td>\n",
       "      <td>964.4</td>\n",
       "      <td>964.4</td>\n",
       "    </tr>\n",
       "    <tr>\n",
       "      <th>1</th>\n",
       "      <td>1/2/2021</td>\n",
       "      <td>1019.7</td>\n",
       "      <td>1019.7</td>\n",
       "      <td>1019.7</td>\n",
       "      <td>1019.7</td>\n",
       "      <td>1019.7</td>\n",
       "      <td>1019.7</td>\n",
       "      <td>1019.7</td>\n",
       "      <td>1019.7</td>\n",
       "      <td>1019.7</td>\n",
       "      <td>...</td>\n",
       "      <td>1019.7</td>\n",
       "      <td>1019.7</td>\n",
       "      <td>1019.7</td>\n",
       "      <td>1019.7</td>\n",
       "      <td>1019.7</td>\n",
       "      <td>1019.7</td>\n",
       "      <td>1019.7</td>\n",
       "      <td>1019.7</td>\n",
       "      <td>1019.7</td>\n",
       "      <td>1019.7</td>\n",
       "    </tr>\n",
       "    <tr>\n",
       "      <th>2</th>\n",
       "      <td>1/3/2021</td>\n",
       "      <td>988.4</td>\n",
       "      <td>988.4</td>\n",
       "      <td>988.4</td>\n",
       "      <td>988.4</td>\n",
       "      <td>988.4</td>\n",
       "      <td>988.4</td>\n",
       "      <td>988.4</td>\n",
       "      <td>988.4</td>\n",
       "      <td>988.4</td>\n",
       "      <td>...</td>\n",
       "      <td>988.4</td>\n",
       "      <td>988.4</td>\n",
       "      <td>988.4</td>\n",
       "      <td>988.4</td>\n",
       "      <td>988.4</td>\n",
       "      <td>988.4</td>\n",
       "      <td>988.4</td>\n",
       "      <td>988.4</td>\n",
       "      <td>988.4</td>\n",
       "      <td>988.4</td>\n",
       "    </tr>\n",
       "    <tr>\n",
       "      <th>3</th>\n",
       "      <td>1/4/2021</td>\n",
       "      <td>1002.0</td>\n",
       "      <td>1002.0</td>\n",
       "      <td>1002.0</td>\n",
       "      <td>1002.0</td>\n",
       "      <td>1002.0</td>\n",
       "      <td>1002.0</td>\n",
       "      <td>1002.0</td>\n",
       "      <td>1002.0</td>\n",
       "      <td>1002.1</td>\n",
       "      <td>...</td>\n",
       "      <td>1010.8</td>\n",
       "      <td>1010.8</td>\n",
       "      <td>1010.8</td>\n",
       "      <td>1010.8</td>\n",
       "      <td>1010.8</td>\n",
       "      <td>1010.8</td>\n",
       "      <td>1010.8</td>\n",
       "      <td>1010.8</td>\n",
       "      <td>1010.8</td>\n",
       "      <td>1010.8</td>\n",
       "    </tr>\n",
       "    <tr>\n",
       "      <th>4</th>\n",
       "      <td>1/5/2021</td>\n",
       "      <td>1061.5</td>\n",
       "      <td>1061.5</td>\n",
       "      <td>1061.5</td>\n",
       "      <td>1061.5</td>\n",
       "      <td>1061.5</td>\n",
       "      <td>1061.5</td>\n",
       "      <td>1061.5</td>\n",
       "      <td>1061.5</td>\n",
       "      <td>1061.5</td>\n",
       "      <td>...</td>\n",
       "      <td>1061.5</td>\n",
       "      <td>1061.5</td>\n",
       "      <td>1061.5</td>\n",
       "      <td>1061.5</td>\n",
       "      <td>1061.5</td>\n",
       "      <td>1061.5</td>\n",
       "      <td>1061.5</td>\n",
       "      <td>1061.5</td>\n",
       "      <td>1061.5</td>\n",
       "      <td>1061.5</td>\n",
       "    </tr>\n",
       "    <tr>\n",
       "      <th>5</th>\n",
       "      <td>1/6/2021</td>\n",
       "      <td>1061.5</td>\n",
       "      <td>1061.5</td>\n",
       "      <td>1061.5</td>\n",
       "      <td>1061.5</td>\n",
       "      <td>1061.5</td>\n",
       "      <td>1061.5</td>\n",
       "      <td>1061.5</td>\n",
       "      <td>1061.5</td>\n",
       "      <td>1061.5</td>\n",
       "      <td>...</td>\n",
       "      <td>1061.5</td>\n",
       "      <td>1061.5</td>\n",
       "      <td>1061.5</td>\n",
       "      <td>1061.5</td>\n",
       "      <td>1061.5</td>\n",
       "      <td>1061.5</td>\n",
       "      <td>1061.5</td>\n",
       "      <td>1061.5</td>\n",
       "      <td>1061.5</td>\n",
       "      <td>1061.5</td>\n",
       "    </tr>\n",
       "    <tr>\n",
       "      <th>6</th>\n",
       "      <td>1/7/2021</td>\n",
       "      <td>1061.5</td>\n",
       "      <td>1061.5</td>\n",
       "      <td>1061.5</td>\n",
       "      <td>1061.5</td>\n",
       "      <td>1061.5</td>\n",
       "      <td>1061.5</td>\n",
       "      <td>1061.5</td>\n",
       "      <td>1061.5</td>\n",
       "      <td>1061.5</td>\n",
       "      <td>...</td>\n",
       "      <td>1061.5</td>\n",
       "      <td>1061.5</td>\n",
       "      <td>1061.5</td>\n",
       "      <td>1061.5</td>\n",
       "      <td>1061.5</td>\n",
       "      <td>1061.5</td>\n",
       "      <td>1061.5</td>\n",
       "      <td>1061.5</td>\n",
       "      <td>1061.5</td>\n",
       "      <td>1061.5</td>\n",
       "    </tr>\n",
       "    <tr>\n",
       "      <th>7</th>\n",
       "      <td>1/8/2021</td>\n",
       "      <td>1061.5</td>\n",
       "      <td>1061.5</td>\n",
       "      <td>1061.5</td>\n",
       "      <td>1061.5</td>\n",
       "      <td>1061.5</td>\n",
       "      <td>1061.5</td>\n",
       "      <td>1061.5</td>\n",
       "      <td>1061.5</td>\n",
       "      <td>1061.5</td>\n",
       "      <td>...</td>\n",
       "      <td>1061.5</td>\n",
       "      <td>1061.5</td>\n",
       "      <td>1061.5</td>\n",
       "      <td>1061.5</td>\n",
       "      <td>1061.5</td>\n",
       "      <td>1061.5</td>\n",
       "      <td>1061.5</td>\n",
       "      <td>1061.5</td>\n",
       "      <td>1061.5</td>\n",
       "      <td>1061.5</td>\n",
       "    </tr>\n",
       "    <tr>\n",
       "      <th>8</th>\n",
       "      <td>1/9/2021</td>\n",
       "      <td>1064.1</td>\n",
       "      <td>1064.1</td>\n",
       "      <td>1064.1</td>\n",
       "      <td>1064.1</td>\n",
       "      <td>1064.1</td>\n",
       "      <td>1064.1</td>\n",
       "      <td>1064.1</td>\n",
       "      <td>1064.1</td>\n",
       "      <td>1064.1</td>\n",
       "      <td>...</td>\n",
       "      <td>1064.1</td>\n",
       "      <td>1064.1</td>\n",
       "      <td>1064.1</td>\n",
       "      <td>1064.1</td>\n",
       "      <td>1064.1</td>\n",
       "      <td>1064.1</td>\n",
       "      <td>1064.1</td>\n",
       "      <td>1064.1</td>\n",
       "      <td>1064.1</td>\n",
       "      <td>1064.1</td>\n",
       "    </tr>\n",
       "    <tr>\n",
       "      <th>9</th>\n",
       "      <td>1/10/2021</td>\n",
       "      <td>966.7</td>\n",
       "      <td>966.7</td>\n",
       "      <td>966.7</td>\n",
       "      <td>966.7</td>\n",
       "      <td>966.7</td>\n",
       "      <td>966.7</td>\n",
       "      <td>966.7</td>\n",
       "      <td>966.7</td>\n",
       "      <td>966.7</td>\n",
       "      <td>...</td>\n",
       "      <td>966.8</td>\n",
       "      <td>966.8</td>\n",
       "      <td>966.8</td>\n",
       "      <td>966.8</td>\n",
       "      <td>966.8</td>\n",
       "      <td>966.8</td>\n",
       "      <td>966.7</td>\n",
       "      <td>966.7</td>\n",
       "      <td>966.7</td>\n",
       "      <td>966.7</td>\n",
       "    </tr>\n",
       "  </tbody>\n",
       "</table>\n",
       "<p>10 rows × 49 columns</p>\n",
       "</div>"
      ],
      "text/plain": [
       "        Ngày       1       2       3       4       5       6       7       8  \\\n",
       "0   1/1/2021   964.4   964.4   964.4   964.4   964.4   964.4   964.4   964.4   \n",
       "1   1/2/2021  1019.7  1019.7  1019.7  1019.7  1019.7  1019.7  1019.7  1019.7   \n",
       "2   1/3/2021   988.4   988.4   988.4   988.4   988.4   988.4   988.4   988.4   \n",
       "3   1/4/2021  1002.0  1002.0  1002.0  1002.0  1002.0  1002.0  1002.0  1002.0   \n",
       "4   1/5/2021  1061.5  1061.5  1061.5  1061.5  1061.5  1061.5  1061.5  1061.5   \n",
       "5   1/6/2021  1061.5  1061.5  1061.5  1061.5  1061.5  1061.5  1061.5  1061.5   \n",
       "6   1/7/2021  1061.5  1061.5  1061.5  1061.5  1061.5  1061.5  1061.5  1061.5   \n",
       "7   1/8/2021  1061.5  1061.5  1061.5  1061.5  1061.5  1061.5  1061.5  1061.5   \n",
       "8   1/9/2021  1064.1  1064.1  1064.1  1064.1  1064.1  1064.1  1064.1  1064.1   \n",
       "9  1/10/2021   966.7   966.7   966.7   966.7   966.7   966.7   966.7   966.7   \n",
       "\n",
       "        9  ...      39      40      41      42      43      44      45  \\\n",
       "0   964.4  ...   964.4   964.4   964.4   964.4   964.4   964.4   964.4   \n",
       "1  1019.7  ...  1019.7  1019.7  1019.7  1019.7  1019.7  1019.7  1019.7   \n",
       "2   988.4  ...   988.4   988.4   988.4   988.4   988.4   988.4   988.4   \n",
       "3  1002.1  ...  1010.8  1010.8  1010.8  1010.8  1010.8  1010.8  1010.8   \n",
       "4  1061.5  ...  1061.5  1061.5  1061.5  1061.5  1061.5  1061.5  1061.5   \n",
       "5  1061.5  ...  1061.5  1061.5  1061.5  1061.5  1061.5  1061.5  1061.5   \n",
       "6  1061.5  ...  1061.5  1061.5  1061.5  1061.5  1061.5  1061.5  1061.5   \n",
       "7  1061.5  ...  1061.5  1061.5  1061.5  1061.5  1061.5  1061.5  1061.5   \n",
       "8  1064.1  ...  1064.1  1064.1  1064.1  1064.1  1064.1  1064.1  1064.1   \n",
       "9   966.7  ...   966.8   966.8   966.8   966.8   966.8   966.8   966.7   \n",
       "\n",
       "       46      47      48  \n",
       "0   964.4   964.4   964.4  \n",
       "1  1019.7  1019.7  1019.7  \n",
       "2   988.4   988.4   988.4  \n",
       "3  1010.8  1010.8  1010.8  \n",
       "4  1061.5  1061.5  1061.5  \n",
       "5  1061.5  1061.5  1061.5  \n",
       "6  1061.5  1061.5  1061.5  \n",
       "7  1061.5  1061.5  1061.5  \n",
       "8  1064.1  1064.1  1064.1  \n",
       "9   966.7   966.7   966.7  \n",
       "\n",
       "[10 rows x 49 columns]"
      ]
     },
     "execution_count": 192,
     "metadata": {},
     "output_type": "execute_result"
    }
   ],
   "source": [
    "df = pd.read_csv('SMPcap 2021.csv')\n",
    "df.head(10)"
   ]
  },
  {
   "cell_type": "code",
   "execution_count": 194,
   "id": "2a1ece3d-16ea-468d-8345-c34c22ae1423",
   "metadata": {},
   "outputs": [],
   "source": [
    "columns = ['4', '5', '6']"
   ]
  },
  {
   "cell_type": "code",
   "execution_count": 195,
   "id": "f2986a8b-fa02-44ea-a5e3-53505b458ab1",
   "metadata": {},
   "outputs": [],
   "source": [
    "data = df[columns]"
   ]
  },
  {
   "cell_type": "code",
   "execution_count": 196,
   "id": "aee4a94a-f990-49c3-a3b8-0310966ae7c7",
   "metadata": {},
   "outputs": [
    {
     "data": {
      "text/plain": [
       "73"
      ]
     },
     "execution_count": 196,
     "metadata": {},
     "output_type": "execute_result"
    }
   ],
   "source": [
    "test_size = 0.2 * data.shape[0]\n",
    "test_size = int(test_size)\n",
    "test_size"
   ]
  },
  {
   "cell_type": "code",
   "execution_count": 198,
   "id": "9381d8dd-2d19-49a9-857a-16276743c957",
   "metadata": {},
   "outputs": [],
   "source": [
    "import numpy as np\n",
    "import matplotlib.pyplot as plt\n",
    "from pykalman import KalmanFilter\n",
    "\n",
    "kf = KalmanFilter(initial_state_mean=0, n_dim_obs=3)\n",
    "\n",
    "kf = kf.em(data.values[:-test_size], n_iter=10)\n",
    "\n",
    "state_means, state_covariances = kf.smooth(data.values[-test_size:])"
   ]
  },
  {
   "cell_type": "code",
   "execution_count": 199,
   "id": "e9960fe9-5abd-409b-995d-eaeddabd1b6a",
   "metadata": {},
   "outputs": [
    {
     "data": {
      "text/plain": [
       "(73, 1)"
      ]
     },
     "execution_count": 199,
     "metadata": {},
     "output_type": "execute_result"
    }
   ],
   "source": [
    "state_means.shape"
   ]
  },
  {
   "cell_type": "code",
   "execution_count": 200,
   "id": "02303cfc-e142-415b-8797-cd17acb85454",
   "metadata": {},
   "outputs": [
    {
     "data": {
      "text/plain": [
       "array([[1069.4, 1069.4, 1069.4],\n",
       "       [1061.5, 1061.5, 1061.5],\n",
       "       [1061.5, 1061.5, 1061.5],\n",
       "       [1002. , 1002. , 1002. ],\n",
       "       [ 966.7,  966.7,  966.7],\n",
       "       [1002. , 1002. , 1002. ],\n",
       "       [1022.6, 1022.6, 1022.6],\n",
       "       [1022.6, 1022.6, 1022.6],\n",
       "       [ 990.9,  990.9,  990.9],\n",
       "       [1002. , 1002. , 1002. ],\n",
       "       [ 990.9,  990.9,  990.9],\n",
       "       [ 945.4,  945.4,  945.5],\n",
       "       [1002. , 1002. , 1002. ],\n",
       "       [1061.5, 1061.5, 1061.5],\n",
       "       [1002. , 1002. , 1002. ],\n",
       "       [1022.6, 1022.6, 1022.6],\n",
       "       [1002. , 1002. , 1002. ],\n",
       "       [ 990.9,  990.9,  990.9],\n",
       "       [ 963.6,  963.6,  963.6],\n",
       "       [ 990.9,  990.9,  990.9],\n",
       "       [1002. , 1002. , 1002. ],\n",
       "       [1069.4, 1069.4, 1069.4],\n",
       "       [1069.4, 1069.4, 1069.4],\n",
       "       [1061.5, 1061.5, 1061.5],\n",
       "       [1002. , 1002. , 1002. ],\n",
       "       [ 966.7,  966.7,  966.8],\n",
       "       [1069.4, 1069.4, 1069.4],\n",
       "       [1069.4, 1069.4, 1069.4],\n",
       "       [1069.4, 1069.4, 1069.4],\n",
       "       [1061.5, 1061.5, 1061.5],\n",
       "       [1069.4, 1069.4, 1069.4],\n",
       "       [1061.5, 1061.5, 1061.5],\n",
       "       [ 966.7,  966.8,  966.7],\n",
       "       [1022.6, 1022.6, 1022.6],\n",
       "       [1061.5, 1061.5, 1061.5],\n",
       "       [1002. , 1002. , 1002. ],\n",
       "       [1022.6, 1022.6, 1022.6],\n",
       "       [1002.1, 1002.1, 1002.1],\n",
       "       [ 966.8,  966.8,  966.8],\n",
       "       [ 963.6,  963.7,  963.7],\n",
       "       [ 966.7,  966.7,  966.7],\n",
       "       [ 990.9,  990.9,  990.9],\n",
       "       [1002.1, 1002.1, 1002.1],\n",
       "       [1022.6, 1022.6, 1022.6],\n",
       "       [1002. , 1002. , 1002. ],\n",
       "       [ 990.9,  990.9,  990.9],\n",
       "       [ 964.4,  964.4,  964.4],\n",
       "       [ 990.9,  990.9,  990.9],\n",
       "       [1002. , 1002. , 1002. ],\n",
       "       [1022.6, 1022.6, 1022.6],\n",
       "       [1061.5, 1061.5, 1061.5],\n",
       "       [1061.5, 1061.5, 1061.5],\n",
       "       [1022.6, 1022.6, 1022.6],\n",
       "       [ 966.7,  966.7,  966.7],\n",
       "       [1022.6, 1022.6, 1022.6],\n",
       "       [1061.5, 1061.5, 1061.5],\n",
       "       [1064.1, 1064.1, 1064.1],\n",
       "       [1061.5, 1061.5, 1061.5],\n",
       "       [1061.5, 1061.5, 1061.5],\n",
       "       [1022.6, 1022.6, 1022.6],\n",
       "       [ 990.9,  990.9,  990.9],\n",
       "       [1043.3, 1043.3, 1043.3],\n",
       "       [1061.5, 1061.5, 1061.5],\n",
       "       [1022.6, 1022.6, 1022.6],\n",
       "       [1022.6, 1022.6, 1022.6],\n",
       "       [1022.6, 1022.6, 1022.6],\n",
       "       [1002. , 1002. , 1002. ],\n",
       "       [ 966.7,  966.7,  966.7],\n",
       "       [1002. , 1002. , 1002. ],\n",
       "       [1002. , 1002. , 1002. ],\n",
       "       [1061.5, 1061.5, 1061.5],\n",
       "       [1022.6, 1022.6, 1022.6],\n",
       "       [1022.6, 1022.6, 1022.6]])"
      ]
     },
     "execution_count": 200,
     "metadata": {},
     "output_type": "execute_result"
    }
   ],
   "source": [
    "data.values[-test_size:][:]"
   ]
  },
  {
   "cell_type": "code",
   "execution_count": 201,
   "id": "10e22f98-5327-4d05-89db-aa9aec4be4e9",
   "metadata": {},
   "outputs": [
    {
     "data": {
      "image/png": "[encoded data removed]",
      "text/plain": [
       "<Figure size 640x480 with 1 Axes>"
      ]
     },
     "metadata": {},
     "output_type": "display_data"
    }
   ],
   "source": [
    "# Vẽ kết quả\n",
    "plt.plot(data.values[-test_size:][:], label='Observations')\n",
    "plt.plot(state_means, label='Kalman Filter Estimate')\n",
    "plt.legend()\n",
    "plt.show()"
   ]
  },
  {
   "cell_type": "code",
   "execution_count": 202,
   "id": "1ce52284-55cb-4281-ade4-3bdba3cffe84",
   "metadata": {},
   "outputs": [
    {
     "data": {
      "application/vnd.plotly.v1+json": {
       "config": {
        "plotlyServerURL": "https://plot.ly"
       },
       "data": [
        {
         "hovertemplate": "x=%{x}<br>y=%{y}<extra></extra>",
         "legendgroup": "",
         "line": {
          "color": "purple",
          "dash": "solid"
         },
         "marker": {
          "symbol": "circle"
         },
         "mode": "lines",
         "name": "",
         "orientation": "v",
         "showlegend": false,
         "type": "scatter",
         "x": [
          "1/1/2021",
          "1/2/2021",
          "1/3/2021",
          "1/4/2021",
          "1/5/2021",
          "1/6/2021",
          "1/7/2021",
          "1/8/2021",
          "1/9/2021",
          "1/10/2021",
          "1/11/2021",
          "1/12/2021",
          "13/1/2021",
          "14/1/2021",
          "15/1/2021",
          "16/1/2021",
          "17/1/2021",
          "18/1/2021",
          "19/1/2021",
          "20/1/2021",
          "21/1/2021",
          "22/1/2021",
          "23/1/2021",
          "24/1/2021",
          "25/1/2021",
          "26/1/2021",
          "27/1/2021",
          "28/1/2021",
          "29/1/2021",
          "30/1/2021",
          "31/1/2021",
          "2/1/2021",
          "2/2/2021",
          "2/3/2021",
          "2/4/2021",
          "2/5/2021",
          "2/6/2021",
          "2/7/2021",
          "2/8/2021",
          "2/9/2021",
          "2/10/2021",
          "2/11/2021",
          "2/12/2021",
          "13/2/2021",
          "14/2/2021",
          "15/2/2021",
          "16/2/2021",
          "17/2/2021",
          "18/2/2021",
          "19/2/2021",
          "20/2/2021",
          "21/2/2021",
          "22/2/2021",
          "23/2/2021",
          "24/2/2021",
          "25/2/2021",
          "26/2/2021",
          "27/2/2021",
          "28/2/2021",
          "3/1/2021",
          "3/2/2021",
          "3/3/2021",
          "3/4/2021",
          "3/5/2021",
          "3/6/2021",
          "3/7/2021",
          "3/8/2021",
          "3/9/2021",
          "3/10/2021",
          "3/11/2021",
          "3/12/2021",
          "13/3/2021",
          "14/3/2021",
          "15/3/2021",
          "16/3/2021",
          "17/3/2021",
          "18/3/2021",
          "19/3/2021",
          "20/3/2021",
          "21/3/2021",
          "22/3/2021",
          "23/3/2021",
          "24/3/2021",
          "25/3/2021",
          "26/3/2021",
          "27/3/2021",
          "28/3/2021",
          "29/3/2021",
          "30/3/2021",
          "31/3/2021",
          "4/1/2021",
          "4/2/2021",
          "4/3/2021",
          "4/4/2021",
          "4/5/2021",
          "4/6/2021",
          "4/7/2021",
          "4/8/2021",
          "4/9/2021",
          "4/10/2021",
          "4/11/2021",
          "4/12/2021",
          "13/4/2021",
          "14/4/2021",
          "15/4/2021",
          "16/4/2021",
          "17/4/2021",
          "18/4/2021",
          "19/4/2021",
          "20/4/2021",
          "21/4/2021",
          "22/4/2021",
          "23/4/2021",
          "24/4/2021",
          "25/4/2021",
          "26/4/2021",
          "27/4/2021",
          "28/4/2021",
          "29/4/2021",
          "30/4/2021",
          "5/1/2021",
          "5/2/2021",
          "5/3/2021",
          "5/4/2021",
          "5/5/2021",
          "5/6/2021",
          "5/7/2021",
          "5/8/2021",
          "5/9/2021",
          "5/10/2021",
          "5/11/2021",
          "5/12/2021",
          "13/5/2021",
          "14/5/2021",
          "15/5/2021",
          "16/5/2021",
          "17/5/2021",
          "18/5/2021",
          "19/5/2021",
          "20/5/2021",
          "21/5/2021",
          "22/5/2021",
          "23/5/2021",
          "24/5/2021",
          "25/5/2021",
          "26/5/2021",
          "27/5/2021",
          "28/5/2021",
          "29/5/2021",
          "30/5/2021",
          "31/5/2021",
          "6/1/2021",
          "6/2/2021",
          "6/3/2021",
          "6/4/2021",
          "6/5/2021",
          "6/6/2021",
          "6/7/2021",
          "6/8/2021",
          "6/9/2021",
          "6/10/2021",
          "6/11/2021",
          "6/12/2021",
          "13/6/2021",
          "14/6/2021",
          "15/6/2021",
          "16/6/2021",
          "17/6/2021",
          "18/6/2021",
          "19/6/2021",
          "20/6/2021",
          "21/6/2021",
          "22/6/2021",
          "23/6/2021",
          "24/6/2021",
          "25/6/2021",
          "26/6/2021",
          "27/6/2021",
          "28/6/2021",
          "29/6/2021",
          "30/6/2021",
          "7/1/2021",
          "7/2/2021",
          "7/3/2021",
          "7/4/2021",
          "7/5/2021",
          "7/6/2021",
          "7/7/2021",
          "7/8/2021",
          "7/9/2021",
          "7/10/2021",
          "7/11/2021",
          "7/12/2021",
          "13/7/2021",
          "14/7/2021",
          "15/7/2021",
          "16/7/2021",
          "17/7/2021",
          "18/7/2021",
          "19/7/2021",
          "20/7/2021",
          "21/7/2021",
          "22/7/2021",
          "23/7/2021",
          "24/7/2021",
          "25/7/2021",
          "26/7/2021",
          "27/7/2021",
          "28/7/2021",
          "29/7/2021",
          "30/7/2021",
          "31/7/2021",
          "8/1/2021",
          "8/2/2021",
          "8/3/2021",
          "8/4/2021",
          "8/5/2021",
          "8/6/2021",
          "8/7/2021",
          "8/8/2021",
          "8/9/2021",
          "8/10/2021",
          "8/11/2021",
          "8/12/2021",
          "13/8/2021",
          "14/8/2021",
          "15/8/2021",
          "16/8/2021",
          "17/8/2021",
          "18/8/2021",
          "19/8/2021",
          "20/8/2021",
          "21/8/2021",
          "22/8/2021",
          "23/8/2021",
          "24/8/2021",
          "25/8/2021",
          "26/8/2021",
          "27/8/2021",
          "28/8/2021",
          "29/8/2021",
          "30/8/2021",
          "31/8/2021",
          "9/1/2021",
          "9/2/2021",
          "9/3/2021",
          "9/4/2021",
          "9/5/2021",
          "9/6/2021",
          "9/7/2021",
          "9/8/2021",
          "9/9/2021",
          "9/10/2021",
          "9/11/2021",
          "9/12/2021",
          "13/9/2021",
          "14/9/2021",
          "15/9/2021",
          "16/9/2021",
          "17/9/2021",
          "18/9/2021",
          "19/9/2021",
          "20/9/2021",
          "21/9/2021",
          "22/9/2021",
          "23/9/2021",
          "24/9/2021",
          "25/9/2021",
          "26/9/2021",
          "27/9/2021",
          "28/9/2021",
          "29/9/2021",
          "30/9/2021",
          "10/1/2021",
          "10/2/2021",
          "10/3/2021",
          "10/4/2021",
          "10/5/2021",
          "10/6/2021",
          "10/7/2021",
          "10/8/2021",
          "10/9/2021",
          "10/10/2021",
          "10/11/2021",
          "10/12/2021",
          "13/10/2021",
          "14/10/2021",
          "15/10/2021",
          "16/10/2021",
          "17/10/2021",
          "18/10/2021",
          "19/10/2021",
          "20/10/2021",
          "21/10/2021",
          "22/10/2021",
          "23/10/2021",
          "24/10/2021",
          "25/10/2021",
          "26/10/2021",
          "27/10/2021",
          "28/10/2021",
          "29/10/2021",
          "30/10/2021",
          "31/10/2021",
          "11/1/2021",
          "11/2/2021",
          "11/3/2021",
          "11/4/2021",
          "11/5/2021",
          "11/6/2021",
          "11/7/2021",
          "11/8/2021",
          "11/9/2021",
          "11/10/2021",
          "11/11/2021",
          "11/12/2021",
          "13/11/2021",
          "14/11/2021",
          "15/11/2021",
          "16/11/2021",
          "17/11/2021",
          "18/11/2021",
          "19/11/2021",
          "20/11/2021",
          "21/11/2021",
          "22/11/2021",
          "23/11/2021",
          "24/11/2021",
          "25/11/2021",
          "26/11/2021",
          "27/11/2021",
          "28/11/2021",
          "29/11/2021",
          "30/11/2021",
          "12/1/2021",
          "12/2/2021",
          "12/3/2021",
          "12/4/2021",
          "12/5/2021",
          "12/6/2021",
          "12/7/2021",
          "12/8/2021",
          "12/9/2021",
          "12/10/2021",
          "12/11/2021",
          "12/12/2021",
          "13/12/2021",
          "14/12/2021",
          "15/12/2021",
          "16/12/2021",
          "17/12/2021",
          "18/12/2021",
          "19/12/2021",
          "20/12/2021",
          "21/12/2021",
          "22/12/2021",
          "23/12/2021",
          "24/12/2021",
          "25/12/2021",
          "26/12/2021",
          "27/12/2021",
          "28/12/2021",
          "29/12/2021",
          "30/12/2021",
          "31/12/2021"
         ],
         "xaxis": "x",
         "y": [
          964.4,
          1019.7,
          988.4,
          1002,
          1061.5,
          1061.5,
          1061.5,
          1061.5,
          1064.1,
          966.7,
          1002,
          1066.6,
          1061.5,
          1061.5,
          1061.5,
          1066.6,
          988.4,
          1058,
          1069.4,
          1069.4,
          1069.4,
          1061.5,
          1019.7,
          988.3,
          988.4,
          988.4,
          966.7,
          963.6,
          945.5,
          918.6,
          966.7,
          964.4,
          966.8,
          966.7,
          964.4,
          964.4,
          963.6,
          963.6,
          963.6,
          912.1,
          912.1,
          916.8,
          888.5,
          894.6,
          912.1,
          890.2,
          963.6,
          963.6,
          964.4,
          964.4,
          964.4,
          963.6,
          988.3,
          988.3,
          988.3,
          988.4,
          1002,
          988.4,
          964.4,
          988.3,
          1019.7,
          988.4,
          1002,
          1002.1,
          988.4,
          966.7,
          1002,
          1019.7,
          1019.7,
          1061.5,
          1002.1,
          1002,
          1019.7,
          1002.1,
          1061.5,
          1061.5,
          1069.4,
          1069.4,
          1061.5,
          966.7,
          1022.6,
          1022.6,
          1022.6,
          1064,
          1061.5,
          1061.5,
          966.7,
          1002,
          1061.5,
          1022.6,
          988.4,
          1002,
          988.4,
          966.7,
          1002,
          1061.5,
          1061.5,
          1061.5,
          1022.6,
          966.7,
          966.7,
          966.7,
          1061.5,
          1069.4,
          1064.1,
          1069.4,
          1069.4,
          1022.6,
          1069.4,
          1069.4,
          1069.4,
          1069.4,
          1069.4,
          1069.4,
          966.8,
          1061.5,
          1069.4,
          1069.4,
          1064,
          945.5,
          930.6,
          966.7,
          1061.5,
          1069.4,
          1061.5,
          1022.6,
          988.4,
          1002,
          964.4,
          1022.6,
          1061.5,
          1069.4,
          1069.4,
          1069.4,
          1069.4,
          1022.6,
          1069.4,
          1069.4,
          1061.5,
          1069.4,
          1069.4,
          1069.4,
          1061.5,
          1069.4,
          1069.4,
          1061.5,
          1061.5,
          1061.5,
          1002.1,
          990.9,
          1061.5,
          990.9,
          990.9,
          990.9,
          990.9,
          966.7,
          966.7,
          1022.6,
          1061.5,
          1069.4,
          1069.4,
          1061.5,
          990.9,
          990.9,
          990.9,
          966.7,
          1022.6,
          1022.6,
          1069.4,
          1064,
          990.9,
          966.7,
          1002,
          1022.6,
          1061.5,
          1069.4,
          1064.1,
          966.7,
          966.7,
          966.7,
          990.9,
          945.5,
          964.4,
          966.7,
          963.6,
          990.9,
          1061.5,
          966.8,
          990.9,
          1022.6,
          1022.6,
          964.5,
          966.8,
          990.9,
          990.9,
          1069.4,
          1069.4,
          1061.5,
          966.8,
          1069.4,
          1403,
          1565.5,
          1403,
          1520.2,
          1403,
          1087.5,
          1379.4,
          1331.3,
          1316.8,
          1061.5,
          990.9,
          964.4,
          945.5,
          990.9,
          1061.5,
          1064.1,
          1069.4,
          1069.4,
          1061.5,
          990.9,
          1069.4,
          1403,
          1422.9,
          1422.9,
          1423.1,
          1403,
          1379.4,
          1565.1,
          1503.4,
          1422.9,
          1403,
          1379.4,
          1316.9,
          1064.1,
          1069.4,
          1294,
          1293.5,
          1069.4,
          1069.4,
          990.9,
          945.5,
          1002,
          1022.6,
          1022.6,
          885.7,
          1022.6,
          1069.4,
          1022.6,
          1069.4,
          1061.5,
          1061.5,
          1061.5,
          1293.5,
          1069.4,
          966.7,
          1061.5,
          1069.4,
          1022.6,
          1002,
          1022.6,
          1002,
          945.5,
          990.9,
          1022.6,
          1022.6,
          1022.6,
          990.9,
          966.7,
          930.6,
          964.4,
          1002,
          1022.6,
          1002.1,
          1022.6,
          990.9,
          945.5,
          1002,
          1022.6,
          966.7,
          1022.6,
          1069.4,
          1022.6,
          964.4,
          1022.6,
          1069.4,
          1061.5,
          1064.1,
          1002,
          990.9,
          963.6,
          1002,
          1069.4,
          1069.4,
          1061.5,
          1061.5,
          1002,
          966.7,
          1002,
          1022.6,
          1022.6,
          990.9,
          1002,
          990.9,
          945.4,
          1002,
          1061.5,
          1002,
          1022.6,
          1002,
          990.9,
          963.6,
          990.9,
          1002,
          1069.4,
          1069.4,
          1061.5,
          1002,
          966.7,
          1069.4,
          1069.4,
          1069.4,
          1061.5,
          1069.4,
          1061.5,
          966.7,
          1022.6,
          1061.5,
          1002,
          1022.6,
          1002.1,
          966.8,
          963.6,
          966.7,
          990.9,
          1002.1,
          1022.6,
          1002,
          990.9,
          964.4,
          990.9,
          1002,
          1022.6,
          1061.5,
          1061.5,
          1022.6,
          966.7,
          1022.6,
          1061.5,
          1064.1,
          1061.5,
          1061.5,
          1022.6,
          990.9,
          1043.3,
          1061.5,
          1022.6,
          1022.6,
          1022.6,
          1002,
          966.7,
          1002,
          1002,
          1061.5,
          1022.6,
          1022.6
         ],
         "yaxis": "y"
        }
       ],
       "layout": {
        "autosize": true,
        "legend": {
         "tracegroupgap": 0
        },
        "margin": {
         "t": 60
        },
        "plot_bgcolor": "rgba(255,255,255,0.8)",
        "template": {
         "data": {
          "bar": [
           {
            "error_x": {
             "color": "#2a3f5f"
            },
            "error_y": {
             "color": "#2a3f5f"
            },
            "marker": {
             "line": {
              "color": "#E5ECF6",
              "width": 0.5
             },
             "pattern": {
              "fillmode": "overlay",
              "size": 10,
              "solidity": 0.2
             }
            },
            "type": "bar"
           }
          ],
          "barpolar": [
           {
            "marker": {
             "line": {
              "color": "#E5ECF6",
              "width": 0.5
             },
             "pattern": {
              "fillmode": "overlay",
              "size": 10,
              "solidity": 0.2
             }
            },
            "type": "barpolar"
           }
          ],
          "carpet": [
           {
            "aaxis": {
             "endlinecolor": "#2a3f5f",
             "gridcolor": "white",
             "linecolor": "white",
             "minorgridcolor": "white",
             "startlinecolor": "#2a3f5f"
            },
            "baxis": {
             "endlinecolor": "#2a3f5f",
             "gridcolor": "white",
             "linecolor": "white",
             "minorgridcolor": "white",
             "startlinecolor": "#2a3f5f"
            },
            "type": "carpet"
           }
          ],
          "choropleth": [
           {
            "colorbar": {
             "outlinewidth": 0,
             "ticks": ""
            },
            "type": "choropleth"
           }
          ],
          "contour": [
           {
            "colorbar": {
             "outlinewidth": 0,
             "ticks": ""
            },
            "colorscale": [
             [
              0,
              "#0d0887"
             ],
             [
              0.1111111111111111,
              "#46039f"
             ],
             [
              0.2222222222222222,
              "#7201a8"
             ],
             [
              0.3333333333333333,
              "#9c179e"
             ],
             [
              0.4444444444444444,
              "#bd3786"
             ],
             [
              0.5555555555555556,
              "#d8576b"
             ],
             [
              0.6666666666666666,
              "#ed7953"
             ],
             [
              0.7777777777777778,
              "#fb9f3a"
             ],
             [
              0.8888888888888888,
              "#fdca26"
             ],
             [
              1,
              "#f0f921"
             ]
            ],
            "type": "contour"
           }
          ],
          "contourcarpet": [
           {
            "colorbar": {
             "outlinewidth": 0,
             "ticks": ""
            },
            "type": "contourcarpet"
           }
          ],
          "heatmap": [
           {
            "colorbar": {
             "outlinewidth": 0,
             "ticks": ""
            },
            "colorscale": [
             [
              0,
              "#0d0887"
             ],
             [
              0.1111111111111111,
              "#46039f"
             ],
             [
              0.2222222222222222,
              "#7201a8"
             ],
             [
              0.3333333333333333,
              "#9c179e"
             ],
             [
              0.4444444444444444,
              "#bd3786"
             ],
             [
              0.5555555555555556,
              "#d8576b"
             ],
             [
              0.6666666666666666,
              "#ed7953"
             ],
             [
              0.7777777777777778,
              "#fb9f3a"
             ],
             [
              0.8888888888888888,
              "#fdca26"
             ],
             [
              1,
              "#f0f921"
             ]
            ],
            "type": "heatmap"
           }
          ],
          "heatmapgl": [
           {
            "colorbar": {
             "outlinewidth": 0,
             "ticks": ""
            },
            "colorscale": [
             [
              0,
              "#0d0887"
             ],
             [
              0.1111111111111111,
              "#46039f"
             ],
             [
              0.2222222222222222,
              "#7201a8"
             ],
             [
              0.3333333333333333,
              "#9c179e"
             ],
             [
              0.4444444444444444,
              "#bd3786"
             ],
             [
              0.5555555555555556,
              "#d8576b"
             ],
             [
              0.6666666666666666,
              "#ed7953"
             ],
             [
              0.7777777777777778,
              "#fb9f3a"
             ],
             [
              0.8888888888888888,
              "#fdca26"
             ],
             [
              1,
              "#f0f921"
             ]
            ],
            "type": "heatmapgl"
           }
          ],
          "histogram": [
           {
            "marker": {
             "pattern": {
              "fillmode": "overlay",
              "size": 10,
              "solidity": 0.2
             }
            },
            "type": "histogram"
           }
          ],
          "histogram2d": [
           {
            "colorbar": {
             "outlinewidth": 0,
             "ticks": ""
            },
            "colorscale": [
             [
              0,
              "#0d0887"
             ],
             [
              0.1111111111111111,
              "#46039f"
             ],
             [
              0.2222222222222222,
              "#7201a8"
             ],
             [
              0.3333333333333333,
              "#9c179e"
             ],
             [
              0.4444444444444444,
              "#bd3786"
             ],
             [
              0.5555555555555556,
              "#d8576b"
             ],
             [
              0.6666666666666666,
              "#ed7953"
             ],
             [
              0.7777777777777778,
              "#fb9f3a"
             ],
             [
              0.8888888888888888,
              "#fdca26"
             ],
             [
              1,
              "#f0f921"
             ]
            ],
            "type": "histogram2d"
           }
          ],
          "histogram2dcontour": [
           {
            "colorbar": {
             "outlinewidth": 0,
             "ticks": ""
            },
            "colorscale": [
             [
              0,
              "#0d0887"
             ],
             [
              0.1111111111111111,
              "#46039f"
             ],
             [
              0.2222222222222222,
              "#7201a8"
             ],
             [
              0.3333333333333333,
              "#9c179e"
             ],
             [
              0.4444444444444444,
              "#bd3786"
             ],
             [
              0.5555555555555556,
              "#d8576b"
             ],
             [
              0.6666666666666666,
              "#ed7953"
             ],
             [
              0.7777777777777778,
              "#fb9f3a"
             ],
             [
              0.8888888888888888,
              "#fdca26"
             ],
             [
              1,
              "#f0f921"
             ]
            ],
            "type": "histogram2dcontour"
           }
          ],
          "mesh3d": [
           {
            "colorbar": {
             "outlinewidth": 0,
             "ticks": ""
            },
            "type": "mesh3d"
           }
          ],
          "parcoords": [
           {
            "line": {
             "colorbar": {
              "outlinewidth": 0,
              "ticks": ""
             }
            },
            "type": "parcoords"
           }
          ],
          "pie": [
           {
            "automargin": true,
            "type": "pie"
           }
          ],
          "scatter": [
           {
            "fillpattern": {
             "fillmode": "overlay",
             "size": 10,
             "solidity": 0.2
            },
            "type": "scatter"
           }
          ],
          "scatter3d": [
           {
            "line": {
             "colorbar": {
              "outlinewidth": 0,
              "ticks": ""
             }
            },
            "marker": {
             "colorbar": {
              "outlinewidth": 0,
              "ticks": ""
             }
            },
            "type": "scatter3d"
           }
          ],
          "scattercarpet": [
           {
            "marker": {
             "colorbar": {
              "outlinewidth": 0,
              "ticks": ""
             }
            },
            "type": "scattercarpet"
           }
          ],
          "scattergeo": [
           {
            "marker": {
             "colorbar": {
              "outlinewidth": 0,
              "ticks": ""
             }
            },
            "type": "scattergeo"
           }
          ],
          "scattergl": [
           {
            "marker": {
             "colorbar": {
              "outlinewidth": 0,
              "ticks": ""
             }
            },
            "type": "scattergl"
           }
          ],
          "scattermapbox": [
           {
            "marker": {
             "colorbar": {
              "outlinewidth": 0,
              "ticks": ""
             }
            },
            "type": "scattermapbox"
           }
          ],
          "scatterpolar": [
           {
            "marker": {
             "colorbar": {
              "outlinewidth": 0,
              "ticks": ""
             }
            },
            "type": "scatterpolar"
           }
          ],
          "scatterpolargl": [
           {
            "marker": {
             "colorbar": {
              "outlinewidth": 0,
              "ticks": ""
             }
            },
            "type": "scatterpolargl"
           }
          ],
          "scatterternary": [
           {
            "marker": {
             "colorbar": {
              "outlinewidth": 0,
              "ticks": ""
             }
            },
            "type": "scatterternary"
           }
          ],
          "surface": [
           {
            "colorbar": {
             "outlinewidth": 0,
             "ticks": ""
            },
            "colorscale": [
             [
              0,
              "#0d0887"
             ],
             [
              0.1111111111111111,
              "#46039f"
             ],
             [
              0.2222222222222222,
              "#7201a8"
             ],
             [
              0.3333333333333333,
              "#9c179e"
             ],
             [
              0.4444444444444444,
              "#bd3786"
             ],
             [
              0.5555555555555556,
              "#d8576b"
             ],
             [
              0.6666666666666666,
              "#ed7953"
             ],
             [
              0.7777777777777778,
              "#fb9f3a"
             ],
             [
              0.8888888888888888,
              "#fdca26"
             ],
             [
              1,
              "#f0f921"
             ]
            ],
            "type": "surface"
           }
          ],
          "table": [
           {
            "cells": {
             "fill": {
              "color": "#EBF0F8"
             },
             "line": {
              "color": "white"
             }
            },
            "header": {
             "fill": {
              "color": "#C8D4E3"
             },
             "line": {
              "color": "white"
             }
            },
            "type": "table"
           }
          ]
         },
         "layout": {
          "annotationdefaults": {
           "arrowcolor": "#2a3f5f",
           "arrowhead": 0,
           "arrowwidth": 1
          },
          "autotypenumbers": "strict",
          "coloraxis": {
           "colorbar": {
            "outlinewidth": 0,
            "ticks": ""
           }
          },
          "colorscale": {
           "diverging": [
            [
             0,
             "#8e0152"
            ],
            [
             0.1,
             "#c51b7d"
            ],
            [
             0.2,
             "#de77ae"
            ],
            [
             0.3,
             "#f1b6da"
            ],
            [
             0.4,
             "#fde0ef"
            ],
            [
             0.5,
             "#f7f7f7"
            ],
            [
             0.6,
             "#e6f5d0"
            ],
            [
             0.7,
             "#b8e186"
            ],
            [
             0.8,
             "#7fbc41"
            ],
            [
             0.9,
             "#4d9221"
            ],
            [
             1,
             "#276419"
            ]
           ],
           "sequential": [
            [
             0,
             "#0d0887"
            ],
            [
             0.1111111111111111,
             "#46039f"
            ],
            [
             0.2222222222222222,
             "#7201a8"
            ],
            [
             0.3333333333333333,
             "#9c179e"
            ],
            [
             0.4444444444444444,
             "#bd3786"
            ],
            [
             0.5555555555555556,
             "#d8576b"
            ],
            [
             0.6666666666666666,
             "#ed7953"
            ],
            [
             0.7777777777777778,
             "#fb9f3a"
            ],
            [
             0.8888888888888888,
             "#fdca26"
            ],
            [
             1,
             "#f0f921"
            ]
           ],
           "sequentialminus": [
            [
             0,
             "#0d0887"
            ],
            [
             0.1111111111111111,
             "#46039f"
            ],
            [
             0.2222222222222222,
             "#7201a8"
            ],
            [
             0.3333333333333333,
             "#9c179e"
            ],
            [
             0.4444444444444444,
             "#bd3786"
            ],
            [
             0.5555555555555556,
             "#d8576b"
            ],
            [
             0.6666666666666666,
             "#ed7953"
            ],
            [
             0.7777777777777778,
             "#fb9f3a"
            ],
            [
             0.8888888888888888,
             "#fdca26"
            ],
            [
             1,
             "#f0f921"
            ]
           ]
          },
          "colorway": [
           "#636efa",
           "#EF553B",
           "#00cc96",
           "#ab63fa",
           "#FFA15A",
           "#19d3f3",
           "#FF6692",
           "#B6E880",
           "#FF97FF",
           "#FECB52"
          ],
          "font": {
           "color": "#2a3f5f"
          },
          "geo": {
           "bgcolor": "white",
           "lakecolor": "white",
           "landcolor": "#E5ECF6",
           "showlakes": true,
           "showland": true,
           "subunitcolor": "white"
          },
          "hoverlabel": {
           "align": "left"
          },
          "hovermode": "closest",
          "mapbox": {
           "style": "light"
          },
          "paper_bgcolor": "white",
          "plot_bgcolor": "#E5ECF6",
          "polar": {
           "angularaxis": {
            "gridcolor": "white",
            "linecolor": "white",
            "ticks": ""
           },
           "bgcolor": "#E5ECF6",
           "radialaxis": {
            "gridcolor": "white",
            "linecolor": "white",
            "ticks": ""
           }
          },
          "scene": {
           "xaxis": {
            "backgroundcolor": "#E5ECF6",
            "gridcolor": "white",
            "gridwidth": 2,
            "linecolor": "white",
            "showbackground": true,
            "ticks": "",
            "zerolinecolor": "white"
           },
           "yaxis": {
            "backgroundcolor": "#E5ECF6",
            "gridcolor": "white",
            "gridwidth": 2,
            "linecolor": "white",
            "showbackground": true,
            "ticks": "",
            "zerolinecolor": "white"
           },
           "zaxis": {
            "backgroundcolor": "#E5ECF6",
            "gridcolor": "white",
            "gridwidth": 2,
            "linecolor": "white",
            "showbackground": true,
            "ticks": "",
            "zerolinecolor": "white"
           }
          },
          "shapedefaults": {
           "line": {
            "color": "#2a3f5f"
           }
          },
          "ternary": {
           "aaxis": {
            "gridcolor": "white",
            "linecolor": "white",
            "ticks": ""
           },
           "baxis": {
            "gridcolor": "white",
            "linecolor": "white",
            "ticks": ""
           },
           "bgcolor": "#E5ECF6",
           "caxis": {
            "gridcolor": "white",
            "linecolor": "white",
            "ticks": ""
           }
          },
          "title": {
           "x": 0.05
          },
          "xaxis": {
           "automargin": true,
           "gridcolor": "white",
           "linecolor": "white",
           "ticks": "",
           "title": {
            "standoff": 15
           },
           "zerolinecolor": "white",
           "zerolinewidth": 2
          },
          "yaxis": {
           "automargin": true,
           "gridcolor": "white",
           "linecolor": "white",
           "ticks": "",
           "title": {
            "standoff": 15
           },
           "zerolinecolor": "white",
           "zerolinewidth": 2
          }
         }
        },
        "title": {
         "text": "Data",
         "x": 0.5,
         "xanchor": "center",
         "y": 0.95,
         "yanchor": "top"
        },
        "xaxis": {
         "anchor": "y",
         "autorange": true,
         "domain": [
          0,
          1
         ],
         "range": [
          0,
          364
         ],
         "title": {
          "text": "Ngày"
         },
         "type": "category"
        },
        "yaxis": {
         "anchor": "x",
         "autorange": true,
         "domain": [
          0,
          1
         ],
         "range": [
          847.9333333333334,
          1603.2666666666667
         ],
         "title": {
          "text": "Cột 1"
         },
         "type": "linear"
        }
       }
      },
      "image/png": "[encoded data removed]",
      "text/html": [
       "<div>                            <div id=\"270c8c9b-943e-491a-85a1-620b41a8b318\" class=\"plotly-graph-div\" style=\"height:525px; width:100%;\"></div>            <script type=\"text/javascript\">                require([\"plotly\"], function(Plotly) {                    window.PLOTLYENV=window.PLOTLYENV || {};                                    if (document.getElementById(\"270c8c9b-943e-491a-85a1-620b41a8b318\")) {                    Plotly.newPlot(                        \"270c8c9b-943e-491a-85a1-620b41a8b318\",                        [{\"hovertemplate\":\"x=%{x}\\u003cbr\\u003ey=%{y}\\u003cextra\\u003e\\u003c\\u002fextra\\u003e\",\"legendgroup\":\"\",\"line\":{\"color\":\"purple\",\"dash\":\"solid\"},\"marker\":{\"symbol\":\"circle\"},\"mode\":\"lines\",\"name\":\"\",\"orientation\":\"v\",\"showlegend\":false,\"x\":[\"1\\u002f1\\u002f2021\",\"1\\u002f2\\u002f2021\",\"1\\u002f3\\u002f2021\",\"1\\u002f4\\u002f2021\",\"1\\u002f5\\u002f2021\",\"1\\u002f6\\u002f2021\",\"1\\u002f7\\u002f2021\",\"1\\u002f8\\u002f2021\",\"1\\u002f9\\u002f2021\",\"1\\u002f10\\u002f2021\",\"1\\u002f11\\u002f2021\",\"1\\u002f12\\u002f2021\",\"13\\u002f1\\u002f2021\",\"14\\u002f1\\u002f2021\",\"15\\u002f1\\u002f2021\",\"16\\u002f1\\u002f2021\",\"17\\u002f1\\u002f2021\",\"18\\u002f1\\u002f2021\",\"19\\u002f1\\u002f2021\",\"20\\u002f1\\u002f2021\",\"21\\u002f1\\u002f2021\",\"22\\u002f1\\u002f2021\",\"23\\u002f1\\u002f2021\",\"24\\u002f1\\u002f2021\",\"25\\u002f1\\u002f2021\",\"26\\u002f1\\u002f2021\",\"27\\u002f1\\u002f2021\",\"28\\u002f1\\u002f2021\",\"29\\u002f1\\u002f2021\",\"30\\u002f1\\u002f2021\",\"31\\u002f1\\u002f2021\",\"2\\u002f1\\u002f2021\",\"2\\u002f2\\u002f2021\",\"2\\u002f3\\u002f2021\",\"2\\u002f4\\u002f2021\",\"2\\u002f5\\u002f2021\",\"2\\u002f6\\u002f2021\",\"2\\u002f7\\u002f2021\",\"2\\u002f8\\u002f2021\",\"2\\u002f9\\u002f2021\",\"2\\u002f10\\u002f2021\",\"2\\u002f11\\u002f2021\",\"2\\u002f12\\u002f2021\",\"13\\u002f2\\u002f2021\",\"14\\u002f2\\u002f2021\",\"15\\u002f2\\u002f2021\",\"16\\u002f2\\u002f2021\",\"17\\u002f2\\u002f2021\",\"18\\u002f2\\u002f2021\",\"19\\u002f2\\u002f2021\",\"20\\u002f2\\u002f2021\",\"21\\u002f2\\u002f2021\",\"22\\u002f2\\u002f2021\",\"23\\u002f2\\u002f2021\",\"24\\u002f2\\u002f2021\",\"25\\u002f2\\u002f2021\",\"26\\u002f2\\u002f2021\",\"27\\u002f2\\u002f2021\",\"28\\u002f2\\u002f2021\",\"3\\u002f1\\u002f2021\",\"3\\u002f2\\u002f2021\",\"3\\u002f3\\u002f2021\",\"3\\u002f4\\u002f2021\",\"3\\u002f5\\u002f2021\",\"3\\u002f6\\u002f2021\",\"3\\u002f7\\u002f2021\",\"3\\u002f8\\u002f2021\",\"3\\u002f9\\u002f2021\",\"3\\u002f10\\u002f2021\",\"3\\u002f11\\u002f2021\",\"3\\u002f12\\u002f2021\",\"13\\u002f3\\u002f2021\",\"14\\u002f3\\u002f2021\",\"15\\u002f3\\u002f2021\",\"16\\u002f3\\u002f2021\",\"17\\u002f3\\u002f2021\",\"18\\u002f3\\u002f2021\",\"19\\u002f3\\u002f2021\",\"20\\u002f3\\u002f2021\",\"21\\u002f3\\u002f2021\",\"22\\u002f3\\u002f2021\",\"23\\u002f3\\u002f2021\",\"24\\u002f3\\u002f2021\",\"25\\u002f3\\u002f2021\",\"26\\u002f3\\u002f2021\",\"27\\u002f3\\u002f2021\",\"28\\u002f3\\u002f2021\",\"29\\u002f3\\u002f2021\",\"30\\u002f3\\u002f2021\",\"31\\u002f3\\u002f2021\",\"4\\u002f1\\u002f2021\",\"4\\u002f2\\u002f2021\",\"4\\u002f3\\u002f2021\",\"4\\u002f4\\u002f2021\",\"4\\u002f5\\u002f2021\",\"4\\u002f6\\u002f2021\",\"4\\u002f7\\u002f2021\",\"4\\u002f8\\u002f2021\",\"4\\u002f9\\u002f2021\",\"4\\u002f10\\u002f2021\",\"4\\u002f11\\u002f2021\",\"4\\u002f12\\u002f2021\",\"13\\u002f4\\u002f2021\",\"14\\u002f4\\u002f2021\",\"15\\u002f4\\u002f2021\",\"16\\u002f4\\u002f2021\",\"17\\u002f4\\u002f2021\",\"18\\u002f4\\u002f2021\",\"19\\u002f4\\u002f2021\",\"20\\u002f4\\u002f2021\",\"21\\u002f4\\u002f2021\",\"22\\u002f4\\u002f2021\",\"23\\u002f4\\u002f2021\",\"24\\u002f4\\u002f2021\",\"25\\u002f4\\u002f2021\",\"26\\u002f4\\u002f2021\",\"27\\u002f4\\u002f2021\",\"28\\u002f4\\u002f2021\",\"29\\u002f4\\u002f2021\",\"30\\u002f4\\u002f2021\",\"5\\u002f1\\u002f2021\",\"5\\u002f2\\u002f2021\",\"5\\u002f3\\u002f2021\",\"5\\u002f4\\u002f2021\",\"5\\u002f5\\u002f2021\",\"5\\u002f6\\u002f2021\",\"5\\u002f7\\u002f2021\",\"5\\u002f8\\u002f2021\",\"5\\u002f9\\u002f2021\",\"5\\u002f10\\u002f2021\",\"5\\u002f11\\u002f2021\",\"5\\u002f12\\u002f2021\",\"13\\u002f5\\u002f2021\",\"14\\u002f5\\u002f2021\",\"15\\u002f5\\u002f2021\",\"16\\u002f5\\u002f2021\",\"17\\u002f5\\u002f2021\",\"18\\u002f5\\u002f2021\",\"19\\u002f5\\u002f2021\",\"20\\u002f5\\u002f2021\",\"21\\u002f5\\u002f2021\",\"22\\u002f5\\u002f2021\",\"23\\u002f5\\u002f2021\",\"24\\u002f5\\u002f2021\",\"25\\u002f5\\u002f2021\",\"26\\u002f5\\u002f2021\",\"27\\u002f5\\u002f2021\",\"28\\u002f5\\u002f2021\",\"29\\u002f5\\u002f2021\",\"30\\u002f5\\u002f2021\",\"31\\u002f5\\u002f2021\",\"6\\u002f1\\u002f2021\",\"6\\u002f2\\u002f2021\",\"6\\u002f3\\u002f2021\",\"6\\u002f4\\u002f2021\",\"6\\u002f5\\u002f2021\",\"6\\u002f6\\u002f2021\",\"6\\u002f7\\u002f2021\",\"6\\u002f8\\u002f2021\",\"6\\u002f9\\u002f2021\",\"6\\u002f10\\u002f2021\",\"6\\u002f11\\u002f2021\",\"6\\u002f12\\u002f2021\",\"13\\u002f6\\u002f2021\",\"14\\u002f6\\u002f2021\",\"15\\u002f6\\u002f2021\",\"16\\u002f6\\u002f2021\",\"17\\u002f6\\u002f2021\",\"18\\u002f6\\u002f2021\",\"19\\u002f6\\u002f2021\",\"20\\u002f6\\u002f2021\",\"21\\u002f6\\u002f2021\",\"22\\u002f6\\u002f2021\",\"23\\u002f6\\u002f2021\",\"24\\u002f6\\u002f2021\",\"25\\u002f6\\u002f2021\",\"26\\u002f6\\u002f2021\",\"27\\u002f6\\u002f2021\",\"28\\u002f6\\u002f2021\",\"29\\u002f6\\u002f2021\",\"30\\u002f6\\u002f2021\",\"7\\u002f1\\u002f2021\",\"7\\u002f2\\u002f2021\",\"7\\u002f3\\u002f2021\",\"7\\u002f4\\u002f2021\",\"7\\u002f5\\u002f2021\",\"7\\u002f6\\u002f2021\",\"7\\u002f7\\u002f2021\",\"7\\u002f8\\u002f2021\",\"7\\u002f9\\u002f2021\",\"7\\u002f10\\u002f2021\",\"7\\u002f11\\u002f2021\",\"7\\u002f12\\u002f2021\",\"13\\u002f7\\u002f2021\",\"14\\u002f7\\u002f2021\",\"15\\u002f7\\u002f2021\",\"16\\u002f7\\u002f2021\",\"17\\u002f7\\u002f2021\",\"18\\u002f7\\u002f2021\",\"19\\u002f7\\u002f2021\",\"20\\u002f7\\u002f2021\",\"21\\u002f7\\u002f2021\",\"22\\u002f7\\u002f2021\",\"23\\u002f7\\u002f2021\",\"24\\u002f7\\u002f2021\",\"25\\u002f7\\u002f2021\",\"26\\u002f7\\u002f2021\",\"27\\u002f7\\u002f2021\",\"28\\u002f7\\u002f2021\",\"29\\u002f7\\u002f2021\",\"30\\u002f7\\u002f2021\",\"31\\u002f7\\u002f2021\",\"8\\u002f1\\u002f2021\",\"8\\u002f2\\u002f2021\",\"8\\u002f3\\u002f2021\",\"8\\u002f4\\u002f2021\",\"8\\u002f5\\u002f2021\",\"8\\u002f6\\u002f2021\",\"8\\u002f7\\u002f2021\",\"8\\u002f8\\u002f2021\",\"8\\u002f9\\u002f2021\",\"8\\u002f10\\u002f2021\",\"8\\u002f11\\u002f2021\",\"8\\u002f12\\u002f2021\",\"13\\u002f8\\u002f2021\",\"14\\u002f8\\u002f2021\",\"15\\u002f8\\u002f2021\",\"16\\u002f8\\u002f2021\",\"17\\u002f8\\u002f2021\",\"18\\u002f8\\u002f2021\",\"19\\u002f8\\u002f2021\",\"20\\u002f8\\u002f2021\",\"21\\u002f8\\u002f2021\",\"22\\u002f8\\u002f2021\",\"23\\u002f8\\u002f2021\",\"24\\u002f8\\u002f2021\",\"25\\u002f8\\u002f2021\",\"26\\u002f8\\u002f2021\",\"27\\u002f8\\u002f2021\",\"28\\u002f8\\u002f2021\",\"29\\u002f8\\u002f2021\",\"30\\u002f8\\u002f2021\",\"31\\u002f8\\u002f2021\",\"9\\u002f1\\u002f2021\",\"9\\u002f2\\u002f2021\",\"9\\u002f3\\u002f2021\",\"9\\u002f4\\u002f2021\",\"9\\u002f5\\u002f2021\",\"9\\u002f6\\u002f2021\",\"9\\u002f7\\u002f2021\",\"9\\u002f8\\u002f2021\",\"9\\u002f9\\u002f2021\",\"9\\u002f10\\u002f2021\",\"9\\u002f11\\u002f2021\",\"9\\u002f12\\u002f2021\",\"13\\u002f9\\u002f2021\",\"14\\u002f9\\u002f2021\",\"15\\u002f9\\u002f2021\",\"16\\u002f9\\u002f2021\",\"17\\u002f9\\u002f2021\",\"18\\u002f9\\u002f2021\",\"19\\u002f9\\u002f2021\",\"20\\u002f9\\u002f2021\",\"21\\u002f9\\u002f2021\",\"22\\u002f9\\u002f2021\",\"23\\u002f9\\u002f2021\",\"24\\u002f9\\u002f2021\",\"25\\u002f9\\u002f2021\",\"26\\u002f9\\u002f2021\",\"27\\u002f9\\u002f2021\",\"28\\u002f9\\u002f2021\",\"29\\u002f9\\u002f2021\",\"30\\u002f9\\u002f2021\",\"10\\u002f1\\u002f2021\",\"10\\u002f2\\u002f2021\",\"10\\u002f3\\u002f2021\",\"10\\u002f4\\u002f2021\",\"10\\u002f5\\u002f2021\",\"10\\u002f6\\u002f2021\",\"10\\u002f7\\u002f2021\",\"10\\u002f8\\u002f2021\",\"10\\u002f9\\u002f2021\",\"10\\u002f10\\u002f2021\",\"10\\u002f11\\u002f2021\",\"10\\u002f12\\u002f2021\",\"13\\u002f10\\u002f2021\",\"14\\u002f10\\u002f2021\",\"15\\u002f10\\u002f2021\",\"16\\u002f10\\u002f2021\",\"17\\u002f10\\u002f2021\",\"18\\u002f10\\u002f2021\",\"19\\u002f10\\u002f2021\",\"20\\u002f10\\u002f2021\",\"21\\u002f10\\u002f2021\",\"22\\u002f10\\u002f2021\",\"23\\u002f10\\u002f2021\",\"24\\u002f10\\u002f2021\",\"25\\u002f10\\u002f2021\",\"26\\u002f10\\u002f2021\",\"27\\u002f10\\u002f2021\",\"28\\u002f10\\u002f2021\",\"29\\u002f10\\u002f2021\",\"30\\u002f10\\u002f2021\",\"31\\u002f10\\u002f2021\",\"11\\u002f1\\u002f2021\",\"11\\u002f2\\u002f2021\",\"11\\u002f3\\u002f2021\",\"11\\u002f4\\u002f2021\",\"11\\u002f5\\u002f2021\",\"11\\u002f6\\u002f2021\",\"11\\u002f7\\u002f2021\",\"11\\u002f8\\u002f2021\",\"11\\u002f9\\u002f2021\",\"11\\u002f10\\u002f2021\",\"11\\u002f11\\u002f2021\",\"11\\u002f12\\u002f2021\",\"13\\u002f11\\u002f2021\",\"14\\u002f11\\u002f2021\",\"15\\u002f11\\u002f2021\",\"16\\u002f11\\u002f2021\",\"17\\u002f11\\u002f2021\",\"18\\u002f11\\u002f2021\",\"19\\u002f11\\u002f2021\",\"20\\u002f11\\u002f2021\",\"21\\u002f11\\u002f2021\",\"22\\u002f11\\u002f2021\",\"23\\u002f11\\u002f2021\",\"24\\u002f11\\u002f2021\",\"25\\u002f11\\u002f2021\",\"26\\u002f11\\u002f2021\",\"27\\u002f11\\u002f2021\",\"28\\u002f11\\u002f2021\",\"29\\u002f11\\u002f2021\",\"30\\u002f11\\u002f2021\",\"12\\u002f1\\u002f2021\",\"12\\u002f2\\u002f2021\",\"12\\u002f3\\u002f2021\",\"12\\u002f4\\u002f2021\",\"12\\u002f5\\u002f2021\",\"12\\u002f6\\u002f2021\",\"12\\u002f7\\u002f2021\",\"12\\u002f8\\u002f2021\",\"12\\u002f9\\u002f2021\",\"12\\u002f10\\u002f2021\",\"12\\u002f11\\u002f2021\",\"12\\u002f12\\u002f2021\",\"13\\u002f12\\u002f2021\",\"14\\u002f12\\u002f2021\",\"15\\u002f12\\u002f2021\",\"16\\u002f12\\u002f2021\",\"17\\u002f12\\u002f2021\",\"18\\u002f12\\u002f2021\",\"19\\u002f12\\u002f2021\",\"20\\u002f12\\u002f2021\",\"21\\u002f12\\u002f2021\",\"22\\u002f12\\u002f2021\",\"23\\u002f12\\u002f2021\",\"24\\u002f12\\u002f2021\",\"25\\u002f12\\u002f2021\",\"26\\u002f12\\u002f2021\",\"27\\u002f12\\u002f2021\",\"28\\u002f12\\u002f2021\",\"29\\u002f12\\u002f2021\",\"30\\u002f12\\u002f2021\",\"31\\u002f12\\u002f2021\"],\"xaxis\":\"x\",\"y\":[964.4,1019.7,988.4,1002.0,1061.5,1061.5,1061.5,1061.5,1064.1,966.7,1002.0,1066.6,1061.5,1061.5,1061.5,1066.6,988.4,1058.0,1069.4,1069.4,1069.4,1061.5,1019.7,988.3,988.4,988.4,966.7,963.6,945.5,918.6,966.7,964.4,966.8,966.7,964.4,964.4,963.6,963.6,963.6,912.1,912.1,916.8,888.5,894.6,912.1,890.2,963.6,963.6,964.4,964.4,964.4,963.6,988.3,988.3,988.3,988.4,1002.0,988.4,964.4,988.3,1019.7,988.4,1002.0,1002.1,988.4,966.7,1002.0,1019.7,1019.7,1061.5,1002.1,1002.0,1019.7,1002.1,1061.5,1061.5,1069.4,1069.4,1061.5,966.7,1022.6,1022.6,1022.6,1064.0,1061.5,1061.5,966.7,1002.0,1061.5,1022.6,988.4,1002.0,988.4,966.7,1002.0,1061.5,1061.5,1061.5,1022.6,966.7,966.7,966.7,1061.5,1069.4,1064.1,1069.4,1069.4,1022.6,1069.4,1069.4,1069.4,1069.4,1069.4,1069.4,966.8,1061.5,1069.4,1069.4,1064.0,945.5,930.6,966.7,1061.5,1069.4,1061.5,1022.6,988.4,1002.0,964.4,1022.6,1061.5,1069.4,1069.4,1069.4,1069.4,1022.6,1069.4,1069.4,1061.5,1069.4,1069.4,1069.4,1061.5,1069.4,1069.4,1061.5,1061.5,1061.5,1002.1,990.9,1061.5,990.9,990.9,990.9,990.9,966.7,966.7,1022.6,1061.5,1069.4,1069.4,1061.5,990.9,990.9,990.9,966.7,1022.6,1022.6,1069.4,1064.0,990.9,966.7,1002.0,1022.6,1061.5,1069.4,1064.1,966.7,966.7,966.7,990.9,945.5,964.4,966.7,963.6,990.9,1061.5,966.8,990.9,1022.6,1022.6,964.5,966.8,990.9,990.9,1069.4,1069.4,1061.5,966.8,1069.4,1403.0,1565.5,1403.0,1520.2,1403.0,1087.5,1379.4,1331.3,1316.8,1061.5,990.9,964.4,945.5,990.9,1061.5,1064.1,1069.4,1069.4,1061.5,990.9,1069.4,1403.0,1422.9,1422.9,1423.1,1403.0,1379.4,1565.1,1503.4,1422.9,1403.0,1379.4,1316.9,1064.1,1069.4,1294.0,1293.5,1069.4,1069.4,990.9,945.5,1002.0,1022.6,1022.6,885.7,1022.6,1069.4,1022.6,1069.4,1061.5,1061.5,1061.5,1293.5,1069.4,966.7,1061.5,1069.4,1022.6,1002.0,1022.6,1002.0,945.5,990.9,1022.6,1022.6,1022.6,990.9,966.7,930.6,964.4,1002.0,1022.6,1002.1,1022.6,990.9,945.5,1002.0,1022.6,966.7,1022.6,1069.4,1022.6,964.4,1022.6,1069.4,1061.5,1064.1,1002.0,990.9,963.6,1002.0,1069.4,1069.4,1061.5,1061.5,1002.0,966.7,1002.0,1022.6,1022.6,990.9,1002.0,990.9,945.4,1002.0,1061.5,1002.0,1022.6,1002.0,990.9,963.6,990.9,1002.0,1069.4,1069.4,1061.5,1002.0,966.7,1069.4,1069.4,1069.4,1061.5,1069.4,1061.5,966.7,1022.6,1061.5,1002.0,1022.6,1002.1,966.8,963.6,966.7,990.9,1002.1,1022.6,1002.0,990.9,964.4,990.9,1002.0,1022.6,1061.5,1061.5,1022.6,966.7,1022.6,1061.5,1064.1,1061.5,1061.5,1022.6,990.9,1043.3,1061.5,1022.6,1022.6,1022.6,1002.0,966.7,1002.0,1002.0,1061.5,1022.6,1022.6],\"yaxis\":\"y\",\"type\":\"scatter\"}],                        {\"template\":{\"data\":{\"histogram2dcontour\":[{\"type\":\"histogram2dcontour\",\"colorbar\":{\"outlinewidth\":0,\"ticks\":\"\"},\"colorscale\":[[0.0,\"#0d0887\"],[0.1111111111111111,\"#46039f\"],[0.2222222222222222,\"#7201a8\"],[0.3333333333333333,\"#9c179e\"],[0.4444444444444444,\"#bd3786\"],[0.5555555555555556,\"#d8576b\"],[0.6666666666666666,\"#ed7953\"],[0.7777777777777778,\"#fb9f3a\"],[0.8888888888888888,\"#fdca26\"],[1.0,\"#f0f921\"]]}],\"choropleth\":[{\"type\":\"choropleth\",\"colorbar\":{\"outlinewidth\":0,\"ticks\":\"\"}}],\"histogram2d\":[{\"type\":\"histogram2d\",\"colorbar\":{\"outlinewidth\":0,\"ticks\":\"\"},\"colorscale\":[[0.0,\"#0d0887\"],[0.1111111111111111,\"#46039f\"],[0.2222222222222222,\"#7201a8\"],[0.3333333333333333,\"#9c179e\"],[0.4444444444444444,\"#bd3786\"],[0.5555555555555556,\"#d8576b\"],[0.6666666666666666,\"#ed7953\"],[0.7777777777777778,\"#fb9f3a\"],[0.8888888888888888,\"#fdca26\"],[1.0,\"#f0f921\"]]}],\"heatmap\":[{\"type\":\"heatmap\",\"colorbar\":{\"outlinewidth\":0,\"ticks\":\"\"},\"colorscale\":[[0.0,\"#0d0887\"],[0.1111111111111111,\"#46039f\"],[0.2222222222222222,\"#7201a8\"],[0.3333333333333333,\"#9c179e\"],[0.4444444444444444,\"#bd3786\"],[0.5555555555555556,\"#d8576b\"],[0.6666666666666666,\"#ed7953\"],[0.7777777777777778,\"#fb9f3a\"],[0.8888888888888888,\"#fdca26\"],[1.0,\"#f0f921\"]]}],\"heatmapgl\":[{\"type\":\"heatmapgl\",\"colorbar\":{\"outlinewidth\":0,\"ticks\":\"\"},\"colorscale\":[[0.0,\"#0d0887\"],[0.1111111111111111,\"#46039f\"],[0.2222222222222222,\"#7201a8\"],[0.3333333333333333,\"#9c179e\"],[0.4444444444444444,\"#bd3786\"],[0.5555555555555556,\"#d8576b\"],[0.6666666666666666,\"#ed7953\"],[0.7777777777777778,\"#fb9f3a\"],[0.8888888888888888,\"#fdca26\"],[1.0,\"#f0f921\"]]}],\"contourcarpet\":[{\"type\":\"contourcarpet\",\"colorbar\":{\"outlinewidth\":0,\"ticks\":\"\"}}],\"contour\":[{\"type\":\"contour\",\"colorbar\":{\"outlinewidth\":0,\"ticks\":\"\"},\"colorscale\":[[0.0,\"#0d0887\"],[0.1111111111111111,\"#46039f\"],[0.2222222222222222,\"#7201a8\"],[0.3333333333333333,\"#9c179e\"],[0.4444444444444444,\"#bd3786\"],[0.5555555555555556,\"#d8576b\"],[0.6666666666666666,\"#ed7953\"],[0.7777777777777778,\"#fb9f3a\"],[0.8888888888888888,\"#fdca26\"],[1.0,\"#f0f921\"]]}],\"surface\":[{\"type\":\"surface\",\"colorbar\":{\"outlinewidth\":0,\"ticks\":\"\"},\"colorscale\":[[0.0,\"#0d0887\"],[0.1111111111111111,\"#46039f\"],[0.2222222222222222,\"#7201a8\"],[0.3333333333333333,\"#9c179e\"],[0.4444444444444444,\"#bd3786\"],[0.5555555555555556,\"#d8576b\"],[0.6666666666666666,\"#ed7953\"],[0.7777777777777778,\"#fb9f3a\"],[0.8888888888888888,\"#fdca26\"],[1.0,\"#f0f921\"]]}],\"mesh3d\":[{\"type\":\"mesh3d\",\"colorbar\":{\"outlinewidth\":0,\"ticks\":\"\"}}],\"scatter\":[{\"fillpattern\":{\"fillmode\":\"overlay\",\"size\":10,\"solidity\":0.2},\"type\":\"scatter\"}],\"parcoords\":[{\"type\":\"parcoords\",\"line\":{\"colorbar\":{\"outlinewidth\":0,\"ticks\":\"\"}}}],\"scatterpolargl\":[{\"type\":\"scatterpolargl\",\"marker\":{\"colorbar\":{\"outlinewidth\":0,\"ticks\":\"\"}}}],\"bar\":[{\"error_x\":{\"color\":\"#2a3f5f\"},\"error_y\":{\"color\":\"#2a3f5f\"},\"marker\":{\"line\":{\"color\":\"#E5ECF6\",\"width\":0.5},\"pattern\":{\"fillmode\":\"overlay\",\"size\":10,\"solidity\":0.2}},\"type\":\"bar\"}],\"scattergeo\":[{\"type\":\"scattergeo\",\"marker\":{\"colorbar\":{\"outlinewidth\":0,\"ticks\":\"\"}}}],\"scatterpolar\":[{\"type\":\"scatterpolar\",\"marker\":{\"colorbar\":{\"outlinewidth\":0,\"ticks\":\"\"}}}],\"histogram\":[{\"marker\":{\"pattern\":{\"fillmode\":\"overlay\",\"size\":10,\"solidity\":0.2}},\"type\":\"histogram\"}],\"scattergl\":[{\"type\":\"scattergl\",\"marker\":{\"colorbar\":{\"outlinewidth\":0,\"ticks\":\"\"}}}],\"scatter3d\":[{\"type\":\"scatter3d\",\"line\":{\"colorbar\":{\"outlinewidth\":0,\"ticks\":\"\"}},\"marker\":{\"colorbar\":{\"outlinewidth\":0,\"ticks\":\"\"}}}],\"scattermapbox\":[{\"type\":\"scattermapbox\",\"marker\":{\"colorbar\":{\"outlinewidth\":0,\"ticks\":\"\"}}}],\"scatterternary\":[{\"type\":\"scatterternary\",\"marker\":{\"colorbar\":{\"outlinewidth\":0,\"ticks\":\"\"}}}],\"scattercarpet\":[{\"type\":\"scattercarpet\",\"marker\":{\"colorbar\":{\"outlinewidth\":0,\"ticks\":\"\"}}}],\"carpet\":[{\"aaxis\":{\"endlinecolor\":\"#2a3f5f\",\"gridcolor\":\"white\",\"linecolor\":\"white\",\"minorgridcolor\":\"white\",\"startlinecolor\":\"#2a3f5f\"},\"baxis\":{\"endlinecolor\":\"#2a3f5f\",\"gridcolor\":\"white\",\"linecolor\":\"white\",\"minorgridcolor\":\"white\",\"startlinecolor\":\"#2a3f5f\"},\"type\":\"carpet\"}],\"table\":[{\"cells\":{\"fill\":{\"color\":\"#EBF0F8\"},\"line\":{\"color\":\"white\"}},\"header\":{\"fill\":{\"color\":\"#C8D4E3\"},\"line\":{\"color\":\"white\"}},\"type\":\"table\"}],\"barpolar\":[{\"marker\":{\"line\":{\"color\":\"#E5ECF6\",\"width\":0.5},\"pattern\":{\"fillmode\":\"overlay\",\"size\":10,\"solidity\":0.2}},\"type\":\"barpolar\"}],\"pie\":[{\"automargin\":true,\"type\":\"pie\"}]},\"layout\":{\"autotypenumbers\":\"strict\",\"colorway\":[\"#636efa\",\"#EF553B\",\"#00cc96\",\"#ab63fa\",\"#FFA15A\",\"#19d3f3\",\"#FF6692\",\"#B6E880\",\"#FF97FF\",\"#FECB52\"],\"font\":{\"color\":\"#2a3f5f\"},\"hovermode\":\"closest\",\"hoverlabel\":{\"align\":\"left\"},\"paper_bgcolor\":\"white\",\"plot_bgcolor\":\"#E5ECF6\",\"polar\":{\"bgcolor\":\"#E5ECF6\",\"angularaxis\":{\"gridcolor\":\"white\",\"linecolor\":\"white\",\"ticks\":\"\"},\"radialaxis\":{\"gridcolor\":\"white\",\"linecolor\":\"white\",\"ticks\":\"\"}},\"ternary\":{\"bgcolor\":\"#E5ECF6\",\"aaxis\":{\"gridcolor\":\"white\",\"linecolor\":\"white\",\"ticks\":\"\"},\"baxis\":{\"gridcolor\":\"white\",\"linecolor\":\"white\",\"ticks\":\"\"},\"caxis\":{\"gridcolor\":\"white\",\"linecolor\":\"white\",\"ticks\":\"\"}},\"coloraxis\":{\"colorbar\":{\"outlinewidth\":0,\"ticks\":\"\"}},\"colorscale\":{\"sequential\":[[0.0,\"#0d0887\"],[0.1111111111111111,\"#46039f\"],[0.2222222222222222,\"#7201a8\"],[0.3333333333333333,\"#9c179e\"],[0.4444444444444444,\"#bd3786\"],[0.5555555555555556,\"#d8576b\"],[0.6666666666666666,\"#ed7953\"],[0.7777777777777778,\"#fb9f3a\"],[0.8888888888888888,\"#fdca26\"],[1.0,\"#f0f921\"]],\"sequentialminus\":[[0.0,\"#0d0887\"],[0.1111111111111111,\"#46039f\"],[0.2222222222222222,\"#7201a8\"],[0.3333333333333333,\"#9c179e\"],[0.4444444444444444,\"#bd3786\"],[0.5555555555555556,\"#d8576b\"],[0.6666666666666666,\"#ed7953\"],[0.7777777777777778,\"#fb9f3a\"],[0.8888888888888888,\"#fdca26\"],[1.0,\"#f0f921\"]],\"diverging\":[[0,\"#8e0152\"],[0.1,\"#c51b7d\"],[0.2,\"#de77ae\"],[0.3,\"#f1b6da\"],[0.4,\"#fde0ef\"],[0.5,\"#f7f7f7\"],[0.6,\"#e6f5d0\"],[0.7,\"#b8e186\"],[0.8,\"#7fbc41\"],[0.9,\"#4d9221\"],[1,\"#276419\"]]},\"xaxis\":{\"gridcolor\":\"white\",\"linecolor\":\"white\",\"ticks\":\"\",\"title\":{\"standoff\":15},\"zerolinecolor\":\"white\",\"automargin\":true,\"zerolinewidth\":2},\"yaxis\":{\"gridcolor\":\"white\",\"linecolor\":\"white\",\"ticks\":\"\",\"title\":{\"standoff\":15},\"zerolinecolor\":\"white\",\"automargin\":true,\"zerolinewidth\":2},\"scene\":{\"xaxis\":{\"backgroundcolor\":\"#E5ECF6\",\"gridcolor\":\"white\",\"linecolor\":\"white\",\"showbackground\":true,\"ticks\":\"\",\"zerolinecolor\":\"white\",\"gridwidth\":2},\"yaxis\":{\"backgroundcolor\":\"#E5ECF6\",\"gridcolor\":\"white\",\"linecolor\":\"white\",\"showbackground\":true,\"ticks\":\"\",\"zerolinecolor\":\"white\",\"gridwidth\":2},\"zaxis\":{\"backgroundcolor\":\"#E5ECF6\",\"gridcolor\":\"white\",\"linecolor\":\"white\",\"showbackground\":true,\"ticks\":\"\",\"zerolinecolor\":\"white\",\"gridwidth\":2}},\"shapedefaults\":{\"line\":{\"color\":\"#2a3f5f\"}},\"annotationdefaults\":{\"arrowcolor\":\"#2a3f5f\",\"arrowhead\":0,\"arrowwidth\":1},\"geo\":{\"bgcolor\":\"white\",\"landcolor\":\"#E5ECF6\",\"subunitcolor\":\"white\",\"showland\":true,\"showlakes\":true,\"lakecolor\":\"white\"},\"title\":{\"x\":0.05},\"mapbox\":{\"style\":\"light\"}}},\"xaxis\":{\"anchor\":\"y\",\"domain\":[0.0,1.0],\"title\":{\"text\":\"Ng\\u00e0y\"}},\"yaxis\":{\"anchor\":\"x\",\"domain\":[0.0,1.0],\"title\":{\"text\":\"C\\u1ed9t 1\"}},\"legend\":{\"tracegroupgap\":0},\"margin\":{\"t\":60},\"title\":{\"text\":\"Data\",\"y\":0.95,\"x\":0.5,\"xanchor\":\"center\",\"yanchor\":\"top\"},\"plot_bgcolor\":\"rgba(255,255,255,0.8)\"},                        {\"responsive\": true}                    ).then(function(){\n",
       "                            \n",
       "var gd = document.getElementById('270c8c9b-943e-491a-85a1-620b41a8b318');\n",
       "var x = new MutationObserver(function (mutations, observer) {{\n",
       "        var display = window.getComputedStyle(gd).display;\n",
       "        if (!display || display === 'none') {{\n",
       "            console.log([gd, 'removed!']);\n",
       "            Plotly.purge(gd);\n",
       "            observer.disconnect();\n",
       "        }}\n",
       "}});\n",
       "\n",
       "// Listen for the removal of the full notebook cells\n",
       "var notebookContainer = gd.closest('#notebook-container');\n",
       "if (notebookContainer) {{\n",
       "    x.observe(notebookContainer, {childList: true});\n",
       "}}\n",
       "\n",
       "// Listen for the clearing of the current output cell\n",
       "var outputEl = gd.closest('.output');\n",
       "if (outputEl) {{\n",
       "    x.observe(outputEl, {childList: true});\n",
       "}}\n",
       "\n",
       "                        })                };                });            </script>        </div>"
      ]
     },
     "metadata": {},
     "output_type": "display_data"
    }
   ],
   "source": [
    "import plotly.express as px\n",
    "fig = px.line(y=df['4'], x=df['Ngày'])\n",
    "fig.update_traces(line_color='purple') \n",
    "fig.update_layout(xaxis_title=\"Ngày\", \n",
    "                  yaxis_title=\"Cột 1\",\n",
    "                  title={'text': \"Data\", 'y':0.95, 'x':0.5, 'xanchor':'center', 'yanchor':'top'},\n",
    "                  plot_bgcolor='rgba(255,255,255,0.8)')"
   ]
  },
  {
   "cell_type": "code",
   "execution_count": 203,
   "id": "1f179219-dc94-46b3-9b3f-bd7af54656ad",
   "metadata": {},
   "outputs": [
    {
     "data": {
      "application/vnd.plotly.v1+json": {
       "config": {
        "plotlyServerURL": "https://plot.ly"
       },
       "data": [
        {
         "hovertemplate": "x=%{x}<br>y=%{y}<extra></extra>",
         "legendgroup": "",
         "line": {
          "color": "slategray",
          "dash": "solid"
         },
         "marker": {
          "symbol": "circle"
         },
         "mode": "lines",
         "name": "",
         "orientation": "v",
         "showlegend": false,
         "type": "scatter",
         "x": [
          "1/1/2021",
          "1/2/2021",
          "1/3/2021",
          "1/4/2021",
          "1/5/2021",
          "1/6/2021",
          "1/7/2021",
          "1/8/2021",
          "1/9/2021",
          "1/10/2021",
          "1/11/2021",
          "1/12/2021",
          "13/1/2021",
          "14/1/2021",
          "15/1/2021",
          "16/1/2021",
          "17/1/2021",
          "18/1/2021",
          "19/1/2021",
          "20/1/2021",
          "21/1/2021",
          "22/1/2021",
          "23/1/2021",
          "24/1/2021",
          "25/1/2021",
          "26/1/2021",
          "27/1/2021",
          "28/1/2021",
          "29/1/2021",
          "30/1/2021",
          "31/1/2021",
          "2/1/2021",
          "2/2/2021",
          "2/3/2021",
          "2/4/2021",
          "2/5/2021",
          "2/6/2021",
          "2/7/2021",
          "2/8/2021",
          "2/9/2021",
          "2/10/2021",
          "2/11/2021",
          "2/12/2021",
          "13/2/2021",
          "14/2/2021",
          "15/2/2021",
          "16/2/2021",
          "17/2/2021",
          "18/2/2021",
          "19/2/2021",
          "20/2/2021",
          "21/2/2021",
          "22/2/2021",
          "23/2/2021",
          "24/2/2021",
          "25/2/2021",
          "26/2/2021",
          "27/2/2021",
          "28/2/2021",
          "3/1/2021",
          "3/2/2021",
          "3/3/2021",
          "3/4/2021",
          "3/5/2021",
          "3/6/2021",
          "3/7/2021",
          "3/8/2021",
          "3/9/2021",
          "3/10/2021",
          "3/11/2021",
          "3/12/2021",
          "13/3/2021",
          "14/3/2021",
          "15/3/2021",
          "16/3/2021",
          "17/3/2021",
          "18/3/2021",
          "19/3/2021",
          "20/3/2021",
          "21/3/2021",
          "22/3/2021",
          "23/3/2021",
          "24/3/2021",
          "25/3/2021",
          "26/3/2021",
          "27/3/2021",
          "28/3/2021",
          "29/3/2021",
          "30/3/2021",
          "31/3/2021",
          "4/1/2021",
          "4/2/2021",
          "4/3/2021",
          "4/4/2021",
          "4/5/2021",
          "4/6/2021",
          "4/7/2021",
          "4/8/2021",
          "4/9/2021",
          "4/10/2021",
          "4/11/2021",
          "4/12/2021",
          "13/4/2021",
          "14/4/2021",
          "15/4/2021",
          "16/4/2021",
          "17/4/2021",
          "18/4/2021",
          "19/4/2021",
          "20/4/2021",
          "21/4/2021",
          "22/4/2021",
          "23/4/2021",
          "24/4/2021",
          "25/4/2021",
          "26/4/2021",
          "27/4/2021",
          "28/4/2021",
          "29/4/2021",
          "30/4/2021",
          "5/1/2021",
          "5/2/2021",
          "5/3/2021",
          "5/4/2021",
          "5/5/2021",
          "5/6/2021",
          "5/7/2021",
          "5/8/2021",
          "5/9/2021",
          "5/10/2021",
          "5/11/2021",
          "5/12/2021",
          "13/5/2021",
          "14/5/2021",
          "15/5/2021",
          "16/5/2021",
          "17/5/2021",
          "18/5/2021",
          "19/5/2021",
          "20/5/2021",
          "21/5/2021",
          "22/5/2021",
          "23/5/2021",
          "24/5/2021",
          "25/5/2021",
          "26/5/2021",
          "27/5/2021",
          "28/5/2021",
          "29/5/2021",
          "30/5/2021",
          "31/5/2021",
          "6/1/2021",
          "6/2/2021",
          "6/3/2021",
          "6/4/2021",
          "6/5/2021",
          "6/6/2021",
          "6/7/2021",
          "6/8/2021",
          "6/9/2021",
          "6/10/2021",
          "6/11/2021",
          "6/12/2021",
          "13/6/2021",
          "14/6/2021",
          "15/6/2021",
          "16/6/2021",
          "17/6/2021",
          "18/6/2021",
          "19/6/2021",
          "20/6/2021",
          "21/6/2021",
          "22/6/2021",
          "23/6/2021",
          "24/6/2021",
          "25/6/2021",
          "26/6/2021",
          "27/6/2021",
          "28/6/2021",
          "29/6/2021",
          "30/6/2021",
          "7/1/2021",
          "7/2/2021",
          "7/3/2021",
          "7/4/2021",
          "7/5/2021",
          "7/6/2021",
          "7/7/2021",
          "7/8/2021",
          "7/9/2021",
          "7/10/2021",
          "7/11/2021",
          "7/12/2021",
          "13/7/2021",
          "14/7/2021",
          "15/7/2021",
          "16/7/2021",
          "17/7/2021",
          "18/7/2021",
          "19/7/2021",
          "20/7/2021",
          "21/7/2021",
          "22/7/2021",
          "23/7/2021",
          "24/7/2021",
          "25/7/2021",
          "26/7/2021",
          "27/7/2021",
          "28/7/2021",
          "29/7/2021",
          "30/7/2021",
          "31/7/2021",
          "8/1/2021",
          "8/2/2021",
          "8/3/2021",
          "8/4/2021",
          "8/5/2021",
          "8/6/2021",
          "8/7/2021",
          "8/8/2021",
          "8/9/2021",
          "8/10/2021",
          "8/11/2021",
          "8/12/2021",
          "13/8/2021",
          "14/8/2021",
          "15/8/2021",
          "16/8/2021",
          "17/8/2021",
          "18/8/2021",
          "19/8/2021",
          "20/8/2021",
          "21/8/2021",
          "22/8/2021",
          "23/8/2021",
          "24/8/2021",
          "25/8/2021",
          "26/8/2021",
          "27/8/2021",
          "28/8/2021",
          "29/8/2021",
          "30/8/2021",
          "31/8/2021",
          "9/1/2021",
          "9/2/2021",
          "9/3/2021",
          "9/4/2021",
          "9/5/2021",
          "9/6/2021",
          "9/7/2021",
          "9/8/2021",
          "9/9/2021",
          "9/10/2021",
          "9/11/2021",
          "9/12/2021",
          "13/9/2021",
          "14/9/2021",
          "15/9/2021",
          "16/9/2021",
          "17/9/2021",
          "18/9/2021",
          "19/9/2021",
          "20/9/2021",
          "21/9/2021",
          "22/9/2021",
          "23/9/2021",
          "24/9/2021",
          "25/9/2021",
          "26/9/2021",
          "27/9/2021",
          "28/9/2021",
          "29/9/2021",
          "30/9/2021",
          "10/1/2021",
          "10/2/2021",
          "10/3/2021",
          "10/4/2021",
          "10/5/2021",
          "10/6/2021",
          "10/7/2021",
          "10/8/2021",
          "10/9/2021",
          "10/10/2021",
          "10/11/2021",
          "10/12/2021",
          "13/10/2021",
          "14/10/2021",
          "15/10/2021",
          "16/10/2021",
          "17/10/2021",
          "18/10/2021",
          "19/10/2021",
          "20/10/2021",
          "21/10/2021",
          "22/10/2021",
          "23/10/2021",
          "24/10/2021",
          "25/10/2021",
          "26/10/2021",
          "27/10/2021",
          "28/10/2021",
          "29/10/2021",
          "30/10/2021",
          "31/10/2021",
          "11/1/2021",
          "11/2/2021",
          "11/3/2021",
          "11/4/2021",
          "11/5/2021",
          "11/6/2021",
          "11/7/2021",
          "11/8/2021",
          "11/9/2021",
          "11/10/2021",
          "11/11/2021",
          "11/12/2021",
          "13/11/2021",
          "14/11/2021",
          "15/11/2021",
          "16/11/2021",
          "17/11/2021",
          "18/11/2021",
          "19/11/2021",
          "20/11/2021",
          "21/11/2021",
          "22/11/2021",
          "23/11/2021",
          "24/11/2021",
          "25/11/2021",
          "26/11/2021",
          "27/11/2021",
          "28/11/2021",
          "29/11/2021",
          "30/11/2021",
          "12/1/2021",
          "12/2/2021",
          "12/3/2021",
          "12/4/2021",
          "12/5/2021",
          "12/6/2021",
          "12/7/2021",
          "12/8/2021",
          "12/9/2021",
          "12/10/2021",
          "12/11/2021",
          "12/12/2021",
          "13/12/2021",
          "14/12/2021",
          "15/12/2021",
          "16/12/2021",
          "17/12/2021",
          "18/12/2021",
          "19/12/2021",
          "20/12/2021",
          "21/12/2021",
          "22/12/2021",
          "23/12/2021",
          "24/12/2021",
          "25/12/2021",
          "26/12/2021",
          "27/12/2021",
          "28/12/2021",
          "29/12/2021",
          "30/12/2021",
          "31/12/2021"
         ],
         "xaxis": "x",
         "y": [
          964.4,
          1019.7,
          988.4,
          1002,
          1061.5,
          1061.5,
          1061.5,
          1061.5,
          1064.1,
          966.7,
          1002,
          1066.6,
          1061.5,
          1061.5,
          1061.5,
          1066.6,
          988.4,
          1058,
          1069.4,
          1069.4,
          1069.4,
          1061.5,
          1019.7,
          988.3,
          988.4,
          988.4,
          966.7,
          963.6,
          945.5,
          918.6,
          966.7,
          964.4,
          966.8,
          966.7,
          964.4,
          964.4,
          963.6,
          963.6,
          963.6,
          912.1,
          912.1,
          916.8,
          888.5,
          894.6,
          912.1,
          890.2,
          963.6,
          963.6,
          964.4,
          964.4,
          964.4,
          963.6,
          988.3,
          988.3,
          988.3,
          988.4,
          1002,
          988.4,
          964.4,
          988.3,
          1019.7,
          988.4,
          1002,
          1002.1,
          988.4,
          966.7,
          1002,
          1019.7,
          1019.7,
          1061.5,
          1002.1,
          1002,
          1019.7,
          1002.1,
          1061.5,
          1061.5,
          1069.4,
          1069.4,
          1061.5,
          966.7,
          1022.6,
          1022.6,
          1022.6,
          1064,
          1061.5,
          1061.5,
          966.7,
          1002,
          1061.5,
          1022.6,
          988.4,
          1002,
          988.4,
          966.7,
          1002,
          1061.5,
          1061.5,
          1061.5,
          1022.6,
          966.7,
          966.7,
          966.7,
          1061.5,
          1069.4,
          1064.1,
          1069.4,
          1069.4,
          1022.6,
          1069.4,
          1069.4,
          1069.4,
          1069.4,
          1069.4,
          1069.4,
          966.8,
          1061.5,
          1069.4,
          1069.4,
          1064,
          945.5,
          930.6,
          966.7,
          1061.5,
          1069.4,
          1061.5,
          1022.6,
          988.4,
          1002,
          964.4,
          1022.6,
          1061.5,
          1069.4,
          1069.4,
          1069.4,
          1069.4,
          1022.6,
          1069.4,
          1069.4,
          1061.5,
          1069.4,
          1069.4,
          1069.4,
          1061.5,
          1069.4,
          1069.4,
          1061.5,
          1061.5,
          1061.5,
          1002.1,
          990.9,
          1061.5,
          990.9,
          990.9,
          990.9,
          990.9,
          966.7,
          966.7,
          1022.6,
          1061.5,
          1069.4,
          1069.4,
          1061.5,
          990.9,
          990.9,
          990.9,
          966.7,
          1022.6,
          1022.6,
          1069.4,
          1064,
          990.9,
          966.7,
          1002,
          1022.6,
          1061.5,
          1069.4,
          1064.1,
          966.7,
          966.7,
          966.7,
          990.9,
          945.5,
          964.4,
          966.7,
          963.6,
          990.9,
          1061.5,
          966.8,
          990.9,
          1022.6,
          1022.6,
          964.5,
          966.8,
          990.9,
          990.9,
          1069.4,
          1069.4,
          1061.5,
          966.8,
          1069.4,
          1403,
          1565.5,
          1403,
          1520.2,
          1403,
          1087.5,
          1379.4,
          1331.3,
          1316.8,
          1061.5,
          990.9,
          964.4,
          945.5,
          990.9,
          1061.5,
          1064.1,
          1069.4,
          1069.4,
          1061.5,
          990.9,
          1069.4,
          1403,
          1422.9,
          1422.9,
          1423.1,
          1403,
          1379.4,
          1565.1,
          1503.4,
          1422.9,
          1403,
          1379.4,
          1316.9,
          1064.1,
          1069.4,
          1294,
          1293.5,
          1069.4,
          1069.4,
          990.9,
          945.5,
          1002,
          1022.6,
          1022.6,
          885.7,
          1022.6,
          1069.4,
          1022.6,
          1069.4,
          1061.5,
          1061.5,
          1061.5,
          1293.5,
          1069.4,
          966.7,
          1061.5,
          1069.4,
          1022.6,
          1002,
          1022.6,
          1002,
          945.5,
          990.9,
          1022.6,
          1022.6,
          1022.6,
          990.9,
          966.7,
          930.6,
          964.4,
          1002,
          1022.6,
          1002.1,
          1022.6,
          990.9,
          945.5,
          1002,
          1022.6,
          966.7,
          1022.6,
          1069.4,
          1022.6,
          964.4,
          1022.6,
          1069.4,
          1061.5,
          1064.1,
          1002,
          990.9,
          963.6,
          1002,
          1069.4,
          1069.4,
          1061.5,
          1061.5,
          1002,
          966.7,
          1002,
          1022.6,
          1022.6,
          990.9,
          1002,
          990.9,
          945.4,
          1002,
          1061.5,
          1002,
          1022.6,
          1002,
          990.9,
          963.6,
          990.9,
          1002,
          1069.4,
          1069.4,
          1061.5,
          1002,
          966.7,
          1069.4,
          1069.4,
          1069.4,
          1061.5,
          1069.4,
          1061.5,
          966.8,
          1022.6,
          1061.5,
          1002,
          1022.6,
          1002.1,
          966.8,
          963.7,
          966.7,
          990.9,
          1002.1,
          1022.6,
          1002,
          990.9,
          964.4,
          990.9,
          1002,
          1022.6,
          1061.5,
          1061.5,
          1022.6,
          966.7,
          1022.6,
          1061.5,
          1064.1,
          1061.5,
          1061.5,
          1022.6,
          990.9,
          1043.3,
          1061.5,
          1022.6,
          1022.6,
          1022.6,
          1002,
          966.7,
          1002,
          1002,
          1061.5,
          1022.6,
          1022.6
         ],
         "yaxis": "y"
        }
       ],
       "layout": {
        "autosize": true,
        "legend": {
         "tracegroupgap": 0
        },
        "margin": {
         "t": 60
        },
        "plot_bgcolor": "rgba(255,255,255,0.8)",
        "template": {
         "data": {
          "bar": [
           {
            "error_x": {
             "color": "#2a3f5f"
            },
            "error_y": {
             "color": "#2a3f5f"
            },
            "marker": {
             "line": {
              "color": "#E5ECF6",
              "width": 0.5
             },
             "pattern": {
              "fillmode": "overlay",
              "size": 10,
              "solidity": 0.2
             }
            },
            "type": "bar"
           }
          ],
          "barpolar": [
           {
            "marker": {
             "line": {
              "color": "#E5ECF6",
              "width": 0.5
             },
             "pattern": {
              "fillmode": "overlay",
              "size": 10,
              "solidity": 0.2
             }
            },
            "type": "barpolar"
           }
          ],
          "carpet": [
           {
            "aaxis": {
             "endlinecolor": "#2a3f5f",
             "gridcolor": "white",
             "linecolor": "white",
             "minorgridcolor": "white",
             "startlinecolor": "#2a3f5f"
            },
            "baxis": {
             "endlinecolor": "#2a3f5f",
             "gridcolor": "white",
             "linecolor": "white",
             "minorgridcolor": "white",
             "startlinecolor": "#2a3f5f"
            },
            "type": "carpet"
           }
          ],
          "choropleth": [
           {
            "colorbar": {
             "outlinewidth": 0,
             "ticks": ""
            },
            "type": "choropleth"
           }
          ],
          "contour": [
           {
            "colorbar": {
             "outlinewidth": 0,
             "ticks": ""
            },
            "colorscale": [
             [
              0,
              "#0d0887"
             ],
             [
              0.1111111111111111,
              "#46039f"
             ],
             [
              0.2222222222222222,
              "#7201a8"
             ],
             [
              0.3333333333333333,
              "#9c179e"
             ],
             [
              0.4444444444444444,
              "#bd3786"
             ],
             [
              0.5555555555555556,
              "#d8576b"
             ],
             [
              0.6666666666666666,
              "#ed7953"
             ],
             [
              0.7777777777777778,
              "#fb9f3a"
             ],
             [
              0.8888888888888888,
              "#fdca26"
             ],
             [
              1,
              "#f0f921"
             ]
            ],
            "type": "contour"
           }
          ],
          "contourcarpet": [
           {
            "colorbar": {
             "outlinewidth": 0,
             "ticks": ""
            },
            "type": "contourcarpet"
           }
          ],
          "heatmap": [
           {
            "colorbar": {
             "outlinewidth": 0,
             "ticks": ""
            },
            "colorscale": [
             [
              0,
              "#0d0887"
             ],
             [
              0.1111111111111111,
              "#46039f"
             ],
             [
              0.2222222222222222,
              "#7201a8"
             ],
             [
              0.3333333333333333,
              "#9c179e"
             ],
             [
              0.4444444444444444,
              "#bd3786"
             ],
             [
              0.5555555555555556,
              "#d8576b"
             ],
             [
              0.6666666666666666,
              "#ed7953"
             ],
             [
              0.7777777777777778,
              "#fb9f3a"
             ],
             [
              0.8888888888888888,
              "#fdca26"
             ],
             [
              1,
              "#f0f921"
             ]
            ],
            "type": "heatmap"
           }
          ],
          "heatmapgl": [
           {
            "colorbar": {
             "outlinewidth": 0,
             "ticks": ""
            },
            "colorscale": [
             [
              0,
              "#0d0887"
             ],
             [
              0.1111111111111111,
              "#46039f"
             ],
             [
              0.2222222222222222,
              "#7201a8"
             ],
             [
              0.3333333333333333,
              "#9c179e"
             ],
             [
              0.4444444444444444,
              "#bd3786"
             ],
             [
              0.5555555555555556,
              "#d8576b"
             ],
             [
              0.6666666666666666,
              "#ed7953"
             ],
             [
              0.7777777777777778,
              "#fb9f3a"
             ],
             [
              0.8888888888888888,
              "#fdca26"
             ],
             [
              1,
              "#f0f921"
             ]
            ],
            "type": "heatmapgl"
           }
          ],
          "histogram": [
           {
            "marker": {
             "pattern": {
              "fillmode": "overlay",
              "size": 10,
              "solidity": 0.2
             }
            },
            "type": "histogram"
           }
          ],
          "histogram2d": [
           {
            "colorbar": {
             "outlinewidth": 0,
             "ticks": ""
            },
            "colorscale": [
             [
              0,
              "#0d0887"
             ],
             [
              0.1111111111111111,
              "#46039f"
             ],
             [
              0.2222222222222222,
              "#7201a8"
             ],
             [
              0.3333333333333333,
              "#9c179e"
             ],
             [
              0.4444444444444444,
              "#bd3786"
             ],
             [
              0.5555555555555556,
              "#d8576b"
             ],
             [
              0.6666666666666666,
              "#ed7953"
             ],
             [
              0.7777777777777778,
              "#fb9f3a"
             ],
             [
              0.8888888888888888,
              "#fdca26"
             ],
             [
              1,
              "#f0f921"
             ]
            ],
            "type": "histogram2d"
           }
          ],
          "histogram2dcontour": [
           {
            "colorbar": {
             "outlinewidth": 0,
             "ticks": ""
            },
            "colorscale": [
             [
              0,
              "#0d0887"
             ],
             [
              0.1111111111111111,
              "#46039f"
             ],
             [
              0.2222222222222222,
              "#7201a8"
             ],
             [
              0.3333333333333333,
              "#9c179e"
             ],
             [
              0.4444444444444444,
              "#bd3786"
             ],
             [
              0.5555555555555556,
              "#d8576b"
             ],
             [
              0.6666666666666666,
              "#ed7953"
             ],
             [
              0.7777777777777778,
              "#fb9f3a"
             ],
             [
              0.8888888888888888,
              "#fdca26"
             ],
             [
              1,
              "#f0f921"
             ]
            ],
            "type": "histogram2dcontour"
           }
          ],
          "mesh3d": [
           {
            "colorbar": {
             "outlinewidth": 0,
             "ticks": ""
            },
            "type": "mesh3d"
           }
          ],
          "parcoords": [
           {
            "line": {
             "colorbar": {
              "outlinewidth": 0,
              "ticks": ""
             }
            },
            "type": "parcoords"
           }
          ],
          "pie": [
           {
            "automargin": true,
            "type": "pie"
           }
          ],
          "scatter": [
           {
            "fillpattern": {
             "fillmode": "overlay",
             "size": 10,
             "solidity": 0.2
            },
            "type": "scatter"
           }
          ],
          "scatter3d": [
           {
            "line": {
             "colorbar": {
              "outlinewidth": 0,
              "ticks": ""
             }
            },
            "marker": {
             "colorbar": {
              "outlinewidth": 0,
              "ticks": ""
             }
            },
            "type": "scatter3d"
           }
          ],
          "scattercarpet": [
           {
            "marker": {
             "colorbar": {
              "outlinewidth": 0,
              "ticks": ""
             }
            },
            "type": "scattercarpet"
           }
          ],
          "scattergeo": [
           {
            "marker": {
             "colorbar": {
              "outlinewidth": 0,
              "ticks": ""
             }
            },
            "type": "scattergeo"
           }
          ],
          "scattergl": [
           {
            "marker": {
             "colorbar": {
              "outlinewidth": 0,
              "ticks": ""
             }
            },
            "type": "scattergl"
           }
          ],
          "scattermapbox": [
           {
            "marker": {
             "colorbar": {
              "outlinewidth": 0,
              "ticks": ""
             }
            },
            "type": "scattermapbox"
           }
          ],
          "scatterpolar": [
           {
            "marker": {
             "colorbar": {
              "outlinewidth": 0,
              "ticks": ""
             }
            },
            "type": "scatterpolar"
           }
          ],
          "scatterpolargl": [
           {
            "marker": {
             "colorbar": {
              "outlinewidth": 0,
              "ticks": ""
             }
            },
            "type": "scatterpolargl"
           }
          ],
          "scatterternary": [
           {
            "marker": {
             "colorbar": {
              "outlinewidth": 0,
              "ticks": ""
             }
            },
            "type": "scatterternary"
           }
          ],
          "surface": [
           {
            "colorbar": {
             "outlinewidth": 0,
             "ticks": ""
            },
            "colorscale": [
             [
              0,
              "#0d0887"
             ],
             [
              0.1111111111111111,
              "#46039f"
             ],
             [
              0.2222222222222222,
              "#7201a8"
             ],
             [
              0.3333333333333333,
              "#9c179e"
             ],
             [
              0.4444444444444444,
              "#bd3786"
             ],
             [
              0.5555555555555556,
              "#d8576b"
             ],
             [
              0.6666666666666666,
              "#ed7953"
             ],
             [
              0.7777777777777778,
              "#fb9f3a"
             ],
             [
              0.8888888888888888,
              "#fdca26"
             ],
             [
              1,
              "#f0f921"
             ]
            ],
            "type": "surface"
           }
          ],
          "table": [
           {
            "cells": {
             "fill": {
              "color": "#EBF0F8"
             },
             "line": {
              "color": "white"
             }
            },
            "header": {
             "fill": {
              "color": "#C8D4E3"
             },
             "line": {
              "color": "white"
             }
            },
            "type": "table"
           }
          ]
         },
         "layout": {
          "annotationdefaults": {
           "arrowcolor": "#2a3f5f",
           "arrowhead": 0,
           "arrowwidth": 1
          },
          "autotypenumbers": "strict",
          "coloraxis": {
           "colorbar": {
            "outlinewidth": 0,
            "ticks": ""
           }
          },
          "colorscale": {
           "diverging": [
            [
             0,
             "#8e0152"
            ],
            [
             0.1,
             "#c51b7d"
            ],
            [
             0.2,
             "#de77ae"
            ],
            [
             0.3,
             "#f1b6da"
            ],
            [
             0.4,
             "#fde0ef"
            ],
            [
             0.5,
             "#f7f7f7"
            ],
            [
             0.6,
             "#e6f5d0"
            ],
            [
             0.7,
             "#b8e186"
            ],
            [
             0.8,
             "#7fbc41"
            ],
            [
             0.9,
             "#4d9221"
            ],
            [
             1,
             "#276419"
            ]
           ],
           "sequential": [
            [
             0,
             "#0d0887"
            ],
            [
             0.1111111111111111,
             "#46039f"
            ],
            [
             0.2222222222222222,
             "#7201a8"
            ],
            [
             0.3333333333333333,
             "#9c179e"
            ],
            [
             0.4444444444444444,
             "#bd3786"
            ],
            [
             0.5555555555555556,
             "#d8576b"
            ],
            [
             0.6666666666666666,
             "#ed7953"
            ],
            [
             0.7777777777777778,
             "#fb9f3a"
            ],
            [
             0.8888888888888888,
             "#fdca26"
            ],
            [
             1,
             "#f0f921"
            ]
           ],
           "sequentialminus": [
            [
             0,
             "#0d0887"
            ],
            [
             0.1111111111111111,
             "#46039f"
            ],
            [
             0.2222222222222222,
             "#7201a8"
            ],
            [
             0.3333333333333333,
             "#9c179e"
            ],
            [
             0.4444444444444444,
             "#bd3786"
            ],
            [
             0.5555555555555556,
             "#d8576b"
            ],
            [
             0.6666666666666666,
             "#ed7953"
            ],
            [
             0.7777777777777778,
             "#fb9f3a"
            ],
            [
             0.8888888888888888,
             "#fdca26"
            ],
            [
             1,
             "#f0f921"
            ]
           ]
          },
          "colorway": [
           "#636efa",
           "#EF553B",
           "#00cc96",
           "#ab63fa",
           "#FFA15A",
           "#19d3f3",
           "#FF6692",
           "#B6E880",
           "#FF97FF",
           "#FECB52"
          ],
          "font": {
           "color": "#2a3f5f"
          },
          "geo": {
           "bgcolor": "white",
           "lakecolor": "white",
           "landcolor": "#E5ECF6",
           "showlakes": true,
           "showland": true,
           "subunitcolor": "white"
          },
          "hoverlabel": {
           "align": "left"
          },
          "hovermode": "closest",
          "mapbox": {
           "style": "light"
          },
          "paper_bgcolor": "white",
          "plot_bgcolor": "#E5ECF6",
          "polar": {
           "angularaxis": {
            "gridcolor": "white",
            "linecolor": "white",
            "ticks": ""
           },
           "bgcolor": "#E5ECF6",
           "radialaxis": {
            "gridcolor": "white",
            "linecolor": "white",
            "ticks": ""
           }
          },
          "scene": {
           "xaxis": {
            "backgroundcolor": "#E5ECF6",
            "gridcolor": "white",
            "gridwidth": 2,
            "linecolor": "white",
            "showbackground": true,
            "ticks": "",
            "zerolinecolor": "white"
           },
           "yaxis": {
            "backgroundcolor": "#E5ECF6",
            "gridcolor": "white",
            "gridwidth": 2,
            "linecolor": "white",
            "showbackground": true,
            "ticks": "",
            "zerolinecolor": "white"
           },
           "zaxis": {
            "backgroundcolor": "#E5ECF6",
            "gridcolor": "white",
            "gridwidth": 2,
            "linecolor": "white",
            "showbackground": true,
            "ticks": "",
            "zerolinecolor": "white"
           }
          },
          "shapedefaults": {
           "line": {
            "color": "#2a3f5f"
           }
          },
          "ternary": {
           "aaxis": {
            "gridcolor": "white",
            "linecolor": "white",
            "ticks": ""
           },
           "baxis": {
            "gridcolor": "white",
            "linecolor": "white",
            "ticks": ""
           },
           "bgcolor": "#E5ECF6",
           "caxis": {
            "gridcolor": "white",
            "linecolor": "white",
            "ticks": ""
           }
          },
          "title": {
           "x": 0.05
          },
          "xaxis": {
           "automargin": true,
           "gridcolor": "white",
           "linecolor": "white",
           "ticks": "",
           "title": {
            "standoff": 15
           },
           "zerolinecolor": "white",
           "zerolinewidth": 2
          },
          "yaxis": {
           "automargin": true,
           "gridcolor": "white",
           "linecolor": "white",
           "ticks": "",
           "title": {
            "standoff": 15
           },
           "zerolinecolor": "white",
           "zerolinewidth": 2
          }
         }
        },
        "title": {
         "text": "Data",
         "x": 0.5,
         "xanchor": "center",
         "y": 0.95,
         "yanchor": "top"
        },
        "xaxis": {
         "anchor": "y",
         "autorange": true,
         "domain": [
          0,
          1
         ],
         "range": [
          0,
          364
         ],
         "title": {
          "text": "Ngày"
         },
         "type": "category"
        },
        "yaxis": {
         "anchor": "x",
         "autorange": true,
         "domain": [
          0,
          1
         ],
         "range": [
          847.9333333333334,
          1603.2666666666667
         ],
         "title": {
          "text": "Cột 1"
         },
         "type": "linear"
        }
       }
      },
      "image/png": "[encoded data removed]",
      "text/html": [
       "<div>                            <div id=\"5358193c-6d17-489d-8d89-05b850fab7f6\" class=\"plotly-graph-div\" style=\"height:525px; width:100%;\"></div>            <script type=\"text/javascript\">                require([\"plotly\"], function(Plotly) {                    window.PLOTLYENV=window.PLOTLYENV || {};                                    if (document.getElementById(\"5358193c-6d17-489d-8d89-05b850fab7f6\")) {                    Plotly.newPlot(                        \"5358193c-6d17-489d-8d89-05b850fab7f6\",                        [{\"hovertemplate\":\"x=%{x}\\u003cbr\\u003ey=%{y}\\u003cextra\\u003e\\u003c\\u002fextra\\u003e\",\"legendgroup\":\"\",\"line\":{\"color\":\"slategray\",\"dash\":\"solid\"},\"marker\":{\"symbol\":\"circle\"},\"mode\":\"lines\",\"name\":\"\",\"orientation\":\"v\",\"showlegend\":false,\"x\":[\"1\\u002f1\\u002f2021\",\"1\\u002f2\\u002f2021\",\"1\\u002f3\\u002f2021\",\"1\\u002f4\\u002f2021\",\"1\\u002f5\\u002f2021\",\"1\\u002f6\\u002f2021\",\"1\\u002f7\\u002f2021\",\"1\\u002f8\\u002f2021\",\"1\\u002f9\\u002f2021\",\"1\\u002f10\\u002f2021\",\"1\\u002f11\\u002f2021\",\"1\\u002f12\\u002f2021\",\"13\\u002f1\\u002f2021\",\"14\\u002f1\\u002f2021\",\"15\\u002f1\\u002f2021\",\"16\\u002f1\\u002f2021\",\"17\\u002f1\\u002f2021\",\"18\\u002f1\\u002f2021\",\"19\\u002f1\\u002f2021\",\"20\\u002f1\\u002f2021\",\"21\\u002f1\\u002f2021\",\"22\\u002f1\\u002f2021\",\"23\\u002f1\\u002f2021\",\"24\\u002f1\\u002f2021\",\"25\\u002f1\\u002f2021\",\"26\\u002f1\\u002f2021\",\"27\\u002f1\\u002f2021\",\"28\\u002f1\\u002f2021\",\"29\\u002f1\\u002f2021\",\"30\\u002f1\\u002f2021\",\"31\\u002f1\\u002f2021\",\"2\\u002f1\\u002f2021\",\"2\\u002f2\\u002f2021\",\"2\\u002f3\\u002f2021\",\"2\\u002f4\\u002f2021\",\"2\\u002f5\\u002f2021\",\"2\\u002f6\\u002f2021\",\"2\\u002f7\\u002f2021\",\"2\\u002f8\\u002f2021\",\"2\\u002f9\\u002f2021\",\"2\\u002f10\\u002f2021\",\"2\\u002f11\\u002f2021\",\"2\\u002f12\\u002f2021\",\"13\\u002f2\\u002f2021\",\"14\\u002f2\\u002f2021\",\"15\\u002f2\\u002f2021\",\"16\\u002f2\\u002f2021\",\"17\\u002f2\\u002f2021\",\"18\\u002f2\\u002f2021\",\"19\\u002f2\\u002f2021\",\"20\\u002f2\\u002f2021\",\"21\\u002f2\\u002f2021\",\"22\\u002f2\\u002f2021\",\"23\\u002f2\\u002f2021\",\"24\\u002f2\\u002f2021\",\"25\\u002f2\\u002f2021\",\"26\\u002f2\\u002f2021\",\"27\\u002f2\\u002f2021\",\"28\\u002f2\\u002f2021\",\"3\\u002f1\\u002f2021\",\"3\\u002f2\\u002f2021\",\"3\\u002f3\\u002f2021\",\"3\\u002f4\\u002f2021\",\"3\\u002f5\\u002f2021\",\"3\\u002f6\\u002f2021\",\"3\\u002f7\\u002f2021\",\"3\\u002f8\\u002f2021\",\"3\\u002f9\\u002f2021\",\"3\\u002f10\\u002f2021\",\"3\\u002f11\\u002f2021\",\"3\\u002f12\\u002f2021\",\"13\\u002f3\\u002f2021\",\"14\\u002f3\\u002f2021\",\"15\\u002f3\\u002f2021\",\"16\\u002f3\\u002f2021\",\"17\\u002f3\\u002f2021\",\"18\\u002f3\\u002f2021\",\"19\\u002f3\\u002f2021\",\"20\\u002f3\\u002f2021\",\"21\\u002f3\\u002f2021\",\"22\\u002f3\\u002f2021\",\"23\\u002f3\\u002f2021\",\"24\\u002f3\\u002f2021\",\"25\\u002f3\\u002f2021\",\"26\\u002f3\\u002f2021\",\"27\\u002f3\\u002f2021\",\"28\\u002f3\\u002f2021\",\"29\\u002f3\\u002f2021\",\"30\\u002f3\\u002f2021\",\"31\\u002f3\\u002f2021\",\"4\\u002f1\\u002f2021\",\"4\\u002f2\\u002f2021\",\"4\\u002f3\\u002f2021\",\"4\\u002f4\\u002f2021\",\"4\\u002f5\\u002f2021\",\"4\\u002f6\\u002f2021\",\"4\\u002f7\\u002f2021\",\"4\\u002f8\\u002f2021\",\"4\\u002f9\\u002f2021\",\"4\\u002f10\\u002f2021\",\"4\\u002f11\\u002f2021\",\"4\\u002f12\\u002f2021\",\"13\\u002f4\\u002f2021\",\"14\\u002f4\\u002f2021\",\"15\\u002f4\\u002f2021\",\"16\\u002f4\\u002f2021\",\"17\\u002f4\\u002f2021\",\"18\\u002f4\\u002f2021\",\"19\\u002f4\\u002f2021\",\"20\\u002f4\\u002f2021\",\"21\\u002f4\\u002f2021\",\"22\\u002f4\\u002f2021\",\"23\\u002f4\\u002f2021\",\"24\\u002f4\\u002f2021\",\"25\\u002f4\\u002f2021\",\"26\\u002f4\\u002f2021\",\"27\\u002f4\\u002f2021\",\"28\\u002f4\\u002f2021\",\"29\\u002f4\\u002f2021\",\"30\\u002f4\\u002f2021\",\"5\\u002f1\\u002f2021\",\"5\\u002f2\\u002f2021\",\"5\\u002f3\\u002f2021\",\"5\\u002f4\\u002f2021\",\"5\\u002f5\\u002f2021\",\"5\\u002f6\\u002f2021\",\"5\\u002f7\\u002f2021\",\"5\\u002f8\\u002f2021\",\"5\\u002f9\\u002f2021\",\"5\\u002f10\\u002f2021\",\"5\\u002f11\\u002f2021\",\"5\\u002f12\\u002f2021\",\"13\\u002f5\\u002f2021\",\"14\\u002f5\\u002f2021\",\"15\\u002f5\\u002f2021\",\"16\\u002f5\\u002f2021\",\"17\\u002f5\\u002f2021\",\"18\\u002f5\\u002f2021\",\"19\\u002f5\\u002f2021\",\"20\\u002f5\\u002f2021\",\"21\\u002f5\\u002f2021\",\"22\\u002f5\\u002f2021\",\"23\\u002f5\\u002f2021\",\"24\\u002f5\\u002f2021\",\"25\\u002f5\\u002f2021\",\"26\\u002f5\\u002f2021\",\"27\\u002f5\\u002f2021\",\"28\\u002f5\\u002f2021\",\"29\\u002f5\\u002f2021\",\"30\\u002f5\\u002f2021\",\"31\\u002f5\\u002f2021\",\"6\\u002f1\\u002f2021\",\"6\\u002f2\\u002f2021\",\"6\\u002f3\\u002f2021\",\"6\\u002f4\\u002f2021\",\"6\\u002f5\\u002f2021\",\"6\\u002f6\\u002f2021\",\"6\\u002f7\\u002f2021\",\"6\\u002f8\\u002f2021\",\"6\\u002f9\\u002f2021\",\"6\\u002f10\\u002f2021\",\"6\\u002f11\\u002f2021\",\"6\\u002f12\\u002f2021\",\"13\\u002f6\\u002f2021\",\"14\\u002f6\\u002f2021\",\"15\\u002f6\\u002f2021\",\"16\\u002f6\\u002f2021\",\"17\\u002f6\\u002f2021\",\"18\\u002f6\\u002f2021\",\"19\\u002f6\\u002f2021\",\"20\\u002f6\\u002f2021\",\"21\\u002f6\\u002f2021\",\"22\\u002f6\\u002f2021\",\"23\\u002f6\\u002f2021\",\"24\\u002f6\\u002f2021\",\"25\\u002f6\\u002f2021\",\"26\\u002f6\\u002f2021\",\"27\\u002f6\\u002f2021\",\"28\\u002f6\\u002f2021\",\"29\\u002f6\\u002f2021\",\"30\\u002f6\\u002f2021\",\"7\\u002f1\\u002f2021\",\"7\\u002f2\\u002f2021\",\"7\\u002f3\\u002f2021\",\"7\\u002f4\\u002f2021\",\"7\\u002f5\\u002f2021\",\"7\\u002f6\\u002f2021\",\"7\\u002f7\\u002f2021\",\"7\\u002f8\\u002f2021\",\"7\\u002f9\\u002f2021\",\"7\\u002f10\\u002f2021\",\"7\\u002f11\\u002f2021\",\"7\\u002f12\\u002f2021\",\"13\\u002f7\\u002f2021\",\"14\\u002f7\\u002f2021\",\"15\\u002f7\\u002f2021\",\"16\\u002f7\\u002f2021\",\"17\\u002f7\\u002f2021\",\"18\\u002f7\\u002f2021\",\"19\\u002f7\\u002f2021\",\"20\\u002f7\\u002f2021\",\"21\\u002f7\\u002f2021\",\"22\\u002f7\\u002f2021\",\"23\\u002f7\\u002f2021\",\"24\\u002f7\\u002f2021\",\"25\\u002f7\\u002f2021\",\"26\\u002f7\\u002f2021\",\"27\\u002f7\\u002f2021\",\"28\\u002f7\\u002f2021\",\"29\\u002f7\\u002f2021\",\"30\\u002f7\\u002f2021\",\"31\\u002f7\\u002f2021\",\"8\\u002f1\\u002f2021\",\"8\\u002f2\\u002f2021\",\"8\\u002f3\\u002f2021\",\"8\\u002f4\\u002f2021\",\"8\\u002f5\\u002f2021\",\"8\\u002f6\\u002f2021\",\"8\\u002f7\\u002f2021\",\"8\\u002f8\\u002f2021\",\"8\\u002f9\\u002f2021\",\"8\\u002f10\\u002f2021\",\"8\\u002f11\\u002f2021\",\"8\\u002f12\\u002f2021\",\"13\\u002f8\\u002f2021\",\"14\\u002f8\\u002f2021\",\"15\\u002f8\\u002f2021\",\"16\\u002f8\\u002f2021\",\"17\\u002f8\\u002f2021\",\"18\\u002f8\\u002f2021\",\"19\\u002f8\\u002f2021\",\"20\\u002f8\\u002f2021\",\"21\\u002f8\\u002f2021\",\"22\\u002f8\\u002f2021\",\"23\\u002f8\\u002f2021\",\"24\\u002f8\\u002f2021\",\"25\\u002f8\\u002f2021\",\"26\\u002f8\\u002f2021\",\"27\\u002f8\\u002f2021\",\"28\\u002f8\\u002f2021\",\"29\\u002f8\\u002f2021\",\"30\\u002f8\\u002f2021\",\"31\\u002f8\\u002f2021\",\"9\\u002f1\\u002f2021\",\"9\\u002f2\\u002f2021\",\"9\\u002f3\\u002f2021\",\"9\\u002f4\\u002f2021\",\"9\\u002f5\\u002f2021\",\"9\\u002f6\\u002f2021\",\"9\\u002f7\\u002f2021\",\"9\\u002f8\\u002f2021\",\"9\\u002f9\\u002f2021\",\"9\\u002f10\\u002f2021\",\"9\\u002f11\\u002f2021\",\"9\\u002f12\\u002f2021\",\"13\\u002f9\\u002f2021\",\"14\\u002f9\\u002f2021\",\"15\\u002f9\\u002f2021\",\"16\\u002f9\\u002f2021\",\"17\\u002f9\\u002f2021\",\"18\\u002f9\\u002f2021\",\"19\\u002f9\\u002f2021\",\"20\\u002f9\\u002f2021\",\"21\\u002f9\\u002f2021\",\"22\\u002f9\\u002f2021\",\"23\\u002f9\\u002f2021\",\"24\\u002f9\\u002f2021\",\"25\\u002f9\\u002f2021\",\"26\\u002f9\\u002f2021\",\"27\\u002f9\\u002f2021\",\"28\\u002f9\\u002f2021\",\"29\\u002f9\\u002f2021\",\"30\\u002f9\\u002f2021\",\"10\\u002f1\\u002f2021\",\"10\\u002f2\\u002f2021\",\"10\\u002f3\\u002f2021\",\"10\\u002f4\\u002f2021\",\"10\\u002f5\\u002f2021\",\"10\\u002f6\\u002f2021\",\"10\\u002f7\\u002f2021\",\"10\\u002f8\\u002f2021\",\"10\\u002f9\\u002f2021\",\"10\\u002f10\\u002f2021\",\"10\\u002f11\\u002f2021\",\"10\\u002f12\\u002f2021\",\"13\\u002f10\\u002f2021\",\"14\\u002f10\\u002f2021\",\"15\\u002f10\\u002f2021\",\"16\\u002f10\\u002f2021\",\"17\\u002f10\\u002f2021\",\"18\\u002f10\\u002f2021\",\"19\\u002f10\\u002f2021\",\"20\\u002f10\\u002f2021\",\"21\\u002f10\\u002f2021\",\"22\\u002f10\\u002f2021\",\"23\\u002f10\\u002f2021\",\"24\\u002f10\\u002f2021\",\"25\\u002f10\\u002f2021\",\"26\\u002f10\\u002f2021\",\"27\\u002f10\\u002f2021\",\"28\\u002f10\\u002f2021\",\"29\\u002f10\\u002f2021\",\"30\\u002f10\\u002f2021\",\"31\\u002f10\\u002f2021\",\"11\\u002f1\\u002f2021\",\"11\\u002f2\\u002f2021\",\"11\\u002f3\\u002f2021\",\"11\\u002f4\\u002f2021\",\"11\\u002f5\\u002f2021\",\"11\\u002f6\\u002f2021\",\"11\\u002f7\\u002f2021\",\"11\\u002f8\\u002f2021\",\"11\\u002f9\\u002f2021\",\"11\\u002f10\\u002f2021\",\"11\\u002f11\\u002f2021\",\"11\\u002f12\\u002f2021\",\"13\\u002f11\\u002f2021\",\"14\\u002f11\\u002f2021\",\"15\\u002f11\\u002f2021\",\"16\\u002f11\\u002f2021\",\"17\\u002f11\\u002f2021\",\"18\\u002f11\\u002f2021\",\"19\\u002f11\\u002f2021\",\"20\\u002f11\\u002f2021\",\"21\\u002f11\\u002f2021\",\"22\\u002f11\\u002f2021\",\"23\\u002f11\\u002f2021\",\"24\\u002f11\\u002f2021\",\"25\\u002f11\\u002f2021\",\"26\\u002f11\\u002f2021\",\"27\\u002f11\\u002f2021\",\"28\\u002f11\\u002f2021\",\"29\\u002f11\\u002f2021\",\"30\\u002f11\\u002f2021\",\"12\\u002f1\\u002f2021\",\"12\\u002f2\\u002f2021\",\"12\\u002f3\\u002f2021\",\"12\\u002f4\\u002f2021\",\"12\\u002f5\\u002f2021\",\"12\\u002f6\\u002f2021\",\"12\\u002f7\\u002f2021\",\"12\\u002f8\\u002f2021\",\"12\\u002f9\\u002f2021\",\"12\\u002f10\\u002f2021\",\"12\\u002f11\\u002f2021\",\"12\\u002f12\\u002f2021\",\"13\\u002f12\\u002f2021\",\"14\\u002f12\\u002f2021\",\"15\\u002f12\\u002f2021\",\"16\\u002f12\\u002f2021\",\"17\\u002f12\\u002f2021\",\"18\\u002f12\\u002f2021\",\"19\\u002f12\\u002f2021\",\"20\\u002f12\\u002f2021\",\"21\\u002f12\\u002f2021\",\"22\\u002f12\\u002f2021\",\"23\\u002f12\\u002f2021\",\"24\\u002f12\\u002f2021\",\"25\\u002f12\\u002f2021\",\"26\\u002f12\\u002f2021\",\"27\\u002f12\\u002f2021\",\"28\\u002f12\\u002f2021\",\"29\\u002f12\\u002f2021\",\"30\\u002f12\\u002f2021\",\"31\\u002f12\\u002f2021\"],\"xaxis\":\"x\",\"y\":[964.4,1019.7,988.4,1002.0,1061.5,1061.5,1061.5,1061.5,1064.1,966.7,1002.0,1066.6,1061.5,1061.5,1061.5,1066.6,988.4,1058.0,1069.4,1069.4,1069.4,1061.5,1019.7,988.3,988.4,988.4,966.7,963.6,945.5,918.6,966.7,964.4,966.8,966.7,964.4,964.4,963.6,963.6,963.6,912.1,912.1,916.8,888.5,894.6,912.1,890.2,963.6,963.6,964.4,964.4,964.4,963.6,988.3,988.3,988.3,988.4,1002.0,988.4,964.4,988.3,1019.7,988.4,1002.0,1002.1,988.4,966.7,1002.0,1019.7,1019.7,1061.5,1002.1,1002.0,1019.7,1002.1,1061.5,1061.5,1069.4,1069.4,1061.5,966.7,1022.6,1022.6,1022.6,1064.0,1061.5,1061.5,966.7,1002.0,1061.5,1022.6,988.4,1002.0,988.4,966.7,1002.0,1061.5,1061.5,1061.5,1022.6,966.7,966.7,966.7,1061.5,1069.4,1064.1,1069.4,1069.4,1022.6,1069.4,1069.4,1069.4,1069.4,1069.4,1069.4,966.8,1061.5,1069.4,1069.4,1064.0,945.5,930.6,966.7,1061.5,1069.4,1061.5,1022.6,988.4,1002.0,964.4,1022.6,1061.5,1069.4,1069.4,1069.4,1069.4,1022.6,1069.4,1069.4,1061.5,1069.4,1069.4,1069.4,1061.5,1069.4,1069.4,1061.5,1061.5,1061.5,1002.1,990.9,1061.5,990.9,990.9,990.9,990.9,966.7,966.7,1022.6,1061.5,1069.4,1069.4,1061.5,990.9,990.9,990.9,966.7,1022.6,1022.6,1069.4,1064.0,990.9,966.7,1002.0,1022.6,1061.5,1069.4,1064.1,966.7,966.7,966.7,990.9,945.5,964.4,966.7,963.6,990.9,1061.5,966.8,990.9,1022.6,1022.6,964.5,966.8,990.9,990.9,1069.4,1069.4,1061.5,966.8,1069.4,1403.0,1565.5,1403.0,1520.2,1403.0,1087.5,1379.4,1331.3,1316.8,1061.5,990.9,964.4,945.5,990.9,1061.5,1064.1,1069.4,1069.4,1061.5,990.9,1069.4,1403.0,1422.9,1422.9,1423.1,1403.0,1379.4,1565.1,1503.4,1422.9,1403.0,1379.4,1316.9,1064.1,1069.4,1294.0,1293.5,1069.4,1069.4,990.9,945.5,1002.0,1022.6,1022.6,885.7,1022.6,1069.4,1022.6,1069.4,1061.5,1061.5,1061.5,1293.5,1069.4,966.7,1061.5,1069.4,1022.6,1002.0,1022.6,1002.0,945.5,990.9,1022.6,1022.6,1022.6,990.9,966.7,930.6,964.4,1002.0,1022.6,1002.1,1022.6,990.9,945.5,1002.0,1022.6,966.7,1022.6,1069.4,1022.6,964.4,1022.6,1069.4,1061.5,1064.1,1002.0,990.9,963.6,1002.0,1069.4,1069.4,1061.5,1061.5,1002.0,966.7,1002.0,1022.6,1022.6,990.9,1002.0,990.9,945.4,1002.0,1061.5,1002.0,1022.6,1002.0,990.9,963.6,990.9,1002.0,1069.4,1069.4,1061.5,1002.0,966.7,1069.4,1069.4,1069.4,1061.5,1069.4,1061.5,966.8,1022.6,1061.5,1002.0,1022.6,1002.1,966.8,963.7,966.7,990.9,1002.1,1022.6,1002.0,990.9,964.4,990.9,1002.0,1022.6,1061.5,1061.5,1022.6,966.7,1022.6,1061.5,1064.1,1061.5,1061.5,1022.6,990.9,1043.3,1061.5,1022.6,1022.6,1022.6,1002.0,966.7,1002.0,1002.0,1061.5,1022.6,1022.6],\"yaxis\":\"y\",\"type\":\"scatter\"}],                        {\"template\":{\"data\":{\"histogram2dcontour\":[{\"type\":\"histogram2dcontour\",\"colorbar\":{\"outlinewidth\":0,\"ticks\":\"\"},\"colorscale\":[[0.0,\"#0d0887\"],[0.1111111111111111,\"#46039f\"],[0.2222222222222222,\"#7201a8\"],[0.3333333333333333,\"#9c179e\"],[0.4444444444444444,\"#bd3786\"],[0.5555555555555556,\"#d8576b\"],[0.6666666666666666,\"#ed7953\"],[0.7777777777777778,\"#fb9f3a\"],[0.8888888888888888,\"#fdca26\"],[1.0,\"#f0f921\"]]}],\"choropleth\":[{\"type\":\"choropleth\",\"colorbar\":{\"outlinewidth\":0,\"ticks\":\"\"}}],\"histogram2d\":[{\"type\":\"histogram2d\",\"colorbar\":{\"outlinewidth\":0,\"ticks\":\"\"},\"colorscale\":[[0.0,\"#0d0887\"],[0.1111111111111111,\"#46039f\"],[0.2222222222222222,\"#7201a8\"],[0.3333333333333333,\"#9c179e\"],[0.4444444444444444,\"#bd3786\"],[0.5555555555555556,\"#d8576b\"],[0.6666666666666666,\"#ed7953\"],[0.7777777777777778,\"#fb9f3a\"],[0.8888888888888888,\"#fdca26\"],[1.0,\"#f0f921\"]]}],\"heatmap\":[{\"type\":\"heatmap\",\"colorbar\":{\"outlinewidth\":0,\"ticks\":\"\"},\"colorscale\":[[0.0,\"#0d0887\"],[0.1111111111111111,\"#46039f\"],[0.2222222222222222,\"#7201a8\"],[0.3333333333333333,\"#9c179e\"],[0.4444444444444444,\"#bd3786\"],[0.5555555555555556,\"#d8576b\"],[0.6666666666666666,\"#ed7953\"],[0.7777777777777778,\"#fb9f3a\"],[0.8888888888888888,\"#fdca26\"],[1.0,\"#f0f921\"]]}],\"heatmapgl\":[{\"type\":\"heatmapgl\",\"colorbar\":{\"outlinewidth\":0,\"ticks\":\"\"},\"colorscale\":[[0.0,\"#0d0887\"],[0.1111111111111111,\"#46039f\"],[0.2222222222222222,\"#7201a8\"],[0.3333333333333333,\"#9c179e\"],[0.4444444444444444,\"#bd3786\"],[0.5555555555555556,\"#d8576b\"],[0.6666666666666666,\"#ed7953\"],[0.7777777777777778,\"#fb9f3a\"],[0.8888888888888888,\"#fdca26\"],[1.0,\"#f0f921\"]]}],\"contourcarpet\":[{\"type\":\"contourcarpet\",\"colorbar\":{\"outlinewidth\":0,\"ticks\":\"\"}}],\"contour\":[{\"type\":\"contour\",\"colorbar\":{\"outlinewidth\":0,\"ticks\":\"\"},\"colorscale\":[[0.0,\"#0d0887\"],[0.1111111111111111,\"#46039f\"],[0.2222222222222222,\"#7201a8\"],[0.3333333333333333,\"#9c179e\"],[0.4444444444444444,\"#bd3786\"],[0.5555555555555556,\"#d8576b\"],[0.6666666666666666,\"#ed7953\"],[0.7777777777777778,\"#fb9f3a\"],[0.8888888888888888,\"#fdca26\"],[1.0,\"#f0f921\"]]}],\"surface\":[{\"type\":\"surface\",\"colorbar\":{\"outlinewidth\":0,\"ticks\":\"\"},\"colorscale\":[[0.0,\"#0d0887\"],[0.1111111111111111,\"#46039f\"],[0.2222222222222222,\"#7201a8\"],[0.3333333333333333,\"#9c179e\"],[0.4444444444444444,\"#bd3786\"],[0.5555555555555556,\"#d8576b\"],[0.6666666666666666,\"#ed7953\"],[0.7777777777777778,\"#fb9f3a\"],[0.8888888888888888,\"#fdca26\"],[1.0,\"#f0f921\"]]}],\"mesh3d\":[{\"type\":\"mesh3d\",\"colorbar\":{\"outlinewidth\":0,\"ticks\":\"\"}}],\"scatter\":[{\"fillpattern\":{\"fillmode\":\"overlay\",\"size\":10,\"solidity\":0.2},\"type\":\"scatter\"}],\"parcoords\":[{\"type\":\"parcoords\",\"line\":{\"colorbar\":{\"outlinewidth\":0,\"ticks\":\"\"}}}],\"scatterpolargl\":[{\"type\":\"scatterpolargl\",\"marker\":{\"colorbar\":{\"outlinewidth\":0,\"ticks\":\"\"}}}],\"bar\":[{\"error_x\":{\"color\":\"#2a3f5f\"},\"error_y\":{\"color\":\"#2a3f5f\"},\"marker\":{\"line\":{\"color\":\"#E5ECF6\",\"width\":0.5},\"pattern\":{\"fillmode\":\"overlay\",\"size\":10,\"solidity\":0.2}},\"type\":\"bar\"}],\"scattergeo\":[{\"type\":\"scattergeo\",\"marker\":{\"colorbar\":{\"outlinewidth\":0,\"ticks\":\"\"}}}],\"scatterpolar\":[{\"type\":\"scatterpolar\",\"marker\":{\"colorbar\":{\"outlinewidth\":0,\"ticks\":\"\"}}}],\"histogram\":[{\"marker\":{\"pattern\":{\"fillmode\":\"overlay\",\"size\":10,\"solidity\":0.2}},\"type\":\"histogram\"}],\"scattergl\":[{\"type\":\"scattergl\",\"marker\":{\"colorbar\":{\"outlinewidth\":0,\"ticks\":\"\"}}}],\"scatter3d\":[{\"type\":\"scatter3d\",\"line\":{\"colorbar\":{\"outlinewidth\":0,\"ticks\":\"\"}},\"marker\":{\"colorbar\":{\"outlinewidth\":0,\"ticks\":\"\"}}}],\"scattermapbox\":[{\"type\":\"scattermapbox\",\"marker\":{\"colorbar\":{\"outlinewidth\":0,\"ticks\":\"\"}}}],\"scatterternary\":[{\"type\":\"scatterternary\",\"marker\":{\"colorbar\":{\"outlinewidth\":0,\"ticks\":\"\"}}}],\"scattercarpet\":[{\"type\":\"scattercarpet\",\"marker\":{\"colorbar\":{\"outlinewidth\":0,\"ticks\":\"\"}}}],\"carpet\":[{\"aaxis\":{\"endlinecolor\":\"#2a3f5f\",\"gridcolor\":\"white\",\"linecolor\":\"white\",\"minorgridcolor\":\"white\",\"startlinecolor\":\"#2a3f5f\"},\"baxis\":{\"endlinecolor\":\"#2a3f5f\",\"gridcolor\":\"white\",\"linecolor\":\"white\",\"minorgridcolor\":\"white\",\"startlinecolor\":\"#2a3f5f\"},\"type\":\"carpet\"}],\"table\":[{\"cells\":{\"fill\":{\"color\":\"#EBF0F8\"},\"line\":{\"color\":\"white\"}},\"header\":{\"fill\":{\"color\":\"#C8D4E3\"},\"line\":{\"color\":\"white\"}},\"type\":\"table\"}],\"barpolar\":[{\"marker\":{\"line\":{\"color\":\"#E5ECF6\",\"width\":0.5},\"pattern\":{\"fillmode\":\"overlay\",\"size\":10,\"solidity\":0.2}},\"type\":\"barpolar\"}],\"pie\":[{\"automargin\":true,\"type\":\"pie\"}]},\"layout\":{\"autotypenumbers\":\"strict\",\"colorway\":[\"#636efa\",\"#EF553B\",\"#00cc96\",\"#ab63fa\",\"#FFA15A\",\"#19d3f3\",\"#FF6692\",\"#B6E880\",\"#FF97FF\",\"#FECB52\"],\"font\":{\"color\":\"#2a3f5f\"},\"hovermode\":\"closest\",\"hoverlabel\":{\"align\":\"left\"},\"paper_bgcolor\":\"white\",\"plot_bgcolor\":\"#E5ECF6\",\"polar\":{\"bgcolor\":\"#E5ECF6\",\"angularaxis\":{\"gridcolor\":\"white\",\"linecolor\":\"white\",\"ticks\":\"\"},\"radialaxis\":{\"gridcolor\":\"white\",\"linecolor\":\"white\",\"ticks\":\"\"}},\"ternary\":{\"bgcolor\":\"#E5ECF6\",\"aaxis\":{\"gridcolor\":\"white\",\"linecolor\":\"white\",\"ticks\":\"\"},\"baxis\":{\"gridcolor\":\"white\",\"linecolor\":\"white\",\"ticks\":\"\"},\"caxis\":{\"gridcolor\":\"white\",\"linecolor\":\"white\",\"ticks\":\"\"}},\"coloraxis\":{\"colorbar\":{\"outlinewidth\":0,\"ticks\":\"\"}},\"colorscale\":{\"sequential\":[[0.0,\"#0d0887\"],[0.1111111111111111,\"#46039f\"],[0.2222222222222222,\"#7201a8\"],[0.3333333333333333,\"#9c179e\"],[0.4444444444444444,\"#bd3786\"],[0.5555555555555556,\"#d8576b\"],[0.6666666666666666,\"#ed7953\"],[0.7777777777777778,\"#fb9f3a\"],[0.8888888888888888,\"#fdca26\"],[1.0,\"#f0f921\"]],\"sequentialminus\":[[0.0,\"#0d0887\"],[0.1111111111111111,\"#46039f\"],[0.2222222222222222,\"#7201a8\"],[0.3333333333333333,\"#9c179e\"],[0.4444444444444444,\"#bd3786\"],[0.5555555555555556,\"#d8576b\"],[0.6666666666666666,\"#ed7953\"],[0.7777777777777778,\"#fb9f3a\"],[0.8888888888888888,\"#fdca26\"],[1.0,\"#f0f921\"]],\"diverging\":[[0,\"#8e0152\"],[0.1,\"#c51b7d\"],[0.2,\"#de77ae\"],[0.3,\"#f1b6da\"],[0.4,\"#fde0ef\"],[0.5,\"#f7f7f7\"],[0.6,\"#e6f5d0\"],[0.7,\"#b8e186\"],[0.8,\"#7fbc41\"],[0.9,\"#4d9221\"],[1,\"#276419\"]]},\"xaxis\":{\"gridcolor\":\"white\",\"linecolor\":\"white\",\"ticks\":\"\",\"title\":{\"standoff\":15},\"zerolinecolor\":\"white\",\"automargin\":true,\"zerolinewidth\":2},\"yaxis\":{\"gridcolor\":\"white\",\"linecolor\":\"white\",\"ticks\":\"\",\"title\":{\"standoff\":15},\"zerolinecolor\":\"white\",\"automargin\":true,\"zerolinewidth\":2},\"scene\":{\"xaxis\":{\"backgroundcolor\":\"#E5ECF6\",\"gridcolor\":\"white\",\"linecolor\":\"white\",\"showbackground\":true,\"ticks\":\"\",\"zerolinecolor\":\"white\",\"gridwidth\":2},\"yaxis\":{\"backgroundcolor\":\"#E5ECF6\",\"gridcolor\":\"white\",\"linecolor\":\"white\",\"showbackground\":true,\"ticks\":\"\",\"zerolinecolor\":\"white\",\"gridwidth\":2},\"zaxis\":{\"backgroundcolor\":\"#E5ECF6\",\"gridcolor\":\"white\",\"linecolor\":\"white\",\"showbackground\":true,\"ticks\":\"\",\"zerolinecolor\":\"white\",\"gridwidth\":2}},\"shapedefaults\":{\"line\":{\"color\":\"#2a3f5f\"}},\"annotationdefaults\":{\"arrowcolor\":\"#2a3f5f\",\"arrowhead\":0,\"arrowwidth\":1},\"geo\":{\"bgcolor\":\"white\",\"landcolor\":\"#E5ECF6\",\"subunitcolor\":\"white\",\"showland\":true,\"showlakes\":true,\"lakecolor\":\"white\"},\"title\":{\"x\":0.05},\"mapbox\":{\"style\":\"light\"}}},\"xaxis\":{\"anchor\":\"y\",\"domain\":[0.0,1.0],\"title\":{\"text\":\"Ng\\u00e0y\"}},\"yaxis\":{\"anchor\":\"x\",\"domain\":[0.0,1.0],\"title\":{\"text\":\"C\\u1ed9t 1\"}},\"legend\":{\"tracegroupgap\":0},\"margin\":{\"t\":60},\"title\":{\"text\":\"Data\",\"y\":0.95,\"x\":0.5,\"xanchor\":\"center\",\"yanchor\":\"top\"},\"plot_bgcolor\":\"rgba(255,255,255,0.8)\"},                        {\"responsive\": true}                    ).then(function(){\n",
       "                            \n",
       "var gd = document.getElementById('5358193c-6d17-489d-8d89-05b850fab7f6');\n",
       "var x = new MutationObserver(function (mutations, observer) {{\n",
       "        var display = window.getComputedStyle(gd).display;\n",
       "        if (!display || display === 'none') {{\n",
       "            console.log([gd, 'removed!']);\n",
       "            Plotly.purge(gd);\n",
       "            observer.disconnect();\n",
       "        }}\n",
       "}});\n",
       "\n",
       "// Listen for the removal of the full notebook cells\n",
       "var notebookContainer = gd.closest('#notebook-container');\n",
       "if (notebookContainer) {{\n",
       "    x.observe(notebookContainer, {childList: true});\n",
       "}}\n",
       "\n",
       "// Listen for the clearing of the current output cell\n",
       "var outputEl = gd.closest('.output');\n",
       "if (outputEl) {{\n",
       "    x.observe(outputEl, {childList: true});\n",
       "}}\n",
       "\n",
       "                        })                };                });            </script>        </div>"
      ]
     },
     "metadata": {},
     "output_type": "display_data"
    }
   ],
   "source": [
    "import plotly.express as px\n",
    "fig = px.line(y=df['5'], x=df['Ngày'])\n",
    "fig.update_traces(line_color='slategray') \n",
    "fig.update_layout(xaxis_title=\"Ngày\", \n",
    "                  yaxis_title=\"Cột 1\",\n",
    "                  title={'text': \"Data\", 'y':0.95, 'x':0.5, 'xanchor':'center', 'yanchor':'top'},\n",
    "                  plot_bgcolor='rgba(255,255,255,0.8)')"
   ]
  },
  {
   "cell_type": "code",
   "execution_count": 204,
   "id": "c2b3fc9a-0d83-4adb-badc-ea8aa86ac21d",
   "metadata": {},
   "outputs": [
    {
     "data": {
      "application/vnd.plotly.v1+json": {
       "config": {
        "plotlyServerURL": "https://plot.ly"
       },
       "data": [
        {
         "hovertemplate": "x=%{x}<br>y=%{y}<extra></extra>",
         "legendgroup": "",
         "line": {
          "color": "tan",
          "dash": "solid"
         },
         "marker": {
          "symbol": "circle"
         },
         "mode": "lines",
         "name": "",
         "orientation": "v",
         "showlegend": false,
         "type": "scatter",
         "x": [
          "1/1/2021",
          "1/2/2021",
          "1/3/2021",
          "1/4/2021",
          "1/5/2021",
          "1/6/2021",
          "1/7/2021",
          "1/8/2021",
          "1/9/2021",
          "1/10/2021",
          "1/11/2021",
          "1/12/2021",
          "13/1/2021",
          "14/1/2021",
          "15/1/2021",
          "16/1/2021",
          "17/1/2021",
          "18/1/2021",
          "19/1/2021",
          "20/1/2021",
          "21/1/2021",
          "22/1/2021",
          "23/1/2021",
          "24/1/2021",
          "25/1/2021",
          "26/1/2021",
          "27/1/2021",
          "28/1/2021",
          "29/1/2021",
          "30/1/2021",
          "31/1/2021",
          "2/1/2021",
          "2/2/2021",
          "2/3/2021",
          "2/4/2021",
          "2/5/2021",
          "2/6/2021",
          "2/7/2021",
          "2/8/2021",
          "2/9/2021",
          "2/10/2021",
          "2/11/2021",
          "2/12/2021",
          "13/2/2021",
          "14/2/2021",
          "15/2/2021",
          "16/2/2021",
          "17/2/2021",
          "18/2/2021",
          "19/2/2021",
          "20/2/2021",
          "21/2/2021",
          "22/2/2021",
          "23/2/2021",
          "24/2/2021",
          "25/2/2021",
          "26/2/2021",
          "27/2/2021",
          "28/2/2021",
          "3/1/2021",
          "3/2/2021",
          "3/3/2021",
          "3/4/2021",
          "3/5/2021",
          "3/6/2021",
          "3/7/2021",
          "3/8/2021",
          "3/9/2021",
          "3/10/2021",
          "3/11/2021",
          "3/12/2021",
          "13/3/2021",
          "14/3/2021",
          "15/3/2021",
          "16/3/2021",
          "17/3/2021",
          "18/3/2021",
          "19/3/2021",
          "20/3/2021",
          "21/3/2021",
          "22/3/2021",
          "23/3/2021",
          "24/3/2021",
          "25/3/2021",
          "26/3/2021",
          "27/3/2021",
          "28/3/2021",
          "29/3/2021",
          "30/3/2021",
          "31/3/2021",
          "4/1/2021",
          "4/2/2021",
          "4/3/2021",
          "4/4/2021",
          "4/5/2021",
          "4/6/2021",
          "4/7/2021",
          "4/8/2021",
          "4/9/2021",
          "4/10/2021",
          "4/11/2021",
          "4/12/2021",
          "13/4/2021",
          "14/4/2021",
          "15/4/2021",
          "16/4/2021",
          "17/4/2021",
          "18/4/2021",
          "19/4/2021",
          "20/4/2021",
          "21/4/2021",
          "22/4/2021",
          "23/4/2021",
          "24/4/2021",
          "25/4/2021",
          "26/4/2021",
          "27/4/2021",
          "28/4/2021",
          "29/4/2021",
          "30/4/2021",
          "5/1/2021",
          "5/2/2021",
          "5/3/2021",
          "5/4/2021",
          "5/5/2021",
          "5/6/2021",
          "5/7/2021",
          "5/8/2021",
          "5/9/2021",
          "5/10/2021",
          "5/11/2021",
          "5/12/2021",
          "13/5/2021",
          "14/5/2021",
          "15/5/2021",
          "16/5/2021",
          "17/5/2021",
          "18/5/2021",
          "19/5/2021",
          "20/5/2021",
          "21/5/2021",
          "22/5/2021",
          "23/5/2021",
          "24/5/2021",
          "25/5/2021",
          "26/5/2021",
          "27/5/2021",
          "28/5/2021",
          "29/5/2021",
          "30/5/2021",
          "31/5/2021",
          "6/1/2021",
          "6/2/2021",
          "6/3/2021",
          "6/4/2021",
          "6/5/2021",
          "6/6/2021",
          "6/7/2021",
          "6/8/2021",
          "6/9/2021",
          "6/10/2021",
          "6/11/2021",
          "6/12/2021",
          "13/6/2021",
          "14/6/2021",
          "15/6/2021",
          "16/6/2021",
          "17/6/2021",
          "18/6/2021",
          "19/6/2021",
          "20/6/2021",
          "21/6/2021",
          "22/6/2021",
          "23/6/2021",
          "24/6/2021",
          "25/6/2021",
          "26/6/2021",
          "27/6/2021",
          "28/6/2021",
          "29/6/2021",
          "30/6/2021",
          "7/1/2021",
          "7/2/2021",
          "7/3/2021",
          "7/4/2021",
          "7/5/2021",
          "7/6/2021",
          "7/7/2021",
          "7/8/2021",
          "7/9/2021",
          "7/10/2021",
          "7/11/2021",
          "7/12/2021",
          "13/7/2021",
          "14/7/2021",
          "15/7/2021",
          "16/7/2021",
          "17/7/2021",
          "18/7/2021",
          "19/7/2021",
          "20/7/2021",
          "21/7/2021",
          "22/7/2021",
          "23/7/2021",
          "24/7/2021",
          "25/7/2021",
          "26/7/2021",
          "27/7/2021",
          "28/7/2021",
          "29/7/2021",
          "30/7/2021",
          "31/7/2021",
          "8/1/2021",
          "8/2/2021",
          "8/3/2021",
          "8/4/2021",
          "8/5/2021",
          "8/6/2021",
          "8/7/2021",
          "8/8/2021",
          "8/9/2021",
          "8/10/2021",
          "8/11/2021",
          "8/12/2021",
          "13/8/2021",
          "14/8/2021",
          "15/8/2021",
          "16/8/2021",
          "17/8/2021",
          "18/8/2021",
          "19/8/2021",
          "20/8/2021",
          "21/8/2021",
          "22/8/2021",
          "23/8/2021",
          "24/8/2021",
          "25/8/2021",
          "26/8/2021",
          "27/8/2021",
          "28/8/2021",
          "29/8/2021",
          "30/8/2021",
          "31/8/2021",
          "9/1/2021",
          "9/2/2021",
          "9/3/2021",
          "9/4/2021",
          "9/5/2021",
          "9/6/2021",
          "9/7/2021",
          "9/8/2021",
          "9/9/2021",
          "9/10/2021",
          "9/11/2021",
          "9/12/2021",
          "13/9/2021",
          "14/9/2021",
          "15/9/2021",
          "16/9/2021",
          "17/9/2021",
          "18/9/2021",
          "19/9/2021",
          "20/9/2021",
          "21/9/2021",
          "22/9/2021",
          "23/9/2021",
          "24/9/2021",
          "25/9/2021",
          "26/9/2021",
          "27/9/2021",
          "28/9/2021",
          "29/9/2021",
          "30/9/2021",
          "10/1/2021",
          "10/2/2021",
          "10/3/2021",
          "10/4/2021",
          "10/5/2021",
          "10/6/2021",
          "10/7/2021",
          "10/8/2021",
          "10/9/2021",
          "10/10/2021",
          "10/11/2021",
          "10/12/2021",
          "13/10/2021",
          "14/10/2021",
          "15/10/2021",
          "16/10/2021",
          "17/10/2021",
          "18/10/2021",
          "19/10/2021",
          "20/10/2021",
          "21/10/2021",
          "22/10/2021",
          "23/10/2021",
          "24/10/2021",
          "25/10/2021",
          "26/10/2021",
          "27/10/2021",
          "28/10/2021",
          "29/10/2021",
          "30/10/2021",
          "31/10/2021",
          "11/1/2021",
          "11/2/2021",
          "11/3/2021",
          "11/4/2021",
          "11/5/2021",
          "11/6/2021",
          "11/7/2021",
          "11/8/2021",
          "11/9/2021",
          "11/10/2021",
          "11/11/2021",
          "11/12/2021",
          "13/11/2021",
          "14/11/2021",
          "15/11/2021",
          "16/11/2021",
          "17/11/2021",
          "18/11/2021",
          "19/11/2021",
          "20/11/2021",
          "21/11/2021",
          "22/11/2021",
          "23/11/2021",
          "24/11/2021",
          "25/11/2021",
          "26/11/2021",
          "27/11/2021",
          "28/11/2021",
          "29/11/2021",
          "30/11/2021",
          "12/1/2021",
          "12/2/2021",
          "12/3/2021",
          "12/4/2021",
          "12/5/2021",
          "12/6/2021",
          "12/7/2021",
          "12/8/2021",
          "12/9/2021",
          "12/10/2021",
          "12/11/2021",
          "12/12/2021",
          "13/12/2021",
          "14/12/2021",
          "15/12/2021",
          "16/12/2021",
          "17/12/2021",
          "18/12/2021",
          "19/12/2021",
          "20/12/2021",
          "21/12/2021",
          "22/12/2021",
          "23/12/2021",
          "24/12/2021",
          "25/12/2021",
          "26/12/2021",
          "27/12/2021",
          "28/12/2021",
          "29/12/2021",
          "30/12/2021",
          "31/12/2021"
         ],
         "xaxis": "x",
         "y": [
          964.4,
          1019.7,
          988.4,
          1002,
          1061.5,
          1061.5,
          1061.5,
          1061.5,
          1064.1,
          966.7,
          1002,
          1066.6,
          1061.5,
          1061.5,
          1061.5,
          1066.6,
          988.4,
          1058,
          1069.4,
          1069.4,
          1069.4,
          1061.5,
          1019.7,
          988.3,
          988.4,
          988.4,
          966.7,
          963.6,
          945.5,
          918.6,
          966.7,
          964.4,
          966.8,
          966.7,
          964.4,
          964.4,
          963.6,
          963.6,
          963.6,
          912.1,
          912.1,
          916.8,
          888.5,
          894.6,
          912.1,
          890.2,
          963.6,
          963.6,
          964.4,
          964.4,
          964.4,
          963.6,
          988.3,
          988.3,
          988.3,
          988.4,
          1002,
          988.4,
          964.4,
          988.3,
          1019.7,
          988.4,
          1002,
          1002.1,
          988.4,
          966.7,
          1002,
          1019.7,
          1019.7,
          1061.5,
          1002.1,
          1002,
          1019.7,
          1002.1,
          1061.5,
          1061.5,
          1069.4,
          1069.4,
          1061.5,
          966.7,
          1022.6,
          1022.6,
          1022.6,
          1064,
          1061.5,
          1061.5,
          966.7,
          1002,
          1061.5,
          1022.6,
          988.4,
          1002,
          988.4,
          966.7,
          1002,
          1061.5,
          1061.5,
          1061.5,
          1022.6,
          966.7,
          966.7,
          966.7,
          1061.5,
          1069.4,
          1064.1,
          1069.4,
          1069.4,
          1022.6,
          1069.4,
          1069.4,
          1069.4,
          1069.4,
          1069.4,
          1069.4,
          966.8,
          1061.5,
          1069.4,
          1069.4,
          1064,
          945.5,
          930.6,
          966.7,
          1061.5,
          1069.4,
          1061.5,
          1022.6,
          988.4,
          1002,
          964.4,
          1022.6,
          1061.5,
          1069.4,
          1069.4,
          1069.4,
          1069.4,
          1022.6,
          1069.4,
          1069.4,
          1061.5,
          1069.4,
          1069.4,
          1069.4,
          1061.5,
          1069.4,
          1069.4,
          1061.5,
          1061.5,
          1061.5,
          1002.1,
          990.9,
          1061.5,
          990.9,
          990.9,
          990.9,
          990.9,
          966.7,
          966.7,
          1022.6,
          1061.5,
          1069.4,
          1069.4,
          1061.5,
          990.9,
          990.9,
          990.9,
          966.7,
          1022.6,
          1022.6,
          1069.4,
          1064,
          990.9,
          966.7,
          1002,
          1022.6,
          1061.5,
          1069.4,
          1064.1,
          966.7,
          966.7,
          966.7,
          990.9,
          945.5,
          964.4,
          966.7,
          963.6,
          990.9,
          1061.5,
          966.8,
          990.9,
          1022.6,
          1022.6,
          964.5,
          966.8,
          990.9,
          990.9,
          1069.4,
          1069.4,
          1061.5,
          966.7,
          1069.4,
          1403,
          1565.5,
          1403,
          1520.2,
          1403,
          1087.5,
          1379.4,
          1331.3,
          1316.8,
          1061.5,
          990.9,
          964.4,
          945.5,
          990.9,
          1061.5,
          1064.1,
          1069.4,
          1069.4,
          1061.5,
          990.9,
          1069.4,
          1403,
          1422.9,
          1422.9,
          1423.1,
          1403,
          1379.4,
          1565.1,
          1503.4,
          1422.9,
          1403,
          1379.4,
          1316.9,
          1064.1,
          1069.4,
          1294,
          1293.5,
          1069.4,
          1069.4,
          990.9,
          945.5,
          1002,
          1022.6,
          1022.6,
          885.7,
          1022.6,
          1069.4,
          1022.6,
          1069.4,
          1061.5,
          1061.5,
          1061.5,
          1293.5,
          1069.4,
          966.7,
          1061.5,
          1069.4,
          1022.6,
          1002,
          1022.6,
          1002,
          945.5,
          990.9,
          1022.6,
          1022.6,
          1022.6,
          990.9,
          966.7,
          930.6,
          964.4,
          1002,
          1022.6,
          1002.1,
          1022.6,
          990.9,
          945.5,
          1002,
          1022.6,
          966.7,
          1022.6,
          1069.4,
          1022.6,
          964.4,
          1022.6,
          1069.4,
          1061.5,
          1064.1,
          1002,
          990.9,
          963.6,
          1002,
          1069.4,
          1069.4,
          1061.5,
          1061.5,
          1002,
          966.7,
          1002,
          1022.6,
          1022.6,
          990.9,
          1002,
          990.9,
          945.5,
          1002,
          1061.5,
          1002,
          1022.6,
          1002,
          990.9,
          963.6,
          990.9,
          1002,
          1069.4,
          1069.4,
          1061.5,
          1002,
          966.8,
          1069.4,
          1069.4,
          1069.4,
          1061.5,
          1069.4,
          1061.5,
          966.7,
          1022.6,
          1061.5,
          1002,
          1022.6,
          1002.1,
          966.8,
          963.7,
          966.7,
          990.9,
          1002.1,
          1022.6,
          1002,
          990.9,
          964.4,
          990.9,
          1002,
          1022.6,
          1061.5,
          1061.5,
          1022.6,
          966.7,
          1022.6,
          1061.5,
          1064.1,
          1061.5,
          1061.5,
          1022.6,
          990.9,
          1043.3,
          1061.5,
          1022.6,
          1022.6,
          1022.6,
          1002,
          966.7,
          1002,
          1002,
          1061.5,
          1022.6,
          1022.6
         ],
         "yaxis": "y"
        }
       ],
       "layout": {
        "autosize": true,
        "legend": {
         "tracegroupgap": 0
        },
        "margin": {
         "t": 60
        },
        "plot_bgcolor": "rgba(255,255,255,0.8)",
        "template": {
         "data": {
          "bar": [
           {
            "error_x": {
             "color": "#2a3f5f"
            },
            "error_y": {
             "color": "#2a3f5f"
            },
            "marker": {
             "line": {
              "color": "#E5ECF6",
              "width": 0.5
             },
             "pattern": {
              "fillmode": "overlay",
              "size": 10,
              "solidity": 0.2
             }
            },
            "type": "bar"
           }
          ],
          "barpolar": [
           {
            "marker": {
             "line": {
              "color": "#E5ECF6",
              "width": 0.5
             },
             "pattern": {
              "fillmode": "overlay",
              "size": 10,
              "solidity": 0.2
             }
            },
            "type": "barpolar"
           }
          ],
          "carpet": [
           {
            "aaxis": {
             "endlinecolor": "#2a3f5f",
             "gridcolor": "white",
             "linecolor": "white",
             "minorgridcolor": "white",
             "startlinecolor": "#2a3f5f"
            },
            "baxis": {
             "endlinecolor": "#2a3f5f",
             "gridcolor": "white",
             "linecolor": "white",
             "minorgridcolor": "white",
             "startlinecolor": "#2a3f5f"
            },
            "type": "carpet"
           }
          ],
          "choropleth": [
           {
            "colorbar": {
             "outlinewidth": 0,
             "ticks": ""
            },
            "type": "choropleth"
           }
          ],
          "contour": [
           {
            "colorbar": {
             "outlinewidth": 0,
             "ticks": ""
            },
            "colorscale": [
             [
              0,
              "#0d0887"
             ],
             [
              0.1111111111111111,
              "#46039f"
             ],
             [
              0.2222222222222222,
              "#7201a8"
             ],
             [
              0.3333333333333333,
              "#9c179e"
             ],
             [
              0.4444444444444444,
              "#bd3786"
             ],
             [
              0.5555555555555556,
              "#d8576b"
             ],
             [
              0.6666666666666666,
              "#ed7953"
             ],
             [
              0.7777777777777778,
              "#fb9f3a"
             ],
             [
              0.8888888888888888,
              "#fdca26"
             ],
             [
              1,
              "#f0f921"
             ]
            ],
            "type": "contour"
           }
          ],
          "contourcarpet": [
           {
            "colorbar": {
             "outlinewidth": 0,
             "ticks": ""
            },
            "type": "contourcarpet"
           }
          ],
          "heatmap": [
           {
            "colorbar": {
             "outlinewidth": 0,
             "ticks": ""
            },
            "colorscale": [
             [
              0,
              "#0d0887"
             ],
             [
              0.1111111111111111,
              "#46039f"
             ],
             [
              0.2222222222222222,
              "#7201a8"
             ],
             [
              0.3333333333333333,
              "#9c179e"
             ],
             [
              0.4444444444444444,
              "#bd3786"
             ],
             [
              0.5555555555555556,
              "#d8576b"
             ],
             [
              0.6666666666666666,
              "#ed7953"
             ],
             [
              0.7777777777777778,
              "#fb9f3a"
             ],
             [
              0.8888888888888888,
              "#fdca26"
             ],
             [
              1,
              "#f0f921"
             ]
            ],
            "type": "heatmap"
           }
          ],
          "heatmapgl": [
           {
            "colorbar": {
             "outlinewidth": 0,
             "ticks": ""
            },
            "colorscale": [
             [
              0,
              "#0d0887"
             ],
             [
              0.1111111111111111,
              "#46039f"
             ],
             [
              0.2222222222222222,
              "#7201a8"
             ],
             [
              0.3333333333333333,
              "#9c179e"
             ],
             [
              0.4444444444444444,
              "#bd3786"
             ],
             [
              0.5555555555555556,
              "#d8576b"
             ],
             [
              0.6666666666666666,
              "#ed7953"
             ],
             [
              0.7777777777777778,
              "#fb9f3a"
             ],
             [
              0.8888888888888888,
              "#fdca26"
             ],
             [
              1,
              "#f0f921"
             ]
            ],
            "type": "heatmapgl"
           }
          ],
          "histogram": [
           {
            "marker": {
             "pattern": {
              "fillmode": "overlay",
              "size": 10,
              "solidity": 0.2
             }
            },
            "type": "histogram"
           }
          ],
          "histogram2d": [
           {
            "colorbar": {
             "outlinewidth": 0,
             "ticks": ""
            },
            "colorscale": [
             [
              0,
              "#0d0887"
             ],
             [
              0.1111111111111111,
              "#46039f"
             ],
             [
              0.2222222222222222,
              "#7201a8"
             ],
             [
              0.3333333333333333,
              "#9c179e"
             ],
             [
              0.4444444444444444,
              "#bd3786"
             ],
             [
              0.5555555555555556,
              "#d8576b"
             ],
             [
              0.6666666666666666,
              "#ed7953"
             ],
             [
              0.7777777777777778,
              "#fb9f3a"
             ],
             [
              0.8888888888888888,
              "#fdca26"
             ],
             [
              1,
              "#f0f921"
             ]
            ],
            "type": "histogram2d"
           }
          ],
          "histogram2dcontour": [
           {
            "colorbar": {
             "outlinewidth": 0,
             "ticks": ""
            },
            "colorscale": [
             [
              0,
              "#0d0887"
             ],
             [
              0.1111111111111111,
              "#46039f"
             ],
             [
              0.2222222222222222,
              "#7201a8"
             ],
             [
              0.3333333333333333,
              "#9c179e"
             ],
             [
              0.4444444444444444,
              "#bd3786"
             ],
             [
              0.5555555555555556,
              "#d8576b"
             ],
             [
              0.6666666666666666,
              "#ed7953"
             ],
             [
              0.7777777777777778,
              "#fb9f3a"
             ],
             [
              0.8888888888888888,
              "#fdca26"
             ],
             [
              1,
              "#f0f921"
             ]
            ],
            "type": "histogram2dcontour"
           }
          ],
          "mesh3d": [
           {
            "colorbar": {
             "outlinewidth": 0,
             "ticks": ""
            },
            "type": "mesh3d"
           }
          ],
          "parcoords": [
           {
            "line": {
             "colorbar": {
              "outlinewidth": 0,
              "ticks": ""
             }
            },
            "type": "parcoords"
           }
          ],
          "pie": [
           {
            "automargin": true,
            "type": "pie"
           }
          ],
          "scatter": [
           {
            "fillpattern": {
             "fillmode": "overlay",
             "size": 10,
             "solidity": 0.2
            },
            "type": "scatter"
           }
          ],
          "scatter3d": [
           {
            "line": {
             "colorbar": {
              "outlinewidth": 0,
              "ticks": ""
             }
            },
            "marker": {
             "colorbar": {
              "outlinewidth": 0,
              "ticks": ""
             }
            },
            "type": "scatter3d"
           }
          ],
          "scattercarpet": [
           {
            "marker": {
             "colorbar": {
              "outlinewidth": 0,
              "ticks": ""
             }
            },
            "type": "scattercarpet"
           }
          ],
          "scattergeo": [
           {
            "marker": {
             "colorbar": {
              "outlinewidth": 0,
              "ticks": ""
             }
            },
            "type": "scattergeo"
           }
          ],
          "scattergl": [
           {
            "marker": {
             "colorbar": {
              "outlinewidth": 0,
              "ticks": ""
             }
            },
            "type": "scattergl"
           }
          ],
          "scattermapbox": [
           {
            "marker": {
             "colorbar": {
              "outlinewidth": 0,
              "ticks": ""
             }
            },
            "type": "scattermapbox"
           }
          ],
          "scatterpolar": [
           {
            "marker": {
             "colorbar": {
              "outlinewidth": 0,
              "ticks": ""
             }
            },
            "type": "scatterpolar"
           }
          ],
          "scatterpolargl": [
           {
            "marker": {
             "colorbar": {
              "outlinewidth": 0,
              "ticks": ""
             }
            },
            "type": "scatterpolargl"
           }
          ],
          "scatterternary": [
           {
            "marker": {
             "colorbar": {
              "outlinewidth": 0,
              "ticks": ""
             }
            },
            "type": "scatterternary"
           }
          ],
          "surface": [
           {
            "colorbar": {
             "outlinewidth": 0,
             "ticks": ""
            },
            "colorscale": [
             [
              0,
              "#0d0887"
             ],
             [
              0.1111111111111111,
              "#46039f"
             ],
             [
              0.2222222222222222,
              "#7201a8"
             ],
             [
              0.3333333333333333,
              "#9c179e"
             ],
             [
              0.4444444444444444,
              "#bd3786"
             ],
             [
              0.5555555555555556,
              "#d8576b"
             ],
             [
              0.6666666666666666,
              "#ed7953"
             ],
             [
              0.7777777777777778,
              "#fb9f3a"
             ],
             [
              0.8888888888888888,
              "#fdca26"
             ],
             [
              1,
              "#f0f921"
             ]
            ],
            "type": "surface"
           }
          ],
          "table": [
           {
            "cells": {
             "fill": {
              "color": "#EBF0F8"
             },
             "line": {
              "color": "white"
             }
            },
            "header": {
             "fill": {
              "color": "#C8D4E3"
             },
             "line": {
              "color": "white"
             }
            },
            "type": "table"
           }
          ]
         },
         "layout": {
          "annotationdefaults": {
           "arrowcolor": "#2a3f5f",
           "arrowhead": 0,
           "arrowwidth": 1
          },
          "autotypenumbers": "strict",
          "coloraxis": {
           "colorbar": {
            "outlinewidth": 0,
            "ticks": ""
           }
          },
          "colorscale": {
           "diverging": [
            [
             0,
             "#8e0152"
            ],
            [
             0.1,
             "#c51b7d"
            ],
            [
             0.2,
             "#de77ae"
            ],
            [
             0.3,
             "#f1b6da"
            ],
            [
             0.4,
             "#fde0ef"
            ],
            [
             0.5,
             "#f7f7f7"
            ],
            [
             0.6,
             "#e6f5d0"
            ],
            [
             0.7,
             "#b8e186"
            ],
            [
             0.8,
             "#7fbc41"
            ],
            [
             0.9,
             "#4d9221"
            ],
            [
             1,
             "#276419"
            ]
           ],
           "sequential": [
            [
             0,
             "#0d0887"
            ],
            [
             0.1111111111111111,
             "#46039f"
            ],
            [
             0.2222222222222222,
             "#7201a8"
            ],
            [
             0.3333333333333333,
             "#9c179e"
            ],
            [
             0.4444444444444444,
             "#bd3786"
            ],
            [
             0.5555555555555556,
             "#d8576b"
            ],
            [
             0.6666666666666666,
             "#ed7953"
            ],
            [
             0.7777777777777778,
             "#fb9f3a"
            ],
            [
             0.8888888888888888,
             "#fdca26"
            ],
            [
             1,
             "#f0f921"
            ]
           ],
           "sequentialminus": [
            [
             0,
             "#0d0887"
            ],
            [
             0.1111111111111111,
             "#46039f"
            ],
            [
             0.2222222222222222,
             "#7201a8"
            ],
            [
             0.3333333333333333,
             "#9c179e"
            ],
            [
             0.4444444444444444,
             "#bd3786"
            ],
            [
             0.5555555555555556,
             "#d8576b"
            ],
            [
             0.6666666666666666,
             "#ed7953"
            ],
            [
             0.7777777777777778,
             "#fb9f3a"
            ],
            [
             0.8888888888888888,
             "#fdca26"
            ],
            [
             1,
             "#f0f921"
            ]
           ]
          },
          "colorway": [
           "#636efa",
           "#EF553B",
           "#00cc96",
           "#ab63fa",
           "#FFA15A",
           "#19d3f3",
           "#FF6692",
           "#B6E880",
           "#FF97FF",
           "#FECB52"
          ],
          "font": {
           "color": "#2a3f5f"
          },
          "geo": {
           "bgcolor": "white",
           "lakecolor": "white",
           "landcolor": "#E5ECF6",
           "showlakes": true,
           "showland": true,
           "subunitcolor": "white"
          },
          "hoverlabel": {
           "align": "left"
          },
          "hovermode": "closest",
          "mapbox": {
           "style": "light"
          },
          "paper_bgcolor": "white",
          "plot_bgcolor": "#E5ECF6",
          "polar": {
           "angularaxis": {
            "gridcolor": "white",
            "linecolor": "white",
            "ticks": ""
           },
           "bgcolor": "#E5ECF6",
           "radialaxis": {
            "gridcolor": "white",
            "linecolor": "white",
            "ticks": ""
           }
          },
          "scene": {
           "xaxis": {
            "backgroundcolor": "#E5ECF6",
            "gridcolor": "white",
            "gridwidth": 2,
            "linecolor": "white",
            "showbackground": true,
            "ticks": "",
            "zerolinecolor": "white"
           },
           "yaxis": {
            "backgroundcolor": "#E5ECF6",
            "gridcolor": "white",
            "gridwidth": 2,
            "linecolor": "white",
            "showbackground": true,
            "ticks": "",
            "zerolinecolor": "white"
           },
           "zaxis": {
            "backgroundcolor": "#E5ECF6",
            "gridcolor": "white",
            "gridwidth": 2,
            "linecolor": "white",
            "showbackground": true,
            "ticks": "",
            "zerolinecolor": "white"
           }
          },
          "shapedefaults": {
           "line": {
            "color": "#2a3f5f"
           }
          },
          "ternary": {
           "aaxis": {
            "gridcolor": "white",
            "linecolor": "white",
            "ticks": ""
           },
           "baxis": {
            "gridcolor": "white",
            "linecolor": "white",
            "ticks": ""
           },
           "bgcolor": "#E5ECF6",
           "caxis": {
            "gridcolor": "white",
            "linecolor": "white",
            "ticks": ""
           }
          },
          "title": {
           "x": 0.05
          },
          "xaxis": {
           "automargin": true,
           "gridcolor": "white",
           "linecolor": "white",
           "ticks": "",
           "title": {
            "standoff": 15
           },
           "zerolinecolor": "white",
           "zerolinewidth": 2
          },
          "yaxis": {
           "automargin": true,
           "gridcolor": "white",
           "linecolor": "white",
           "ticks": "",
           "title": {
            "standoff": 15
           },
           "zerolinecolor": "white",
           "zerolinewidth": 2
          }
         }
        },
        "title": {
         "text": "Data",
         "x": 0.5,
         "xanchor": "center",
         "y": 0.95,
         "yanchor": "top"
        },
        "xaxis": {
         "anchor": "y",
         "autorange": true,
         "domain": [
          0,
          1
         ],
         "range": [
          0,
          364
         ],
         "title": {
          "text": "Ngày"
         },
         "type": "category"
        },
        "yaxis": {
         "anchor": "x",
         "autorange": true,
         "domain": [
          0,
          1
         ],
         "range": [
          847.9333333333334,
          1603.2666666666667
         ],
         "title": {
          "text": "Cột 1"
         },
         "type": "linear"
        }
       }
      },
      "image/png": "[encoded data removed]",
      "text/html": [
       "<div>                            <div id=\"6cbe5cc1-5352-4b69-8634-da761460b0c5\" class=\"plotly-graph-div\" style=\"height:525px; width:100%;\"></div>            <script type=\"text/javascript\">                require([\"plotly\"], function(Plotly) {                    window.PLOTLYENV=window.PLOTLYENV || {};                                    if (document.getElementById(\"6cbe5cc1-5352-4b69-8634-da761460b0c5\")) {                    Plotly.newPlot(                        \"6cbe5cc1-5352-4b69-8634-da761460b0c5\",                        [{\"hovertemplate\":\"x=%{x}\\u003cbr\\u003ey=%{y}\\u003cextra\\u003e\\u003c\\u002fextra\\u003e\",\"legendgroup\":\"\",\"line\":{\"color\":\"tan\",\"dash\":\"solid\"},\"marker\":{\"symbol\":\"circle\"},\"mode\":\"lines\",\"name\":\"\",\"orientation\":\"v\",\"showlegend\":false,\"x\":[\"1\\u002f1\\u002f2021\",\"1\\u002f2\\u002f2021\",\"1\\u002f3\\u002f2021\",\"1\\u002f4\\u002f2021\",\"1\\u002f5\\u002f2021\",\"1\\u002f6\\u002f2021\",\"1\\u002f7\\u002f2021\",\"1\\u002f8\\u002f2021\",\"1\\u002f9\\u002f2021\",\"1\\u002f10\\u002f2021\",\"1\\u002f11\\u002f2021\",\"1\\u002f12\\u002f2021\",\"13\\u002f1\\u002f2021\",\"14\\u002f1\\u002f2021\",\"15\\u002f1\\u002f2021\",\"16\\u002f1\\u002f2021\",\"17\\u002f1\\u002f2021\",\"18\\u002f1\\u002f2021\",\"19\\u002f1\\u002f2021\",\"20\\u002f1\\u002f2021\",\"21\\u002f1\\u002f2021\",\"22\\u002f1\\u002f2021\",\"23\\u002f1\\u002f2021\",\"24\\u002f1\\u002f2021\",\"25\\u002f1\\u002f2021\",\"26\\u002f1\\u002f2021\",\"27\\u002f1\\u002f2021\",\"28\\u002f1\\u002f2021\",\"29\\u002f1\\u002f2021\",\"30\\u002f1\\u002f2021\",\"31\\u002f1\\u002f2021\",\"2\\u002f1\\u002f2021\",\"2\\u002f2\\u002f2021\",\"2\\u002f3\\u002f2021\",\"2\\u002f4\\u002f2021\",\"2\\u002f5\\u002f2021\",\"2\\u002f6\\u002f2021\",\"2\\u002f7\\u002f2021\",\"2\\u002f8\\u002f2021\",\"2\\u002f9\\u002f2021\",\"2\\u002f10\\u002f2021\",\"2\\u002f11\\u002f2021\",\"2\\u002f12\\u002f2021\",\"13\\u002f2\\u002f2021\",\"14\\u002f2\\u002f2021\",\"15\\u002f2\\u002f2021\",\"16\\u002f2\\u002f2021\",\"17\\u002f2\\u002f2021\",\"18\\u002f2\\u002f2021\",\"19\\u002f2\\u002f2021\",\"20\\u002f2\\u002f2021\",\"21\\u002f2\\u002f2021\",\"22\\u002f2\\u002f2021\",\"23\\u002f2\\u002f2021\",\"24\\u002f2\\u002f2021\",\"25\\u002f2\\u002f2021\",\"26\\u002f2\\u002f2021\",\"27\\u002f2\\u002f2021\",\"28\\u002f2\\u002f2021\",\"3\\u002f1\\u002f2021\",\"3\\u002f2\\u002f2021\",\"3\\u002f3\\u002f2021\",\"3\\u002f4\\u002f2021\",\"3\\u002f5\\u002f2021\",\"3\\u002f6\\u002f2021\",\"3\\u002f7\\u002f2021\",\"3\\u002f8\\u002f2021\",\"3\\u002f9\\u002f2021\",\"3\\u002f10\\u002f2021\",\"3\\u002f11\\u002f2021\",\"3\\u002f12\\u002f2021\",\"13\\u002f3\\u002f2021\",\"14\\u002f3\\u002f2021\",\"15\\u002f3\\u002f2021\",\"16\\u002f3\\u002f2021\",\"17\\u002f3\\u002f2021\",\"18\\u002f3\\u002f2021\",\"19\\u002f3\\u002f2021\",\"20\\u002f3\\u002f2021\",\"21\\u002f3\\u002f2021\",\"22\\u002f3\\u002f2021\",\"23\\u002f3\\u002f2021\",\"24\\u002f3\\u002f2021\",\"25\\u002f3\\u002f2021\",\"26\\u002f3\\u002f2021\",\"27\\u002f3\\u002f2021\",\"28\\u002f3\\u002f2021\",\"29\\u002f3\\u002f2021\",\"30\\u002f3\\u002f2021\",\"31\\u002f3\\u002f2021\",\"4\\u002f1\\u002f2021\",\"4\\u002f2\\u002f2021\",\"4\\u002f3\\u002f2021\",\"4\\u002f4\\u002f2021\",\"4\\u002f5\\u002f2021\",\"4\\u002f6\\u002f2021\",\"4\\u002f7\\u002f2021\",\"4\\u002f8\\u002f2021\",\"4\\u002f9\\u002f2021\",\"4\\u002f10\\u002f2021\",\"4\\u002f11\\u002f2021\",\"4\\u002f12\\u002f2021\",\"13\\u002f4\\u002f2021\",\"14\\u002f4\\u002f2021\",\"15\\u002f4\\u002f2021\",\"16\\u002f4\\u002f2021\",\"17\\u002f4\\u002f2021\",\"18\\u002f4\\u002f2021\",\"19\\u002f4\\u002f2021\",\"20\\u002f4\\u002f2021\",\"21\\u002f4\\u002f2021\",\"22\\u002f4\\u002f2021\",\"23\\u002f4\\u002f2021\",\"24\\u002f4\\u002f2021\",\"25\\u002f4\\u002f2021\",\"26\\u002f4\\u002f2021\",\"27\\u002f4\\u002f2021\",\"28\\u002f4\\u002f2021\",\"29\\u002f4\\u002f2021\",\"30\\u002f4\\u002f2021\",\"5\\u002f1\\u002f2021\",\"5\\u002f2\\u002f2021\",\"5\\u002f3\\u002f2021\",\"5\\u002f4\\u002f2021\",\"5\\u002f5\\u002f2021\",\"5\\u002f6\\u002f2021\",\"5\\u002f7\\u002f2021\",\"5\\u002f8\\u002f2021\",\"5\\u002f9\\u002f2021\",\"5\\u002f10\\u002f2021\",\"5\\u002f11\\u002f2021\",\"5\\u002f12\\u002f2021\",\"13\\u002f5\\u002f2021\",\"14\\u002f5\\u002f2021\",\"15\\u002f5\\u002f2021\",\"16\\u002f5\\u002f2021\",\"17\\u002f5\\u002f2021\",\"18\\u002f5\\u002f2021\",\"19\\u002f5\\u002f2021\",\"20\\u002f5\\u002f2021\",\"21\\u002f5\\u002f2021\",\"22\\u002f5\\u002f2021\",\"23\\u002f5\\u002f2021\",\"24\\u002f5\\u002f2021\",\"25\\u002f5\\u002f2021\",\"26\\u002f5\\u002f2021\",\"27\\u002f5\\u002f2021\",\"28\\u002f5\\u002f2021\",\"29\\u002f5\\u002f2021\",\"30\\u002f5\\u002f2021\",\"31\\u002f5\\u002f2021\",\"6\\u002f1\\u002f2021\",\"6\\u002f2\\u002f2021\",\"6\\u002f3\\u002f2021\",\"6\\u002f4\\u002f2021\",\"6\\u002f5\\u002f2021\",\"6\\u002f6\\u002f2021\",\"6\\u002f7\\u002f2021\",\"6\\u002f8\\u002f2021\",\"6\\u002f9\\u002f2021\",\"6\\u002f10\\u002f2021\",\"6\\u002f11\\u002f2021\",\"6\\u002f12\\u002f2021\",\"13\\u002f6\\u002f2021\",\"14\\u002f6\\u002f2021\",\"15\\u002f6\\u002f2021\",\"16\\u002f6\\u002f2021\",\"17\\u002f6\\u002f2021\",\"18\\u002f6\\u002f2021\",\"19\\u002f6\\u002f2021\",\"20\\u002f6\\u002f2021\",\"21\\u002f6\\u002f2021\",\"22\\u002f6\\u002f2021\",\"23\\u002f6\\u002f2021\",\"24\\u002f6\\u002f2021\",\"25\\u002f6\\u002f2021\",\"26\\u002f6\\u002f2021\",\"27\\u002f6\\u002f2021\",\"28\\u002f6\\u002f2021\",\"29\\u002f6\\u002f2021\",\"30\\u002f6\\u002f2021\",\"7\\u002f1\\u002f2021\",\"7\\u002f2\\u002f2021\",\"7\\u002f3\\u002f2021\",\"7\\u002f4\\u002f2021\",\"7\\u002f5\\u002f2021\",\"7\\u002f6\\u002f2021\",\"7\\u002f7\\u002f2021\",\"7\\u002f8\\u002f2021\",\"7\\u002f9\\u002f2021\",\"7\\u002f10\\u002f2021\",\"7\\u002f11\\u002f2021\",\"7\\u002f12\\u002f2021\",\"13\\u002f7\\u002f2021\",\"14\\u002f7\\u002f2021\",\"15\\u002f7\\u002f2021\",\"16\\u002f7\\u002f2021\",\"17\\u002f7\\u002f2021\",\"18\\u002f7\\u002f2021\",\"19\\u002f7\\u002f2021\",\"20\\u002f7\\u002f2021\",\"21\\u002f7\\u002f2021\",\"22\\u002f7\\u002f2021\",\"23\\u002f7\\u002f2021\",\"24\\u002f7\\u002f2021\",\"25\\u002f7\\u002f2021\",\"26\\u002f7\\u002f2021\",\"27\\u002f7\\u002f2021\",\"28\\u002f7\\u002f2021\",\"29\\u002f7\\u002f2021\",\"30\\u002f7\\u002f2021\",\"31\\u002f7\\u002f2021\",\"8\\u002f1\\u002f2021\",\"8\\u002f2\\u002f2021\",\"8\\u002f3\\u002f2021\",\"8\\u002f4\\u002f2021\",\"8\\u002f5\\u002f2021\",\"8\\u002f6\\u002f2021\",\"8\\u002f7\\u002f2021\",\"8\\u002f8\\u002f2021\",\"8\\u002f9\\u002f2021\",\"8\\u002f10\\u002f2021\",\"8\\u002f11\\u002f2021\",\"8\\u002f12\\u002f2021\",\"13\\u002f8\\u002f2021\",\"14\\u002f8\\u002f2021\",\"15\\u002f8\\u002f2021\",\"16\\u002f8\\u002f2021\",\"17\\u002f8\\u002f2021\",\"18\\u002f8\\u002f2021\",\"19\\u002f8\\u002f2021\",\"20\\u002f8\\u002f2021\",\"21\\u002f8\\u002f2021\",\"22\\u002f8\\u002f2021\",\"23\\u002f8\\u002f2021\",\"24\\u002f8\\u002f2021\",\"25\\u002f8\\u002f2021\",\"26\\u002f8\\u002f2021\",\"27\\u002f8\\u002f2021\",\"28\\u002f8\\u002f2021\",\"29\\u002f8\\u002f2021\",\"30\\u002f8\\u002f2021\",\"31\\u002f8\\u002f2021\",\"9\\u002f1\\u002f2021\",\"9\\u002f2\\u002f2021\",\"9\\u002f3\\u002f2021\",\"9\\u002f4\\u002f2021\",\"9\\u002f5\\u002f2021\",\"9\\u002f6\\u002f2021\",\"9\\u002f7\\u002f2021\",\"9\\u002f8\\u002f2021\",\"9\\u002f9\\u002f2021\",\"9\\u002f10\\u002f2021\",\"9\\u002f11\\u002f2021\",\"9\\u002f12\\u002f2021\",\"13\\u002f9\\u002f2021\",\"14\\u002f9\\u002f2021\",\"15\\u002f9\\u002f2021\",\"16\\u002f9\\u002f2021\",\"17\\u002f9\\u002f2021\",\"18\\u002f9\\u002f2021\",\"19\\u002f9\\u002f2021\",\"20\\u002f9\\u002f2021\",\"21\\u002f9\\u002f2021\",\"22\\u002f9\\u002f2021\",\"23\\u002f9\\u002f2021\",\"24\\u002f9\\u002f2021\",\"25\\u002f9\\u002f2021\",\"26\\u002f9\\u002f2021\",\"27\\u002f9\\u002f2021\",\"28\\u002f9\\u002f2021\",\"29\\u002f9\\u002f2021\",\"30\\u002f9\\u002f2021\",\"10\\u002f1\\u002f2021\",\"10\\u002f2\\u002f2021\",\"10\\u002f3\\u002f2021\",\"10\\u002f4\\u002f2021\",\"10\\u002f5\\u002f2021\",\"10\\u002f6\\u002f2021\",\"10\\u002f7\\u002f2021\",\"10\\u002f8\\u002f2021\",\"10\\u002f9\\u002f2021\",\"10\\u002f10\\u002f2021\",\"10\\u002f11\\u002f2021\",\"10\\u002f12\\u002f2021\",\"13\\u002f10\\u002f2021\",\"14\\u002f10\\u002f2021\",\"15\\u002f10\\u002f2021\",\"16\\u002f10\\u002f2021\",\"17\\u002f10\\u002f2021\",\"18\\u002f10\\u002f2021\",\"19\\u002f10\\u002f2021\",\"20\\u002f10\\u002f2021\",\"21\\u002f10\\u002f2021\",\"22\\u002f10\\u002f2021\",\"23\\u002f10\\u002f2021\",\"24\\u002f10\\u002f2021\",\"25\\u002f10\\u002f2021\",\"26\\u002f10\\u002f2021\",\"27\\u002f10\\u002f2021\",\"28\\u002f10\\u002f2021\",\"29\\u002f10\\u002f2021\",\"30\\u002f10\\u002f2021\",\"31\\u002f10\\u002f2021\",\"11\\u002f1\\u002f2021\",\"11\\u002f2\\u002f2021\",\"11\\u002f3\\u002f2021\",\"11\\u002f4\\u002f2021\",\"11\\u002f5\\u002f2021\",\"11\\u002f6\\u002f2021\",\"11\\u002f7\\u002f2021\",\"11\\u002f8\\u002f2021\",\"11\\u002f9\\u002f2021\",\"11\\u002f10\\u002f2021\",\"11\\u002f11\\u002f2021\",\"11\\u002f12\\u002f2021\",\"13\\u002f11\\u002f2021\",\"14\\u002f11\\u002f2021\",\"15\\u002f11\\u002f2021\",\"16\\u002f11\\u002f2021\",\"17\\u002f11\\u002f2021\",\"18\\u002f11\\u002f2021\",\"19\\u002f11\\u002f2021\",\"20\\u002f11\\u002f2021\",\"21\\u002f11\\u002f2021\",\"22\\u002f11\\u002f2021\",\"23\\u002f11\\u002f2021\",\"24\\u002f11\\u002f2021\",\"25\\u002f11\\u002f2021\",\"26\\u002f11\\u002f2021\",\"27\\u002f11\\u002f2021\",\"28\\u002f11\\u002f2021\",\"29\\u002f11\\u002f2021\",\"30\\u002f11\\u002f2021\",\"12\\u002f1\\u002f2021\",\"12\\u002f2\\u002f2021\",\"12\\u002f3\\u002f2021\",\"12\\u002f4\\u002f2021\",\"12\\u002f5\\u002f2021\",\"12\\u002f6\\u002f2021\",\"12\\u002f7\\u002f2021\",\"12\\u002f8\\u002f2021\",\"12\\u002f9\\u002f2021\",\"12\\u002f10\\u002f2021\",\"12\\u002f11\\u002f2021\",\"12\\u002f12\\u002f2021\",\"13\\u002f12\\u002f2021\",\"14\\u002f12\\u002f2021\",\"15\\u002f12\\u002f2021\",\"16\\u002f12\\u002f2021\",\"17\\u002f12\\u002f2021\",\"18\\u002f12\\u002f2021\",\"19\\u002f12\\u002f2021\",\"20\\u002f12\\u002f2021\",\"21\\u002f12\\u002f2021\",\"22\\u002f12\\u002f2021\",\"23\\u002f12\\u002f2021\",\"24\\u002f12\\u002f2021\",\"25\\u002f12\\u002f2021\",\"26\\u002f12\\u002f2021\",\"27\\u002f12\\u002f2021\",\"28\\u002f12\\u002f2021\",\"29\\u002f12\\u002f2021\",\"30\\u002f12\\u002f2021\",\"31\\u002f12\\u002f2021\"],\"xaxis\":\"x\",\"y\":[964.4,1019.7,988.4,1002.0,1061.5,1061.5,1061.5,1061.5,1064.1,966.7,1002.0,1066.6,1061.5,1061.5,1061.5,1066.6,988.4,1058.0,1069.4,1069.4,1069.4,1061.5,1019.7,988.3,988.4,988.4,966.7,963.6,945.5,918.6,966.7,964.4,966.8,966.7,964.4,964.4,963.6,963.6,963.6,912.1,912.1,916.8,888.5,894.6,912.1,890.2,963.6,963.6,964.4,964.4,964.4,963.6,988.3,988.3,988.3,988.4,1002.0,988.4,964.4,988.3,1019.7,988.4,1002.0,1002.1,988.4,966.7,1002.0,1019.7,1019.7,1061.5,1002.1,1002.0,1019.7,1002.1,1061.5,1061.5,1069.4,1069.4,1061.5,966.7,1022.6,1022.6,1022.6,1064.0,1061.5,1061.5,966.7,1002.0,1061.5,1022.6,988.4,1002.0,988.4,966.7,1002.0,1061.5,1061.5,1061.5,1022.6,966.7,966.7,966.7,1061.5,1069.4,1064.1,1069.4,1069.4,1022.6,1069.4,1069.4,1069.4,1069.4,1069.4,1069.4,966.8,1061.5,1069.4,1069.4,1064.0,945.5,930.6,966.7,1061.5,1069.4,1061.5,1022.6,988.4,1002.0,964.4,1022.6,1061.5,1069.4,1069.4,1069.4,1069.4,1022.6,1069.4,1069.4,1061.5,1069.4,1069.4,1069.4,1061.5,1069.4,1069.4,1061.5,1061.5,1061.5,1002.1,990.9,1061.5,990.9,990.9,990.9,990.9,966.7,966.7,1022.6,1061.5,1069.4,1069.4,1061.5,990.9,990.9,990.9,966.7,1022.6,1022.6,1069.4,1064.0,990.9,966.7,1002.0,1022.6,1061.5,1069.4,1064.1,966.7,966.7,966.7,990.9,945.5,964.4,966.7,963.6,990.9,1061.5,966.8,990.9,1022.6,1022.6,964.5,966.8,990.9,990.9,1069.4,1069.4,1061.5,966.7,1069.4,1403.0,1565.5,1403.0,1520.2,1403.0,1087.5,1379.4,1331.3,1316.8,1061.5,990.9,964.4,945.5,990.9,1061.5,1064.1,1069.4,1069.4,1061.5,990.9,1069.4,1403.0,1422.9,1422.9,1423.1,1403.0,1379.4,1565.1,1503.4,1422.9,1403.0,1379.4,1316.9,1064.1,1069.4,1294.0,1293.5,1069.4,1069.4,990.9,945.5,1002.0,1022.6,1022.6,885.7,1022.6,1069.4,1022.6,1069.4,1061.5,1061.5,1061.5,1293.5,1069.4,966.7,1061.5,1069.4,1022.6,1002.0,1022.6,1002.0,945.5,990.9,1022.6,1022.6,1022.6,990.9,966.7,930.6,964.4,1002.0,1022.6,1002.1,1022.6,990.9,945.5,1002.0,1022.6,966.7,1022.6,1069.4,1022.6,964.4,1022.6,1069.4,1061.5,1064.1,1002.0,990.9,963.6,1002.0,1069.4,1069.4,1061.5,1061.5,1002.0,966.7,1002.0,1022.6,1022.6,990.9,1002.0,990.9,945.5,1002.0,1061.5,1002.0,1022.6,1002.0,990.9,963.6,990.9,1002.0,1069.4,1069.4,1061.5,1002.0,966.8,1069.4,1069.4,1069.4,1061.5,1069.4,1061.5,966.7,1022.6,1061.5,1002.0,1022.6,1002.1,966.8,963.7,966.7,990.9,1002.1,1022.6,1002.0,990.9,964.4,990.9,1002.0,1022.6,1061.5,1061.5,1022.6,966.7,1022.6,1061.5,1064.1,1061.5,1061.5,1022.6,990.9,1043.3,1061.5,1022.6,1022.6,1022.6,1002.0,966.7,1002.0,1002.0,1061.5,1022.6,1022.6],\"yaxis\":\"y\",\"type\":\"scatter\"}],                        {\"template\":{\"data\":{\"histogram2dcontour\":[{\"type\":\"histogram2dcontour\",\"colorbar\":{\"outlinewidth\":0,\"ticks\":\"\"},\"colorscale\":[[0.0,\"#0d0887\"],[0.1111111111111111,\"#46039f\"],[0.2222222222222222,\"#7201a8\"],[0.3333333333333333,\"#9c179e\"],[0.4444444444444444,\"#bd3786\"],[0.5555555555555556,\"#d8576b\"],[0.6666666666666666,\"#ed7953\"],[0.7777777777777778,\"#fb9f3a\"],[0.8888888888888888,\"#fdca26\"],[1.0,\"#f0f921\"]]}],\"choropleth\":[{\"type\":\"choropleth\",\"colorbar\":{\"outlinewidth\":0,\"ticks\":\"\"}}],\"histogram2d\":[{\"type\":\"histogram2d\",\"colorbar\":{\"outlinewidth\":0,\"ticks\":\"\"},\"colorscale\":[[0.0,\"#0d0887\"],[0.1111111111111111,\"#46039f\"],[0.2222222222222222,\"#7201a8\"],[0.3333333333333333,\"#9c179e\"],[0.4444444444444444,\"#bd3786\"],[0.5555555555555556,\"#d8576b\"],[0.6666666666666666,\"#ed7953\"],[0.7777777777777778,\"#fb9f3a\"],[0.8888888888888888,\"#fdca26\"],[1.0,\"#f0f921\"]]}],\"heatmap\":[{\"type\":\"heatmap\",\"colorbar\":{\"outlinewidth\":0,\"ticks\":\"\"},\"colorscale\":[[0.0,\"#0d0887\"],[0.1111111111111111,\"#46039f\"],[0.2222222222222222,\"#7201a8\"],[0.3333333333333333,\"#9c179e\"],[0.4444444444444444,\"#bd3786\"],[0.5555555555555556,\"#d8576b\"],[0.6666666666666666,\"#ed7953\"],[0.7777777777777778,\"#fb9f3a\"],[0.8888888888888888,\"#fdca26\"],[1.0,\"#f0f921\"]]}],\"heatmapgl\":[{\"type\":\"heatmapgl\",\"colorbar\":{\"outlinewidth\":0,\"ticks\":\"\"},\"colorscale\":[[0.0,\"#0d0887\"],[0.1111111111111111,\"#46039f\"],[0.2222222222222222,\"#7201a8\"],[0.3333333333333333,\"#9c179e\"],[0.4444444444444444,\"#bd3786\"],[0.5555555555555556,\"#d8576b\"],[0.6666666666666666,\"#ed7953\"],[0.7777777777777778,\"#fb9f3a\"],[0.8888888888888888,\"#fdca26\"],[1.0,\"#f0f921\"]]}],\"contourcarpet\":[{\"type\":\"contourcarpet\",\"colorbar\":{\"outlinewidth\":0,\"ticks\":\"\"}}],\"contour\":[{\"type\":\"contour\",\"colorbar\":{\"outlinewidth\":0,\"ticks\":\"\"},\"colorscale\":[[0.0,\"#0d0887\"],[0.1111111111111111,\"#46039f\"],[0.2222222222222222,\"#7201a8\"],[0.3333333333333333,\"#9c179e\"],[0.4444444444444444,\"#bd3786\"],[0.5555555555555556,\"#d8576b\"],[0.6666666666666666,\"#ed7953\"],[0.7777777777777778,\"#fb9f3a\"],[0.8888888888888888,\"#fdca26\"],[1.0,\"#f0f921\"]]}],\"surface\":[{\"type\":\"surface\",\"colorbar\":{\"outlinewidth\":0,\"ticks\":\"\"},\"colorscale\":[[0.0,\"#0d0887\"],[0.1111111111111111,\"#46039f\"],[0.2222222222222222,\"#7201a8\"],[0.3333333333333333,\"#9c179e\"],[0.4444444444444444,\"#bd3786\"],[0.5555555555555556,\"#d8576b\"],[0.6666666666666666,\"#ed7953\"],[0.7777777777777778,\"#fb9f3a\"],[0.8888888888888888,\"#fdca26\"],[1.0,\"#f0f921\"]]}],\"mesh3d\":[{\"type\":\"mesh3d\",\"colorbar\":{\"outlinewidth\":0,\"ticks\":\"\"}}],\"scatter\":[{\"fillpattern\":{\"fillmode\":\"overlay\",\"size\":10,\"solidity\":0.2},\"type\":\"scatter\"}],\"parcoords\":[{\"type\":\"parcoords\",\"line\":{\"colorbar\":{\"outlinewidth\":0,\"ticks\":\"\"}}}],\"scatterpolargl\":[{\"type\":\"scatterpolargl\",\"marker\":{\"colorbar\":{\"outlinewidth\":0,\"ticks\":\"\"}}}],\"bar\":[{\"error_x\":{\"color\":\"#2a3f5f\"},\"error_y\":{\"color\":\"#2a3f5f\"},\"marker\":{\"line\":{\"color\":\"#E5ECF6\",\"width\":0.5},\"pattern\":{\"fillmode\":\"overlay\",\"size\":10,\"solidity\":0.2}},\"type\":\"bar\"}],\"scattergeo\":[{\"type\":\"scattergeo\",\"marker\":{\"colorbar\":{\"outlinewidth\":0,\"ticks\":\"\"}}}],\"scatterpolar\":[{\"type\":\"scatterpolar\",\"marker\":{\"colorbar\":{\"outlinewidth\":0,\"ticks\":\"\"}}}],\"histogram\":[{\"marker\":{\"pattern\":{\"fillmode\":\"overlay\",\"size\":10,\"solidity\":0.2}},\"type\":\"histogram\"}],\"scattergl\":[{\"type\":\"scattergl\",\"marker\":{\"colorbar\":{\"outlinewidth\":0,\"ticks\":\"\"}}}],\"scatter3d\":[{\"type\":\"scatter3d\",\"line\":{\"colorbar\":{\"outlinewidth\":0,\"ticks\":\"\"}},\"marker\":{\"colorbar\":{\"outlinewidth\":0,\"ticks\":\"\"}}}],\"scattermapbox\":[{\"type\":\"scattermapbox\",\"marker\":{\"colorbar\":{\"outlinewidth\":0,\"ticks\":\"\"}}}],\"scatterternary\":[{\"type\":\"scatterternary\",\"marker\":{\"colorbar\":{\"outlinewidth\":0,\"ticks\":\"\"}}}],\"scattercarpet\":[{\"type\":\"scattercarpet\",\"marker\":{\"colorbar\":{\"outlinewidth\":0,\"ticks\":\"\"}}}],\"carpet\":[{\"aaxis\":{\"endlinecolor\":\"#2a3f5f\",\"gridcolor\":\"white\",\"linecolor\":\"white\",\"minorgridcolor\":\"white\",\"startlinecolor\":\"#2a3f5f\"},\"baxis\":{\"endlinecolor\":\"#2a3f5f\",\"gridcolor\":\"white\",\"linecolor\":\"white\",\"minorgridcolor\":\"white\",\"startlinecolor\":\"#2a3f5f\"},\"type\":\"carpet\"}],\"table\":[{\"cells\":{\"fill\":{\"color\":\"#EBF0F8\"},\"line\":{\"color\":\"white\"}},\"header\":{\"fill\":{\"color\":\"#C8D4E3\"},\"line\":{\"color\":\"white\"}},\"type\":\"table\"}],\"barpolar\":[{\"marker\":{\"line\":{\"color\":\"#E5ECF6\",\"width\":0.5},\"pattern\":{\"fillmode\":\"overlay\",\"size\":10,\"solidity\":0.2}},\"type\":\"barpolar\"}],\"pie\":[{\"automargin\":true,\"type\":\"pie\"}]},\"layout\":{\"autotypenumbers\":\"strict\",\"colorway\":[\"#636efa\",\"#EF553B\",\"#00cc96\",\"#ab63fa\",\"#FFA15A\",\"#19d3f3\",\"#FF6692\",\"#B6E880\",\"#FF97FF\",\"#FECB52\"],\"font\":{\"color\":\"#2a3f5f\"},\"hovermode\":\"closest\",\"hoverlabel\":{\"align\":\"left\"},\"paper_bgcolor\":\"white\",\"plot_bgcolor\":\"#E5ECF6\",\"polar\":{\"bgcolor\":\"#E5ECF6\",\"angularaxis\":{\"gridcolor\":\"white\",\"linecolor\":\"white\",\"ticks\":\"\"},\"radialaxis\":{\"gridcolor\":\"white\",\"linecolor\":\"white\",\"ticks\":\"\"}},\"ternary\":{\"bgcolor\":\"#E5ECF6\",\"aaxis\":{\"gridcolor\":\"white\",\"linecolor\":\"white\",\"ticks\":\"\"},\"baxis\":{\"gridcolor\":\"white\",\"linecolor\":\"white\",\"ticks\":\"\"},\"caxis\":{\"gridcolor\":\"white\",\"linecolor\":\"white\",\"ticks\":\"\"}},\"coloraxis\":{\"colorbar\":{\"outlinewidth\":0,\"ticks\":\"\"}},\"colorscale\":{\"sequential\":[[0.0,\"#0d0887\"],[0.1111111111111111,\"#46039f\"],[0.2222222222222222,\"#7201a8\"],[0.3333333333333333,\"#9c179e\"],[0.4444444444444444,\"#bd3786\"],[0.5555555555555556,\"#d8576b\"],[0.6666666666666666,\"#ed7953\"],[0.7777777777777778,\"#fb9f3a\"],[0.8888888888888888,\"#fdca26\"],[1.0,\"#f0f921\"]],\"sequentialminus\":[[0.0,\"#0d0887\"],[0.1111111111111111,\"#46039f\"],[0.2222222222222222,\"#7201a8\"],[0.3333333333333333,\"#9c179e\"],[0.4444444444444444,\"#bd3786\"],[0.5555555555555556,\"#d8576b\"],[0.6666666666666666,\"#ed7953\"],[0.7777777777777778,\"#fb9f3a\"],[0.8888888888888888,\"#fdca26\"],[1.0,\"#f0f921\"]],\"diverging\":[[0,\"#8e0152\"],[0.1,\"#c51b7d\"],[0.2,\"#de77ae\"],[0.3,\"#f1b6da\"],[0.4,\"#fde0ef\"],[0.5,\"#f7f7f7\"],[0.6,\"#e6f5d0\"],[0.7,\"#b8e186\"],[0.8,\"#7fbc41\"],[0.9,\"#4d9221\"],[1,\"#276419\"]]},\"xaxis\":{\"gridcolor\":\"white\",\"linecolor\":\"white\",\"ticks\":\"\",\"title\":{\"standoff\":15},\"zerolinecolor\":\"white\",\"automargin\":true,\"zerolinewidth\":2},\"yaxis\":{\"gridcolor\":\"white\",\"linecolor\":\"white\",\"ticks\":\"\",\"title\":{\"standoff\":15},\"zerolinecolor\":\"white\",\"automargin\":true,\"zerolinewidth\":2},\"scene\":{\"xaxis\":{\"backgroundcolor\":\"#E5ECF6\",\"gridcolor\":\"white\",\"linecolor\":\"white\",\"showbackground\":true,\"ticks\":\"\",\"zerolinecolor\":\"white\",\"gridwidth\":2},\"yaxis\":{\"backgroundcolor\":\"#E5ECF6\",\"gridcolor\":\"white\",\"linecolor\":\"white\",\"showbackground\":true,\"ticks\":\"\",\"zerolinecolor\":\"white\",\"gridwidth\":2},\"zaxis\":{\"backgroundcolor\":\"#E5ECF6\",\"gridcolor\":\"white\",\"linecolor\":\"white\",\"showbackground\":true,\"ticks\":\"\",\"zerolinecolor\":\"white\",\"gridwidth\":2}},\"shapedefaults\":{\"line\":{\"color\":\"#2a3f5f\"}},\"annotationdefaults\":{\"arrowcolor\":\"#2a3f5f\",\"arrowhead\":0,\"arrowwidth\":1},\"geo\":{\"bgcolor\":\"white\",\"landcolor\":\"#E5ECF6\",\"subunitcolor\":\"white\",\"showland\":true,\"showlakes\":true,\"lakecolor\":\"white\"},\"title\":{\"x\":0.05},\"mapbox\":{\"style\":\"light\"}}},\"xaxis\":{\"anchor\":\"y\",\"domain\":[0.0,1.0],\"title\":{\"text\":\"Ng\\u00e0y\"}},\"yaxis\":{\"anchor\":\"x\",\"domain\":[0.0,1.0],\"title\":{\"text\":\"C\\u1ed9t 1\"}},\"legend\":{\"tracegroupgap\":0},\"margin\":{\"t\":60},\"title\":{\"text\":\"Data\",\"y\":0.95,\"x\":0.5,\"xanchor\":\"center\",\"yanchor\":\"top\"},\"plot_bgcolor\":\"rgba(255,255,255,0.8)\"},                        {\"responsive\": true}                    ).then(function(){\n",
       "                            \n",
       "var gd = document.getElementById('6cbe5cc1-5352-4b69-8634-da761460b0c5');\n",
       "var x = new MutationObserver(function (mutations, observer) {{\n",
       "        var display = window.getComputedStyle(gd).display;\n",
       "        if (!display || display === 'none') {{\n",
       "            console.log([gd, 'removed!']);\n",
       "            Plotly.purge(gd);\n",
       "            observer.disconnect();\n",
       "        }}\n",
       "}});\n",
       "\n",
       "// Listen for the removal of the full notebook cells\n",
       "var notebookContainer = gd.closest('#notebook-container');\n",
       "if (notebookContainer) {{\n",
       "    x.observe(notebookContainer, {childList: true});\n",
       "}}\n",
       "\n",
       "// Listen for the clearing of the current output cell\n",
       "var outputEl = gd.closest('.output');\n",
       "if (outputEl) {{\n",
       "    x.observe(outputEl, {childList: true});\n",
       "}}\n",
       "\n",
       "                        })                };                });            </script>        </div>"
      ]
     },
     "metadata": {},
     "output_type": "display_data"
    }
   ],
   "source": [
    "import plotly.express as px\n",
    "fig = px.line(y=df['6'], x=df['Ngày'])\n",
    "fig.update_traces(line_color='tan') \n",
    "fig.update_layout(xaxis_title=\"Ngày\", \n",
    "                  yaxis_title=\"Cột 1\",\n",
    "                  title={'text': \"Data\", 'y':0.95, 'x':0.5, 'xanchor':'center', 'yanchor':'top'},\n",
    "                  plot_bgcolor='rgba(255,255,255,0.8)')"
   ]
  },
  {
   "cell_type": "code",
   "execution_count": 205,
   "id": "79ca1ea6-ae54-4724-9f50-4827a3e5fdc1",
   "metadata": {},
   "outputs": [],
   "source": [
    "import matplotlib.pyplot as plt\n",
    "from scipy import stats\n",
    "import numpy as np\n",
    "from hmmlearn import hmm"
   ]
  },
  {
   "cell_type": "code",
   "execution_count": 211,
   "id": "7e526255-99f1-450b-861b-a1ba49295a4b",
   "metadata": {},
   "outputs": [],
   "source": [
    "observations = data.values"
   ]
  },
  {
   "cell_type": "code",
   "execution_count": 212,
   "id": "36a87027-f3af-4e1a-9f59-c2eb9455b71d",
   "metadata": {},
   "outputs": [],
   "source": [
    "model = GaussianHMM(n_components=2, covariance_type=\"diag\", n_iter=1000)"
   ]
  },
  {
   "cell_type": "code",
   "execution_count": 213,
   "id": "d7caee82-656a-4153-8345-d1550d312078",
   "metadata": {},
   "outputs": [
    {
     "data": {
      "text/html": [
       "<style>#sk-container-id-6 {\n",
       "  /* Definition of color scheme common for light and dark mode */\n",
       "  --sklearn-color-text: black;\n",
       "  --sklearn-color-line: gray;\n",
       "  /* Definition of color scheme for unfitted estimators */\n",
       "  --sklearn-color-unfitted-level-0: #fff5e6;\n",
       "  --sklearn-color-unfitted-level-1: #f6e4d2;\n",
       "  --sklearn-color-unfitted-level-2: #ffe0b3;\n",
       "  --sklearn-color-unfitted-level-3: chocolate;\n",
       "  /* Definition of color scheme for fitted estimators */\n",
       "  --sklearn-color-fitted-level-0: #f0f8ff;\n",
       "  --sklearn-color-fitted-level-1: #d4ebff;\n",
       "  --sklearn-color-fitted-level-2: #b3dbfd;\n",
       "  --sklearn-color-fitted-level-3: cornflowerblue;\n",
       "\n",
       "  /* Specific color for light theme */\n",
       "  --sklearn-color-text-on-default-background: var(--sg-text-color, var(--theme-code-foreground, var(--jp-content-font-color1, black)));\n",
       "  --sklearn-color-background: var(--sg-background-color, var(--theme-background, var(--jp-layout-color0, white)));\n",
       "  --sklearn-color-border-box: var(--sg-text-color, var(--theme-code-foreground, var(--jp-content-font-color1, black)));\n",
       "  --sklearn-color-icon: #696969;\n",
       "\n",
       "  @media (prefers-color-scheme: dark) {\n",
       "    /* Redefinition of color scheme for dark theme */\n",
       "    --sklearn-color-text-on-default-background: var(--sg-text-color, var(--theme-code-foreground, var(--jp-content-font-color1, white)));\n",
       "    --sklearn-color-background: var(--sg-background-color, var(--theme-background, var(--jp-layout-color0, #111)));\n",
       "    --sklearn-color-border-box: var(--sg-text-color, var(--theme-code-foreground, var(--jp-content-font-color1, white)));\n",
       "    --sklearn-color-icon: #878787;\n",
       "  }\n",
       "}\n",
       "\n",
       "#sk-container-id-6 {\n",
       "  color: var(--sklearn-color-text);\n",
       "}\n",
       "\n",
       "#sk-container-id-6 pre {\n",
       "  padding: 0;\n",
       "}\n",
       "\n",
       "#sk-container-id-6 input.sk-hidden--visually {\n",
       "  border: 0;\n",
       "  clip: rect(1px 1px 1px 1px);\n",
       "  clip: rect(1px, 1px, 1px, 1px);\n",
       "  height: 1px;\n",
       "  margin: -1px;\n",
       "  overflow: hidden;\n",
       "  padding: 0;\n",
       "  position: absolute;\n",
       "  width: 1px;\n",
       "}\n",
       "\n",
       "#sk-container-id-6 div.sk-dashed-wrapped {\n",
       "  border: 1px dashed var(--sklearn-color-line);\n",
       "  margin: 0 0.4em 0.5em 0.4em;\n",
       "  box-sizing: border-box;\n",
       "  padding-bottom: 0.4em;\n",
       "  background-color: var(--sklearn-color-background);\n",
       "}\n",
       "\n",
       "#sk-container-id-6 div.sk-container {\n",
       "  /* jupyter's `normalize.less` sets `[hidden] { display: none; }`\n",
       "     but bootstrap.min.css set `[hidden] { display: none !important; }`\n",
       "     so we also need the `!important` here to be able to override the\n",
       "     default hidden behavior on the sphinx rendered scikit-learn.org.\n",
       "     See: https://github.com/scikit-learn/scikit-learn/issues/21755 */\n",
       "  display: inline-block !important;\n",
       "  position: relative;\n",
       "}\n",
       "\n",
       "#sk-container-id-6 div.sk-text-repr-fallback {\n",
       "  display: none;\n",
       "}\n",
       "\n",
       "div.sk-parallel-item,\n",
       "div.sk-serial,\n",
       "div.sk-item {\n",
       "  /* draw centered vertical line to link estimators */\n",
       "  background-image: linear-gradient(var(--sklearn-color-text-on-default-background), var(--sklearn-color-text-on-default-background));\n",
       "  background-size: 2px 100%;\n",
       "  background-repeat: no-repeat;\n",
       "  background-position: center center;\n",
       "}\n",
       "\n",
       "/* Parallel-specific style estimator block */\n",
       "\n",
       "#sk-container-id-6 div.sk-parallel-item::after {\n",
       "  content: \"\";\n",
       "  width: 100%;\n",
       "  border-bottom: 2px solid var(--sklearn-color-text-on-default-background);\n",
       "  flex-grow: 1;\n",
       "}\n",
       "\n",
       "#sk-container-id-6 div.sk-parallel {\n",
       "  display: flex;\n",
       "  align-items: stretch;\n",
       "  justify-content: center;\n",
       "  background-color: var(--sklearn-color-background);\n",
       "  position: relative;\n",
       "}\n",
       "\n",
       "#sk-container-id-6 div.sk-parallel-item {\n",
       "  display: flex;\n",
       "  flex-direction: column;\n",
       "}\n",
       "\n",
       "#sk-container-id-6 div.sk-parallel-item:first-child::after {\n",
       "  align-self: flex-end;\n",
       "  width: 50%;\n",
       "}\n",
       "\n",
       "#sk-container-id-6 div.sk-parallel-item:last-child::after {\n",
       "  align-self: flex-start;\n",
       "  width: 50%;\n",
       "}\n",
       "\n",
       "#sk-container-id-6 div.sk-parallel-item:only-child::after {\n",
       "  width: 0;\n",
       "}\n",
       "\n",
       "/* Serial-specific style estimator block */\n",
       "\n",
       "#sk-container-id-6 div.sk-serial {\n",
       "  display: flex;\n",
       "  flex-direction: column;\n",
       "  align-items: center;\n",
       "  background-color: var(--sklearn-color-background);\n",
       "  padding-right: 1em;\n",
       "  padding-left: 1em;\n",
       "}\n",
       "\n",
       "\n",
       "/* Toggleable style: style used for estimator/Pipeline/ColumnTransformer box that is\n",
       "clickable and can be expanded/collapsed.\n",
       "- Pipeline and ColumnTransformer use this feature and define the default style\n",
       "- Estimators will overwrite some part of the style using the `sk-estimator` class\n",
       "*/\n",
       "\n",
       "/* Pipeline and ColumnTransformer style (default) */\n",
       "\n",
       "#sk-container-id-6 div.sk-toggleable {\n",
       "  /* Default theme specific background. It is overwritten whether we have a\n",
       "  specific estimator or a Pipeline/ColumnTransformer */\n",
       "  background-color: var(--sklearn-color-background);\n",
       "}\n",
       "\n",
       "/* Toggleable label */\n",
       "#sk-container-id-6 label.sk-toggleable__label {\n",
       "  cursor: pointer;\n",
       "  display: block;\n",
       "  width: 100%;\n",
       "  margin-bottom: 0;\n",
       "  padding: 0.5em;\n",
       "  box-sizing: border-box;\n",
       "  text-align: center;\n",
       "}\n",
       "\n",
       "#sk-container-id-6 label.sk-toggleable__label-arrow:before {\n",
       "  /* Arrow on the left of the label */\n",
       "  content: \"▸\";\n",
       "  float: left;\n",
       "  margin-right: 0.25em;\n",
       "  color: var(--sklearn-color-icon);\n",
       "}\n",
       "\n",
       "#sk-container-id-6 label.sk-toggleable__label-arrow:hover:before {\n",
       "  color: var(--sklearn-color-text);\n",
       "}\n",
       "\n",
       "/* Toggleable content - dropdown */\n",
       "\n",
       "#sk-container-id-6 div.sk-toggleable__content {\n",
       "  max-height: 0;\n",
       "  max-width: 0;\n",
       "  overflow: hidden;\n",
       "  text-align: left;\n",
       "  /* unfitted */\n",
       "  background-color: var(--sklearn-color-unfitted-level-0);\n",
       "}\n",
       "\n",
       "#sk-container-id-6 div.sk-toggleable__content.fitted {\n",
       "  /* fitted */\n",
       "  background-color: var(--sklearn-color-fitted-level-0);\n",
       "}\n",
       "\n",
       "#sk-container-id-6 div.sk-toggleable__content pre {\n",
       "  margin: 0.2em;\n",
       "  border-radius: 0.25em;\n",
       "  color: var(--sklearn-color-text);\n",
       "  /* unfitted */\n",
       "  background-color: var(--sklearn-color-unfitted-level-0);\n",
       "}\n",
       "\n",
       "#sk-container-id-6 div.sk-toggleable__content.fitted pre {\n",
       "  /* unfitted */\n",
       "  background-color: var(--sklearn-color-fitted-level-0);\n",
       "}\n",
       "\n",
       "#sk-container-id-6 input.sk-toggleable__control:checked~div.sk-toggleable__content {\n",
       "  /* Expand drop-down */\n",
       "  max-height: 200px;\n",
       "  max-width: 100%;\n",
       "  overflow: auto;\n",
       "}\n",
       "\n",
       "#sk-container-id-6 input.sk-toggleable__control:checked~label.sk-toggleable__label-arrow:before {\n",
       "  content: \"▾\";\n",
       "}\n",
       "\n",
       "/* Pipeline/ColumnTransformer-specific style */\n",
       "\n",
       "#sk-container-id-6 div.sk-label input.sk-toggleable__control:checked~label.sk-toggleable__label {\n",
       "  color: var(--sklearn-color-text);\n",
       "  background-color: var(--sklearn-color-unfitted-level-2);\n",
       "}\n",
       "\n",
       "#sk-container-id-6 div.sk-label.fitted input.sk-toggleable__control:checked~label.sk-toggleable__label {\n",
       "  background-color: var(--sklearn-color-fitted-level-2);\n",
       "}\n",
       "\n",
       "/* Estimator-specific style */\n",
       "\n",
       "/* Colorize estimator box */\n",
       "#sk-container-id-6 div.sk-estimator input.sk-toggleable__control:checked~label.sk-toggleable__label {\n",
       "  /* unfitted */\n",
       "  background-color: var(--sklearn-color-unfitted-level-2);\n",
       "}\n",
       "\n",
       "#sk-container-id-6 div.sk-estimator.fitted input.sk-toggleable__control:checked~label.sk-toggleable__label {\n",
       "  /* fitted */\n",
       "  background-color: var(--sklearn-color-fitted-level-2);\n",
       "}\n",
       "\n",
       "#sk-container-id-6 div.sk-label label.sk-toggleable__label,\n",
       "#sk-container-id-6 div.sk-label label {\n",
       "  /* The background is the default theme color */\n",
       "  color: var(--sklearn-color-text-on-default-background);\n",
       "}\n",
       "\n",
       "/* On hover, darken the color of the background */\n",
       "#sk-container-id-6 div.sk-label:hover label.sk-toggleable__label {\n",
       "  color: var(--sklearn-color-text);\n",
       "  background-color: var(--sklearn-color-unfitted-level-2);\n",
       "}\n",
       "\n",
       "/* Label box, darken color on hover, fitted */\n",
       "#sk-container-id-6 div.sk-label.fitted:hover label.sk-toggleable__label.fitted {\n",
       "  color: var(--sklearn-color-text);\n",
       "  background-color: var(--sklearn-color-fitted-level-2);\n",
       "}\n",
       "\n",
       "/* Estimator label */\n",
       "\n",
       "#sk-container-id-6 div.sk-label label {\n",
       "  font-family: monospace;\n",
       "  font-weight: bold;\n",
       "  display: inline-block;\n",
       "  line-height: 1.2em;\n",
       "}\n",
       "\n",
       "#sk-container-id-6 div.sk-label-container {\n",
       "  text-align: center;\n",
       "}\n",
       "\n",
       "/* Estimator-specific */\n",
       "#sk-container-id-6 div.sk-estimator {\n",
       "  font-family: monospace;\n",
       "  border: 1px dotted var(--sklearn-color-border-box);\n",
       "  border-radius: 0.25em;\n",
       "  box-sizing: border-box;\n",
       "  margin-bottom: 0.5em;\n",
       "  /* unfitted */\n",
       "  background-color: var(--sklearn-color-unfitted-level-0);\n",
       "}\n",
       "\n",
       "#sk-container-id-6 div.sk-estimator.fitted {\n",
       "  /* fitted */\n",
       "  background-color: var(--sklearn-color-fitted-level-0);\n",
       "}\n",
       "\n",
       "/* on hover */\n",
       "#sk-container-id-6 div.sk-estimator:hover {\n",
       "  /* unfitted */\n",
       "  background-color: var(--sklearn-color-unfitted-level-2);\n",
       "}\n",
       "\n",
       "#sk-container-id-6 div.sk-estimator.fitted:hover {\n",
       "  /* fitted */\n",
       "  background-color: var(--sklearn-color-fitted-level-2);\n",
       "}\n",
       "\n",
       "/* Specification for estimator info (e.g. \"i\" and \"?\") */\n",
       "\n",
       "/* Common style for \"i\" and \"?\" */\n",
       "\n",
       ".sk-estimator-doc-link,\n",
       "a:link.sk-estimator-doc-link,\n",
       "a:visited.sk-estimator-doc-link {\n",
       "  float: right;\n",
       "  font-size: smaller;\n",
       "  line-height: 1em;\n",
       "  font-family: monospace;\n",
       "  background-color: var(--sklearn-color-background);\n",
       "  border-radius: 1em;\n",
       "  height: 1em;\n",
       "  width: 1em;\n",
       "  text-decoration: none !important;\n",
       "  margin-left: 1ex;\n",
       "  /* unfitted */\n",
       "  border: var(--sklearn-color-unfitted-level-1) 1pt solid;\n",
       "  color: var(--sklearn-color-unfitted-level-1);\n",
       "}\n",
       "\n",
       ".sk-estimator-doc-link.fitted,\n",
       "a:link.sk-estimator-doc-link.fitted,\n",
       "a:visited.sk-estimator-doc-link.fitted {\n",
       "  /* fitted */\n",
       "  border: var(--sklearn-color-fitted-level-1) 1pt solid;\n",
       "  color: var(--sklearn-color-fitted-level-1);\n",
       "}\n",
       "\n",
       "/* On hover */\n",
       "div.sk-estimator:hover .sk-estimator-doc-link:hover,\n",
       ".sk-estimator-doc-link:hover,\n",
       "div.sk-label-container:hover .sk-estimator-doc-link:hover,\n",
       ".sk-estimator-doc-link:hover {\n",
       "  /* unfitted */\n",
       "  background-color: var(--sklearn-color-unfitted-level-3);\n",
       "  color: var(--sklearn-color-background);\n",
       "  text-decoration: none;\n",
       "}\n",
       "\n",
       "div.sk-estimator.fitted:hover .sk-estimator-doc-link.fitted:hover,\n",
       ".sk-estimator-doc-link.fitted:hover,\n",
       "div.sk-label-container:hover .sk-estimator-doc-link.fitted:hover,\n",
       ".sk-estimator-doc-link.fitted:hover {\n",
       "  /* fitted */\n",
       "  background-color: var(--sklearn-color-fitted-level-3);\n",
       "  color: var(--sklearn-color-background);\n",
       "  text-decoration: none;\n",
       "}\n",
       "\n",
       "/* Span, style for the box shown on hovering the info icon */\n",
       ".sk-estimator-doc-link span {\n",
       "  display: none;\n",
       "  z-index: 9999;\n",
       "  position: relative;\n",
       "  font-weight: normal;\n",
       "  right: .2ex;\n",
       "  padding: .5ex;\n",
       "  margin: .5ex;\n",
       "  width: min-content;\n",
       "  min-width: 20ex;\n",
       "  max-width: 50ex;\n",
       "  color: var(--sklearn-color-text);\n",
       "  box-shadow: 2pt 2pt 4pt #999;\n",
       "  /* unfitted */\n",
       "  background: var(--sklearn-color-unfitted-level-0);\n",
       "  border: .5pt solid var(--sklearn-color-unfitted-level-3);\n",
       "}\n",
       "\n",
       ".sk-estimator-doc-link.fitted span {\n",
       "  /* fitted */\n",
       "  background: var(--sklearn-color-fitted-level-0);\n",
       "  border: var(--sklearn-color-fitted-level-3);\n",
       "}\n",
       "\n",
       ".sk-estimator-doc-link:hover span {\n",
       "  display: block;\n",
       "}\n",
       "\n",
       "/* \"?\"-specific style due to the `<a>` HTML tag */\n",
       "\n",
       "#sk-container-id-6 a.estimator_doc_link {\n",
       "  float: right;\n",
       "  font-size: 1rem;\n",
       "  line-height: 1em;\n",
       "  font-family: monospace;\n",
       "  background-color: var(--sklearn-color-background);\n",
       "  border-radius: 1rem;\n",
       "  height: 1rem;\n",
       "  width: 1rem;\n",
       "  text-decoration: none;\n",
       "  /* unfitted */\n",
       "  color: var(--sklearn-color-unfitted-level-1);\n",
       "  border: var(--sklearn-color-unfitted-level-1) 1pt solid;\n",
       "}\n",
       "\n",
       "#sk-container-id-6 a.estimator_doc_link.fitted {\n",
       "  /* fitted */\n",
       "  border: var(--sklearn-color-fitted-level-1) 1pt solid;\n",
       "  color: var(--sklearn-color-fitted-level-1);\n",
       "}\n",
       "\n",
       "/* On hover */\n",
       "#sk-container-id-6 a.estimator_doc_link:hover {\n",
       "  /* unfitted */\n",
       "  background-color: var(--sklearn-color-unfitted-level-3);\n",
       "  color: var(--sklearn-color-background);\n",
       "  text-decoration: none;\n",
       "}\n",
       "\n",
       "#sk-container-id-6 a.estimator_doc_link.fitted:hover {\n",
       "  /* fitted */\n",
       "  background-color: var(--sklearn-color-fitted-level-3);\n",
       "}\n",
       "</style><div id=\"sk-container-id-6\" class=\"sk-top-container\"><div class=\"sk-text-repr-fallback\"><pre>GaussianHMM(n_components=2, n_iter=1000)</pre><b>In a Jupyter environment, please rerun this cell to show the HTML representation or trust the notebook. <br />On GitHub, the HTML representation is unable to render, please try loading this page with nbviewer.org.</b></div><div class=\"sk-container\" hidden><div class=\"sk-item\"><div class=\"sk-estimator fitted sk-toggleable\"><input class=\"sk-toggleable__control sk-hidden--visually\" id=\"sk-estimator-id-6\" type=\"checkbox\" checked><label for=\"sk-estimator-id-6\" class=\"sk-toggleable__label fitted sk-toggleable__label-arrow fitted\">&nbsp;GaussianHMM<span class=\"sk-estimator-doc-link fitted\">i<span>Fitted</span></span></label><div class=\"sk-toggleable__content fitted\"><pre>GaussianHMM(n_components=2, n_iter=1000)</pre></div> </div></div></div></div>"
      ],
      "text/plain": [
       "GaussianHMM(n_components=2, n_iter=1000)"
      ]
     },
     "execution_count": 213,
     "metadata": {},
     "output_type": "execute_result"
    }
   ],
   "source": [
    "model.fit(observations)"
   ]
  },
  {
   "cell_type": "code",
   "execution_count": 214,
   "id": "e3fb6766-d5e0-43d0-b15a-8492152c4bfa",
   "metadata": {},
   "outputs": [],
   "source": [
    "hidden_states = model.predict(observations)"
   ]
  },
  {
   "cell_type": "code",
   "execution_count": 177,
   "id": "cb90629f-8f8c-45ad-aed4-8bcdc8c41014",
   "metadata": {},
   "outputs": [
    {
     "data": {
      "image/png": "[encoded data removed]",
      "text/plain": [
       "<Figure size 1200x600 with 1 Axes>"
      ]
     },
     "metadata": {},
     "output_type": "display_data"
    }
   ],
   "source": [
    "# Tạo một biểu đồ đường cho cột giá trị số thực\n",
    "plt.figure(figsize=(12, 6))\n",
    "\n",
    "# Vẽ biểu đồ đường với màu sắc dựa trên giá trị số nguyên\n",
    "for i in range(len(data) - 1):\n",
    "    plt.plot(df.index[i:i+2], df['4'][i:i+2], color='slategray' if hidden_states[i] == 0 else 'indigo')\n",
    "\n",
    "# Thiết lập nhãn và tiêu đề\n",
    "plt.xlabel('Time')\n",
    "plt.ylabel('Value')\n",
    "plt.title('Time Series with States')\n",
    "plt.show()"
   ]
  },
  {
   "cell_type": "code",
   "execution_count": 216,
   "id": "45c590bc-a316-436d-b296-dc6481099023",
   "metadata": {},
   "outputs": [
    {
     "data": {
      "image/png": "[encoded data removed]",
      "text/plain": [
       "<Figure size 1000x100 with 1 Axes>"
      ]
     },
     "metadata": {},
     "output_type": "display_data"
    }
   ],
   "source": [
    "state2color = {} \n",
    "state2color['0'] = 'slategray'\n",
    "state2color['1'] = 'indigo'\n",
    "\n",
    "def plot_price(samples, state2color): \n",
    "    colors = [state2color[str(x)] for x in samples]\n",
    "    x = np.arange(0, len(colors))\n",
    "    y = np.ones(len(colors))\n",
    "    plt.figure(figsize=(10,1))\n",
    "    plt.bar(x, y, color=colors, width=1)\n",
    "    \n",
    "plot_price(hidden_states, state2color)"
   ]
  },
  {
   "cell_type": "code",
   "execution_count": 179,
   "id": "624276ed-9c94-4c39-be7d-17799a15c712",
   "metadata": {},
   "outputs": [],
   "source": [
    "transmat = np.array([[0.9, 0.1], \n",
    "                     [0.7, 0.3]])\n",
    "\n",
    "# Start probabilities for 2 states\n",
    "start_prob = np.array([0.6, 0.4])\n",
    "\n",
    "# Emission probabilities\n",
    "# Yellow and red have high probs for sunny \n",
    "# Blue and grey have high probs for cloudy \n",
    "# emission_probs = np.array([[0.4, 0.4, 0.1, 0.1], \n",
    "#                            [0.1, 0.1, 0.6, 0.2]])\n",
    "\n",
    "emission_probs = np.array([[0.4, 0.4, 0.1, 0.1], \n",
    "                           [0.1, 0.1, 0.6, 0.2]])\n",
    "\n",
    "# Create the HMM model with 2 states\n",
    "model = GaussianHMM(n_components=2, covariance_type=\"diag\", n_iter=1000)\n",
    "model.startprob_ = start_prob \n",
    "model.transmat_ = transmat \n",
    "model.emissionprob_ = emission_probs"
   ]
  },
  {
   "cell_type": "code",
   "execution_count": 113,
   "id": "3c0216cb-e22b-4cc5-ac1e-4d6faa55bc28",
   "metadata": {},
   "outputs": [
    {
     "name": "stderr",
     "output_type": "stream",
     "text": [
      "Even though the 'startprob_' attribute is set, it will be overwritten during initialization because 'init_params' contains 's'\n",
      "Even though the 'transmat_' attribute is set, it will be overwritten during initialization because 'init_params' contains 't'\n"
     ]
    },
    {
     "data": {
      "text/html": [
       "<style>#sk-container-id-3 {\n",
       "  /* Definition of color scheme common for light and dark mode */\n",
       "  --sklearn-color-text: black;\n",
       "  --sklearn-color-line: gray;\n",
       "  /* Definition of color scheme for unfitted estimators */\n",
       "  --sklearn-color-unfitted-level-0: #fff5e6;\n",
       "  --sklearn-color-unfitted-level-1: #f6e4d2;\n",
       "  --sklearn-color-unfitted-level-2: #ffe0b3;\n",
       "  --sklearn-color-unfitted-level-3: chocolate;\n",
       "  /* Definition of color scheme for fitted estimators */\n",
       "  --sklearn-color-fitted-level-0: #f0f8ff;\n",
       "  --sklearn-color-fitted-level-1: #d4ebff;\n",
       "  --sklearn-color-fitted-level-2: #b3dbfd;\n",
       "  --sklearn-color-fitted-level-3: cornflowerblue;\n",
       "\n",
       "  /* Specific color for light theme */\n",
       "  --sklearn-color-text-on-default-background: var(--sg-text-color, var(--theme-code-foreground, var(--jp-content-font-color1, black)));\n",
       "  --sklearn-color-background: var(--sg-background-color, var(--theme-background, var(--jp-layout-color0, white)));\n",
       "  --sklearn-color-border-box: var(--sg-text-color, var(--theme-code-foreground, var(--jp-content-font-color1, black)));\n",
       "  --sklearn-color-icon: #696969;\n",
       "\n",
       "  @media (prefers-color-scheme: dark) {\n",
       "    /* Redefinition of color scheme for dark theme */\n",
       "    --sklearn-color-text-on-default-background: var(--sg-text-color, var(--theme-code-foreground, var(--jp-content-font-color1, white)));\n",
       "    --sklearn-color-background: var(--sg-background-color, var(--theme-background, var(--jp-layout-color0, #111)));\n",
       "    --sklearn-color-border-box: var(--sg-text-color, var(--theme-code-foreground, var(--jp-content-font-color1, white)));\n",
       "    --sklearn-color-icon: #878787;\n",
       "  }\n",
       "}\n",
       "\n",
       "#sk-container-id-3 {\n",
       "  color: var(--sklearn-color-text);\n",
       "}\n",
       "\n",
       "#sk-container-id-3 pre {\n",
       "  padding: 0;\n",
       "}\n",
       "\n",
       "#sk-container-id-3 input.sk-hidden--visually {\n",
       "  border: 0;\n",
       "  clip: rect(1px 1px 1px 1px);\n",
       "  clip: rect(1px, 1px, 1px, 1px);\n",
       "  height: 1px;\n",
       "  margin: -1px;\n",
       "  overflow: hidden;\n",
       "  padding: 0;\n",
       "  position: absolute;\n",
       "  width: 1px;\n",
       "}\n",
       "\n",
       "#sk-container-id-3 div.sk-dashed-wrapped {\n",
       "  border: 1px dashed var(--sklearn-color-line);\n",
       "  margin: 0 0.4em 0.5em 0.4em;\n",
       "  box-sizing: border-box;\n",
       "  padding-bottom: 0.4em;\n",
       "  background-color: var(--sklearn-color-background);\n",
       "}\n",
       "\n",
       "#sk-container-id-3 div.sk-container {\n",
       "  /* jupyter's `normalize.less` sets `[hidden] { display: none; }`\n",
       "     but bootstrap.min.css set `[hidden] { display: none !important; }`\n",
       "     so we also need the `!important` here to be able to override the\n",
       "     default hidden behavior on the sphinx rendered scikit-learn.org.\n",
       "     See: https://github.com/scikit-learn/scikit-learn/issues/21755 */\n",
       "  display: inline-block !important;\n",
       "  position: relative;\n",
       "}\n",
       "\n",
       "#sk-container-id-3 div.sk-text-repr-fallback {\n",
       "  display: none;\n",
       "}\n",
       "\n",
       "div.sk-parallel-item,\n",
       "div.sk-serial,\n",
       "div.sk-item {\n",
       "  /* draw centered vertical line to link estimators */\n",
       "  background-image: linear-gradient(var(--sklearn-color-text-on-default-background), var(--sklearn-color-text-on-default-background));\n",
       "  background-size: 2px 100%;\n",
       "  background-repeat: no-repeat;\n",
       "  background-position: center center;\n",
       "}\n",
       "\n",
       "/* Parallel-specific style estimator block */\n",
       "\n",
       "#sk-container-id-3 div.sk-parallel-item::after {\n",
       "  content: \"\";\n",
       "  width: 100%;\n",
       "  border-bottom: 2px solid var(--sklearn-color-text-on-default-background);\n",
       "  flex-grow: 1;\n",
       "}\n",
       "\n",
       "#sk-container-id-3 div.sk-parallel {\n",
       "  display: flex;\n",
       "  align-items: stretch;\n",
       "  justify-content: center;\n",
       "  background-color: var(--sklearn-color-background);\n",
       "  position: relative;\n",
       "}\n",
       "\n",
       "#sk-container-id-3 div.sk-parallel-item {\n",
       "  display: flex;\n",
       "  flex-direction: column;\n",
       "}\n",
       "\n",
       "#sk-container-id-3 div.sk-parallel-item:first-child::after {\n",
       "  align-self: flex-end;\n",
       "  width: 50%;\n",
       "}\n",
       "\n",
       "#sk-container-id-3 div.sk-parallel-item:last-child::after {\n",
       "  align-self: flex-start;\n",
       "  width: 50%;\n",
       "}\n",
       "\n",
       "#sk-container-id-3 div.sk-parallel-item:only-child::after {\n",
       "  width: 0;\n",
       "}\n",
       "\n",
       "/* Serial-specific style estimator block */\n",
       "\n",
       "#sk-container-id-3 div.sk-serial {\n",
       "  display: flex;\n",
       "  flex-direction: column;\n",
       "  align-items: center;\n",
       "  background-color: var(--sklearn-color-background);\n",
       "  padding-right: 1em;\n",
       "  padding-left: 1em;\n",
       "}\n",
       "\n",
       "\n",
       "/* Toggleable style: style used for estimator/Pipeline/ColumnTransformer box that is\n",
       "clickable and can be expanded/collapsed.\n",
       "- Pipeline and ColumnTransformer use this feature and define the default style\n",
       "- Estimators will overwrite some part of the style using the `sk-estimator` class\n",
       "*/\n",
       "\n",
       "/* Pipeline and ColumnTransformer style (default) */\n",
       "\n",
       "#sk-container-id-3 div.sk-toggleable {\n",
       "  /* Default theme specific background. It is overwritten whether we have a\n",
       "  specific estimator or a Pipeline/ColumnTransformer */\n",
       "  background-color: var(--sklearn-color-background);\n",
       "}\n",
       "\n",
       "/* Toggleable label */\n",
       "#sk-container-id-3 label.sk-toggleable__label {\n",
       "  cursor: pointer;\n",
       "  display: block;\n",
       "  width: 100%;\n",
       "  margin-bottom: 0;\n",
       "  padding: 0.5em;\n",
       "  box-sizing: border-box;\n",
       "  text-align: center;\n",
       "}\n",
       "\n",
       "#sk-container-id-3 label.sk-toggleable__label-arrow:before {\n",
       "  /* Arrow on the left of the label */\n",
       "  content: \"▸\";\n",
       "  float: left;\n",
       "  margin-right: 0.25em;\n",
       "  color: var(--sklearn-color-icon);\n",
       "}\n",
       "\n",
       "#sk-container-id-3 label.sk-toggleable__label-arrow:hover:before {\n",
       "  color: var(--sklearn-color-text);\n",
       "}\n",
       "\n",
       "/* Toggleable content - dropdown */\n",
       "\n",
       "#sk-container-id-3 div.sk-toggleable__content {\n",
       "  max-height: 0;\n",
       "  max-width: 0;\n",
       "  overflow: hidden;\n",
       "  text-align: left;\n",
       "  /* unfitted */\n",
       "  background-color: var(--sklearn-color-unfitted-level-0);\n",
       "}\n",
       "\n",
       "#sk-container-id-3 div.sk-toggleable__content.fitted {\n",
       "  /* fitted */\n",
       "  background-color: var(--sklearn-color-fitted-level-0);\n",
       "}\n",
       "\n",
       "#sk-container-id-3 div.sk-toggleable__content pre {\n",
       "  margin: 0.2em;\n",
       "  border-radius: 0.25em;\n",
       "  color: var(--sklearn-color-text);\n",
       "  /* unfitted */\n",
       "  background-color: var(--sklearn-color-unfitted-level-0);\n",
       "}\n",
       "\n",
       "#sk-container-id-3 div.sk-toggleable__content.fitted pre {\n",
       "  /* unfitted */\n",
       "  background-color: var(--sklearn-color-fitted-level-0);\n",
       "}\n",
       "\n",
       "#sk-container-id-3 input.sk-toggleable__control:checked~div.sk-toggleable__content {\n",
       "  /* Expand drop-down */\n",
       "  max-height: 200px;\n",
       "  max-width: 100%;\n",
       "  overflow: auto;\n",
       "}\n",
       "\n",
       "#sk-container-id-3 input.sk-toggleable__control:checked~label.sk-toggleable__label-arrow:before {\n",
       "  content: \"▾\";\n",
       "}\n",
       "\n",
       "/* Pipeline/ColumnTransformer-specific style */\n",
       "\n",
       "#sk-container-id-3 div.sk-label input.sk-toggleable__control:checked~label.sk-toggleable__label {\n",
       "  color: var(--sklearn-color-text);\n",
       "  background-color: var(--sklearn-color-unfitted-level-2);\n",
       "}\n",
       "\n",
       "#sk-container-id-3 div.sk-label.fitted input.sk-toggleable__control:checked~label.sk-toggleable__label {\n",
       "  background-color: var(--sklearn-color-fitted-level-2);\n",
       "}\n",
       "\n",
       "/* Estimator-specific style */\n",
       "\n",
       "/* Colorize estimator box */\n",
       "#sk-container-id-3 div.sk-estimator input.sk-toggleable__control:checked~label.sk-toggleable__label {\n",
       "  /* unfitted */\n",
       "  background-color: var(--sklearn-color-unfitted-level-2);\n",
       "}\n",
       "\n",
       "#sk-container-id-3 div.sk-estimator.fitted input.sk-toggleable__control:checked~label.sk-toggleable__label {\n",
       "  /* fitted */\n",
       "  background-color: var(--sklearn-color-fitted-level-2);\n",
       "}\n",
       "\n",
       "#sk-container-id-3 div.sk-label label.sk-toggleable__label,\n",
       "#sk-container-id-3 div.sk-label label {\n",
       "  /* The background is the default theme color */\n",
       "  color: var(--sklearn-color-text-on-default-background);\n",
       "}\n",
       "\n",
       "/* On hover, darken the color of the background */\n",
       "#sk-container-id-3 div.sk-label:hover label.sk-toggleable__label {\n",
       "  color: var(--sklearn-color-text);\n",
       "  background-color: var(--sklearn-color-unfitted-level-2);\n",
       "}\n",
       "\n",
       "/* Label box, darken color on hover, fitted */\n",
       "#sk-container-id-3 div.sk-label.fitted:hover label.sk-toggleable__label.fitted {\n",
       "  color: var(--sklearn-color-text);\n",
       "  background-color: var(--sklearn-color-fitted-level-2);\n",
       "}\n",
       "\n",
       "/* Estimator label */\n",
       "\n",
       "#sk-container-id-3 div.sk-label label {\n",
       "  font-family: monospace;\n",
       "  font-weight: bold;\n",
       "  display: inline-block;\n",
       "  line-height: 1.2em;\n",
       "}\n",
       "\n",
       "#sk-container-id-3 div.sk-label-container {\n",
       "  text-align: center;\n",
       "}\n",
       "\n",
       "/* Estimator-specific */\n",
       "#sk-container-id-3 div.sk-estimator {\n",
       "  font-family: monospace;\n",
       "  border: 1px dotted var(--sklearn-color-border-box);\n",
       "  border-radius: 0.25em;\n",
       "  box-sizing: border-box;\n",
       "  margin-bottom: 0.5em;\n",
       "  /* unfitted */\n",
       "  background-color: var(--sklearn-color-unfitted-level-0);\n",
       "}\n",
       "\n",
       "#sk-container-id-3 div.sk-estimator.fitted {\n",
       "  /* fitted */\n",
       "  background-color: var(--sklearn-color-fitted-level-0);\n",
       "}\n",
       "\n",
       "/* on hover */\n",
       "#sk-container-id-3 div.sk-estimator:hover {\n",
       "  /* unfitted */\n",
       "  background-color: var(--sklearn-color-unfitted-level-2);\n",
       "}\n",
       "\n",
       "#sk-container-id-3 div.sk-estimator.fitted:hover {\n",
       "  /* fitted */\n",
       "  background-color: var(--sklearn-color-fitted-level-2);\n",
       "}\n",
       "\n",
       "/* Specification for estimator info (e.g. \"i\" and \"?\") */\n",
       "\n",
       "/* Common style for \"i\" and \"?\" */\n",
       "\n",
       ".sk-estimator-doc-link,\n",
       "a:link.sk-estimator-doc-link,\n",
       "a:visited.sk-estimator-doc-link {\n",
       "  float: right;\n",
       "  font-size: smaller;\n",
       "  line-height: 1em;\n",
       "  font-family: monospace;\n",
       "  background-color: var(--sklearn-color-background);\n",
       "  border-radius: 1em;\n",
       "  height: 1em;\n",
       "  width: 1em;\n",
       "  text-decoration: none !important;\n",
       "  margin-left: 1ex;\n",
       "  /* unfitted */\n",
       "  border: var(--sklearn-color-unfitted-level-1) 1pt solid;\n",
       "  color: var(--sklearn-color-unfitted-level-1);\n",
       "}\n",
       "\n",
       ".sk-estimator-doc-link.fitted,\n",
       "a:link.sk-estimator-doc-link.fitted,\n",
       "a:visited.sk-estimator-doc-link.fitted {\n",
       "  /* fitted */\n",
       "  border: var(--sklearn-color-fitted-level-1) 1pt solid;\n",
       "  color: var(--sklearn-color-fitted-level-1);\n",
       "}\n",
       "\n",
       "/* On hover */\n",
       "div.sk-estimator:hover .sk-estimator-doc-link:hover,\n",
       ".sk-estimator-doc-link:hover,\n",
       "div.sk-label-container:hover .sk-estimator-doc-link:hover,\n",
       ".sk-estimator-doc-link:hover {\n",
       "  /* unfitted */\n",
       "  background-color: var(--sklearn-color-unfitted-level-3);\n",
       "  color: var(--sklearn-color-background);\n",
       "  text-decoration: none;\n",
       "}\n",
       "\n",
       "div.sk-estimator.fitted:hover .sk-estimator-doc-link.fitted:hover,\n",
       ".sk-estimator-doc-link.fitted:hover,\n",
       "div.sk-label-container:hover .sk-estimator-doc-link.fitted:hover,\n",
       ".sk-estimator-doc-link.fitted:hover {\n",
       "  /* fitted */\n",
       "  background-color: var(--sklearn-color-fitted-level-3);\n",
       "  color: var(--sklearn-color-background);\n",
       "  text-decoration: none;\n",
       "}\n",
       "\n",
       "/* Span, style for the box shown on hovering the info icon */\n",
       ".sk-estimator-doc-link span {\n",
       "  display: none;\n",
       "  z-index: 9999;\n",
       "  position: relative;\n",
       "  font-weight: normal;\n",
       "  right: .2ex;\n",
       "  padding: .5ex;\n",
       "  margin: .5ex;\n",
       "  width: min-content;\n",
       "  min-width: 20ex;\n",
       "  max-width: 50ex;\n",
       "  color: var(--sklearn-color-text);\n",
       "  box-shadow: 2pt 2pt 4pt #999;\n",
       "  /* unfitted */\n",
       "  background: var(--sklearn-color-unfitted-level-0);\n",
       "  border: .5pt solid var(--sklearn-color-unfitted-level-3);\n",
       "}\n",
       "\n",
       ".sk-estimator-doc-link.fitted span {\n",
       "  /* fitted */\n",
       "  background: var(--sklearn-color-fitted-level-0);\n",
       "  border: var(--sklearn-color-fitted-level-3);\n",
       "}\n",
       "\n",
       ".sk-estimator-doc-link:hover span {\n",
       "  display: block;\n",
       "}\n",
       "\n",
       "/* \"?\"-specific style due to the `<a>` HTML tag */\n",
       "\n",
       "#sk-container-id-3 a.estimator_doc_link {\n",
       "  float: right;\n",
       "  font-size: 1rem;\n",
       "  line-height: 1em;\n",
       "  font-family: monospace;\n",
       "  background-color: var(--sklearn-color-background);\n",
       "  border-radius: 1rem;\n",
       "  height: 1rem;\n",
       "  width: 1rem;\n",
       "  text-decoration: none;\n",
       "  /* unfitted */\n",
       "  color: var(--sklearn-color-unfitted-level-1);\n",
       "  border: var(--sklearn-color-unfitted-level-1) 1pt solid;\n",
       "}\n",
       "\n",
       "#sk-container-id-3 a.estimator_doc_link.fitted {\n",
       "  /* fitted */\n",
       "  border: var(--sklearn-color-fitted-level-1) 1pt solid;\n",
       "  color: var(--sklearn-color-fitted-level-1);\n",
       "}\n",
       "\n",
       "/* On hover */\n",
       "#sk-container-id-3 a.estimator_doc_link:hover {\n",
       "  /* unfitted */\n",
       "  background-color: var(--sklearn-color-unfitted-level-3);\n",
       "  color: var(--sklearn-color-background);\n",
       "  text-decoration: none;\n",
       "}\n",
       "\n",
       "#sk-container-id-3 a.estimator_doc_link.fitted:hover {\n",
       "  /* fitted */\n",
       "  background-color: var(--sklearn-color-fitted-level-3);\n",
       "}\n",
       "</style><div id=\"sk-container-id-3\" class=\"sk-top-container\"><div class=\"sk-text-repr-fallback\"><pre>GaussianHMM(n_components=2, n_iter=1000)</pre><b>In a Jupyter environment, please rerun this cell to show the HTML representation or trust the notebook. <br />On GitHub, the HTML representation is unable to render, please try loading this page with nbviewer.org.</b></div><div class=\"sk-container\" hidden><div class=\"sk-item\"><div class=\"sk-estimator fitted sk-toggleable\"><input class=\"sk-toggleable__control sk-hidden--visually\" id=\"sk-estimator-id-3\" type=\"checkbox\" checked><label for=\"sk-estimator-id-3\" class=\"sk-toggleable__label fitted sk-toggleable__label-arrow fitted\">&nbsp;GaussianHMM<span class=\"sk-estimator-doc-link fitted\">i<span>Fitted</span></span></label><div class=\"sk-toggleable__content fitted\"><pre>GaussianHMM(n_components=2, n_iter=1000)</pre></div> </div></div></div></div>"
      ],
      "text/plain": [
       "GaussianHMM(n_components=2, n_iter=1000)"
      ]
     },
     "execution_count": 113,
     "metadata": {},
     "output_type": "execute_result"
    }
   ],
   "source": [
    "model.fit(observations)"
   ]
  },
  {
   "cell_type": "code",
   "execution_count": 114,
   "id": "eac804ec-b649-4d17-abc2-1ea376fd6930",
   "metadata": {},
   "outputs": [],
   "source": [
    "hidden_states = model.predict(observations)"
   ]
  },
  {
   "cell_type": "code",
   "execution_count": 115,
   "id": "3700a2a2-01e3-4d82-8047-493250db524d",
   "metadata": {},
   "outputs": [
    {
     "data": {
      "text/plain": [
       "array([0, 0, 0, 0, 0, 0, 0, 0, 0, 0, 0, 0, 0, 0, 0, 0, 0, 0, 0, 0, 0, 0,\n",
       "       0, 0, 0, 0, 0, 0, 0, 0, 0, 0, 0, 0, 0, 0, 0, 0, 0, 0, 0, 0, 0, 0,\n",
       "       0, 0, 0, 0, 0, 0, 0, 0, 0, 0, 0, 0, 0, 0, 0, 0, 0, 0, 0, 0, 0, 0,\n",
       "       0, 0, 0, 0, 0, 0, 0, 0, 0, 0, 0, 0, 0, 0, 0, 0, 0, 0, 0, 0, 0, 0,\n",
       "       0, 0, 0, 0, 0, 0, 0, 0, 0, 0, 0, 0, 0, 0, 0, 0, 0, 0, 0, 0, 0, 0,\n",
       "       0, 0, 0, 0, 0, 0, 0, 0, 0, 0, 0, 0, 0, 0, 0, 0, 0, 0, 0, 0, 0, 0,\n",
       "       0, 0, 0, 0, 0, 0, 0, 0, 0, 0, 0, 0, 0, 0, 0, 0, 0, 0, 0, 0, 0, 0,\n",
       "       0, 0, 0, 0, 0, 0, 0, 0, 0, 0, 0, 0, 0, 0, 0, 0, 0, 0, 0, 0, 0, 0,\n",
       "       0, 0, 0, 0, 0, 0, 0, 0, 0, 0, 0, 0, 0, 0, 0, 0, 0, 0, 0, 0, 0, 0,\n",
       "       0, 0, 1, 1, 1, 1, 1, 0, 1, 1, 1, 0, 0, 0, 0, 0, 0, 0, 0, 0, 0, 0,\n",
       "       0, 1, 1, 1, 1, 1, 1, 1, 1, 1, 1, 1, 1, 0, 0, 1, 1, 0, 0, 0, 0, 0,\n",
       "       0, 0, 0, 0, 0, 0, 0, 0, 0, 0, 1, 0, 0, 0, 0, 0, 0, 0, 0, 0, 0, 0,\n",
       "       0, 0, 0, 0, 0, 0, 0, 0, 0, 0, 0, 0, 0, 0, 0, 0, 0, 0, 0, 0, 0, 0,\n",
       "       0, 0, 0, 0, 0, 0, 0, 0, 0, 0, 0, 0, 0, 0, 0, 0, 0, 0, 0, 0, 0, 0,\n",
       "       0, 0, 0, 0, 0, 0, 0, 0, 0, 0, 0, 0, 0, 0, 0, 0, 0, 0, 0, 0, 0, 0,\n",
       "       0, 0, 0, 0, 0, 0, 0, 0, 0, 0, 0, 0, 0, 0, 0, 0, 0, 0, 0, 0, 0, 0,\n",
       "       0, 0, 0, 0, 0, 0, 0, 0, 0, 0, 0, 0, 0], dtype=int64)"
      ]
     },
     "execution_count": 115,
     "metadata": {},
     "output_type": "execute_result"
    }
   ],
   "source": [
    "hidden_states"
   ]
  },
  {
   "cell_type": "code",
   "execution_count": 116,
   "id": "25ab5748-8075-4f4a-8c21-ebf1afe2ee61",
   "metadata": {},
   "outputs": [
    {
     "data": {
      "image/png": "[encoded data removed]",
      "text/plain": [
       "<Figure size 1000x100 with 1 Axes>"
      ]
     },
     "metadata": {},
     "output_type": "display_data"
    }
   ],
   "source": [
    "plot_price(hidden_states, state2color)"
   ]
  },
  {
   "cell_type": "code",
   "execution_count": null,
   "id": "5e2ac38f-2b9c-4023-b596-aed000470714",
   "metadata": {},
   "outputs": [],
   "source": []
  }
 ],
 "metadata": {
  "kernelspec": {
   "display_name": "Python 3 (ipykernel)",
   "language": "python",
   "name": "python3"
  },
  "language_info": {
   "codemirror_mode": {
    "name": "ipython",
    "version": 3
   },
   "file_extension": ".py",
   "mimetype": "text/x-python",
   "name": "python",
   "nbconvert_exporter": "python",
   "pygments_lexer": "ipython3",
   "version": "3.11.9"
  }
 },
 "nbformat": 4,
 "nbformat_minor": 5
}
